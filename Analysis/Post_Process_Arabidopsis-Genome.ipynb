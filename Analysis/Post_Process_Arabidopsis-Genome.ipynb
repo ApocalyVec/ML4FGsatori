{
 "cells": [
  {
   "cell_type": "markdown",
   "metadata": {},
   "source": [
    "## Imports"
   ]
  },
  {
   "cell_type": "code",
   "execution_count": 1,
   "metadata": {},
   "outputs": [],
   "source": [
    "import pandas as pd\n",
    "import sys\n",
    "\n",
    "sys.path.insert(0,'../')\n",
    "\n",
    "from postprocess import *"
   ]
  },
  {
   "cell_type": "markdown",
   "metadata": {},
   "source": [
    "## Interaction data processing"
   ]
  },
  {
   "cell_type": "code",
   "execution_count": 29,
   "metadata": {},
   "outputs": [],
   "source": [
    "# For SATORI based interactions\n",
    "#df = pd.read_csv('../Results/Arabidopsis_GenomeWide_Analysis_euclidean_v8/Interactions_SATORI/interactions_summary_attnLimit-0.12.txt',sep='\\t')\n",
    "\n",
    "# For FIS based interactions\n",
    "df = pd.read_csv('../Results/Arabidopsis_GenomeWide_Analysis_euclidean_v8/Interactions_FIS/interactions_summary_attnLimit-0.txt',sep='\\t')"
   ]
  },
  {
   "cell_type": "markdown",
   "metadata": {},
   "source": [
    "### Filter based on interaction and motif hit p-values, and keep the most significant interactions"
   ]
  },
  {
   "cell_type": "code",
   "execution_count": 30,
   "metadata": {},
   "outputs": [],
   "source": [
    "df = filter_data_on_thresholds(df, motifA_pval_cutoff=0.05, motifB_pval_cutoff=0.05)"
   ]
  },
  {
   "cell_type": "code",
   "execution_count": 31,
   "metadata": {},
   "outputs": [
    {
     "data": {
      "text/plain": [
       "(1813, 12)"
      ]
     },
     "execution_count": 31,
     "metadata": {},
     "output_type": "execute_result"
    }
   ],
   "source": [
    "df.shape"
   ]
  },
  {
   "cell_type": "code",
   "execution_count": 32,
   "metadata": {},
   "outputs": [
    {
     "data": {
      "text/html": [
       "<div>\n",
       "<style scoped>\n",
       "    .dataframe tbody tr th:only-of-type {\n",
       "        vertical-align: middle;\n",
       "    }\n",
       "\n",
       "    .dataframe tbody tr th {\n",
       "        vertical-align: top;\n",
       "    }\n",
       "\n",
       "    .dataframe thead th {\n",
       "        text-align: right;\n",
       "    }\n",
       "</style>\n",
       "<table border=\"1\" class=\"dataframe\">\n",
       "  <thead>\n",
       "    <tr style=\"text-align: right;\">\n",
       "      <th></th>\n",
       "      <th>filter_interaction</th>\n",
       "      <th>example_no</th>\n",
       "      <th>motif1</th>\n",
       "      <th>motif1_qval</th>\n",
       "      <th>motif2</th>\n",
       "      <th>motif2_qval</th>\n",
       "      <th>mean_distance</th>\n",
       "      <th>mean_distance_bg</th>\n",
       "      <th>num_obs</th>\n",
       "      <th>num_obs_bg</th>\n",
       "      <th>pval</th>\n",
       "      <th>adjusted_pval</th>\n",
       "    </tr>\n",
       "  </thead>\n",
       "  <tbody>\n",
       "    <tr>\n",
       "      <td>5</td>\n",
       "      <td>filter0&lt;--&gt;filter12</td>\n",
       "      <td>11</td>\n",
       "      <td>TCP_tnt.TCP1_col_a_m1</td>\n",
       "      <td>0.021108</td>\n",
       "      <td>G2like_tnt.AT2G40260_colamp_a_m1</td>\n",
       "      <td>0.010394</td>\n",
       "      <td>260.0</td>\n",
       "      <td>356.0</td>\n",
       "      <td>373.0</td>\n",
       "      <td>670.0</td>\n",
       "      <td>0.000007</td>\n",
       "      <td>0.000090</td>\n",
       "    </tr>\n",
       "    <tr>\n",
       "      <td>34</td>\n",
       "      <td>filter0&lt;--&gt;filter72</td>\n",
       "      <td>71</td>\n",
       "      <td>TCP_tnt.TCP1_col_a_m1</td>\n",
       "      <td>0.021108</td>\n",
       "      <td>C2C2dof_tnt.AT1G69570_colamp_a_m1</td>\n",
       "      <td>0.020346</td>\n",
       "      <td>49.0</td>\n",
       "      <td>152.0</td>\n",
       "      <td>561.0</td>\n",
       "      <td>781.0</td>\n",
       "      <td>0.010985</td>\n",
       "      <td>0.036801</td>\n",
       "    </tr>\n",
       "    <tr>\n",
       "      <td>38</td>\n",
       "      <td>filter0&lt;--&gt;filter80</td>\n",
       "      <td>79</td>\n",
       "      <td>TCP_tnt.TCP1_col_a_m1</td>\n",
       "      <td>0.021108</td>\n",
       "      <td>C2C2dof_tnt.At4g38000_col_a_m1</td>\n",
       "      <td>0.005174</td>\n",
       "      <td>141.0</td>\n",
       "      <td>16.0</td>\n",
       "      <td>562.0</td>\n",
       "      <td>917.0</td>\n",
       "      <td>0.000084</td>\n",
       "      <td>0.000688</td>\n",
       "    </tr>\n",
       "    <tr>\n",
       "      <td>40</td>\n",
       "      <td>filter0&lt;--&gt;filter82</td>\n",
       "      <td>81</td>\n",
       "      <td>TCP_tnt.TCP1_col_a_m1</td>\n",
       "      <td>0.021108</td>\n",
       "      <td>G2like_tnt.AT2G40260_colamp_a_m1</td>\n",
       "      <td>0.013146</td>\n",
       "      <td>67.0</td>\n",
       "      <td>33.0</td>\n",
       "      <td>689.0</td>\n",
       "      <td>1029.0</td>\n",
       "      <td>0.000934</td>\n",
       "      <td>0.004880</td>\n",
       "    </tr>\n",
       "    <tr>\n",
       "      <td>47</td>\n",
       "      <td>filter0&lt;--&gt;filter94</td>\n",
       "      <td>93</td>\n",
       "      <td>TCP_tnt.TCP1_col_a_m1</td>\n",
       "      <td>0.021108</td>\n",
       "      <td>Trihelix_tnt.AT1G76880_col_a_m1</td>\n",
       "      <td>0.041459</td>\n",
       "      <td>273.0</td>\n",
       "      <td>490.0</td>\n",
       "      <td>625.0</td>\n",
       "      <td>1022.0</td>\n",
       "      <td>0.008024</td>\n",
       "      <td>0.028323</td>\n",
       "    </tr>\n",
       "  </tbody>\n",
       "</table>\n",
       "</div>"
      ],
      "text/plain": [
       "     filter_interaction  example_no                 motif1  motif1_qval  \\\n",
       "5   filter0<-->filter12          11  TCP_tnt.TCP1_col_a_m1     0.021108   \n",
       "34  filter0<-->filter72          71  TCP_tnt.TCP1_col_a_m1     0.021108   \n",
       "38  filter0<-->filter80          79  TCP_tnt.TCP1_col_a_m1     0.021108   \n",
       "40  filter0<-->filter82          81  TCP_tnt.TCP1_col_a_m1     0.021108   \n",
       "47  filter0<-->filter94          93  TCP_tnt.TCP1_col_a_m1     0.021108   \n",
       "\n",
       "                               motif2  motif2_qval  mean_distance  \\\n",
       "5    G2like_tnt.AT2G40260_colamp_a_m1     0.010394          260.0   \n",
       "34  C2C2dof_tnt.AT1G69570_colamp_a_m1     0.020346           49.0   \n",
       "38     C2C2dof_tnt.At4g38000_col_a_m1     0.005174          141.0   \n",
       "40   G2like_tnt.AT2G40260_colamp_a_m1     0.013146           67.0   \n",
       "47    Trihelix_tnt.AT1G76880_col_a_m1     0.041459          273.0   \n",
       "\n",
       "    mean_distance_bg  num_obs  num_obs_bg      pval  adjusted_pval  \n",
       "5              356.0    373.0       670.0  0.000007       0.000090  \n",
       "34             152.0    561.0       781.0  0.010985       0.036801  \n",
       "38              16.0    562.0       917.0  0.000084       0.000688  \n",
       "40              33.0    689.0      1029.0  0.000934       0.004880  \n",
       "47             490.0    625.0      1022.0  0.008024       0.028323  "
      ]
     },
     "execution_count": 32,
     "metadata": {},
     "output_type": "execute_result"
    }
   ],
   "source": [
    "df.head()"
   ]
  },
  {
   "cell_type": "markdown",
   "metadata": {},
   "source": [
    "### Annotate the interacting motifs"
   ]
  },
  {
   "cell_type": "code",
   "execution_count": 33,
   "metadata": {},
   "outputs": [],
   "source": [
    "df['TF1'] = df['motif1'].apply(lambda x: x.split('_')[1].strip('.tnt'))\n",
    "df['TF2'] = df['motif2'].apply(lambda x: x.split('_')[1].strip('.tnt'))"
   ]
  },
  {
   "cell_type": "code",
   "execution_count": 34,
   "metadata": {
    "scrolled": true
   },
   "outputs": [
    {
     "data": {
      "text/html": [
       "<div>\n",
       "<style scoped>\n",
       "    .dataframe tbody tr th:only-of-type {\n",
       "        vertical-align: middle;\n",
       "    }\n",
       "\n",
       "    .dataframe tbody tr th {\n",
       "        vertical-align: top;\n",
       "    }\n",
       "\n",
       "    .dataframe thead th {\n",
       "        text-align: right;\n",
       "    }\n",
       "</style>\n",
       "<table border=\"1\" class=\"dataframe\">\n",
       "  <thead>\n",
       "    <tr style=\"text-align: right;\">\n",
       "      <th></th>\n",
       "      <th>filter_interaction</th>\n",
       "      <th>example_no</th>\n",
       "      <th>motif1</th>\n",
       "      <th>motif1_qval</th>\n",
       "      <th>motif2</th>\n",
       "      <th>motif2_qval</th>\n",
       "      <th>mean_distance</th>\n",
       "      <th>mean_distance_bg</th>\n",
       "      <th>num_obs</th>\n",
       "      <th>num_obs_bg</th>\n",
       "      <th>pval</th>\n",
       "      <th>adjusted_pval</th>\n",
       "      <th>TF1</th>\n",
       "      <th>TF2</th>\n",
       "    </tr>\n",
       "  </thead>\n",
       "  <tbody>\n",
       "    <tr>\n",
       "      <td>5</td>\n",
       "      <td>filter0&lt;--&gt;filter12</td>\n",
       "      <td>11</td>\n",
       "      <td>TCP_tnt.TCP1_col_a_m1</td>\n",
       "      <td>0.021108</td>\n",
       "      <td>G2like_tnt.AT2G40260_colamp_a_m1</td>\n",
       "      <td>0.010394</td>\n",
       "      <td>260.0</td>\n",
       "      <td>356.0</td>\n",
       "      <td>373.0</td>\n",
       "      <td>670.0</td>\n",
       "      <td>0.000007</td>\n",
       "      <td>0.000090</td>\n",
       "      <td>TCP1</td>\n",
       "      <td>AT2G40260</td>\n",
       "    </tr>\n",
       "    <tr>\n",
       "      <td>34</td>\n",
       "      <td>filter0&lt;--&gt;filter72</td>\n",
       "      <td>71</td>\n",
       "      <td>TCP_tnt.TCP1_col_a_m1</td>\n",
       "      <td>0.021108</td>\n",
       "      <td>C2C2dof_tnt.AT1G69570_colamp_a_m1</td>\n",
       "      <td>0.020346</td>\n",
       "      <td>49.0</td>\n",
       "      <td>152.0</td>\n",
       "      <td>561.0</td>\n",
       "      <td>781.0</td>\n",
       "      <td>0.010985</td>\n",
       "      <td>0.036801</td>\n",
       "      <td>TCP1</td>\n",
       "      <td>AT1G69570</td>\n",
       "    </tr>\n",
       "    <tr>\n",
       "      <td>38</td>\n",
       "      <td>filter0&lt;--&gt;filter80</td>\n",
       "      <td>79</td>\n",
       "      <td>TCP_tnt.TCP1_col_a_m1</td>\n",
       "      <td>0.021108</td>\n",
       "      <td>C2C2dof_tnt.At4g38000_col_a_m1</td>\n",
       "      <td>0.005174</td>\n",
       "      <td>141.0</td>\n",
       "      <td>16.0</td>\n",
       "      <td>562.0</td>\n",
       "      <td>917.0</td>\n",
       "      <td>0.000084</td>\n",
       "      <td>0.000688</td>\n",
       "      <td>TCP1</td>\n",
       "      <td>At4g38000</td>\n",
       "    </tr>\n",
       "    <tr>\n",
       "      <td>40</td>\n",
       "      <td>filter0&lt;--&gt;filter82</td>\n",
       "      <td>81</td>\n",
       "      <td>TCP_tnt.TCP1_col_a_m1</td>\n",
       "      <td>0.021108</td>\n",
       "      <td>G2like_tnt.AT2G40260_colamp_a_m1</td>\n",
       "      <td>0.013146</td>\n",
       "      <td>67.0</td>\n",
       "      <td>33.0</td>\n",
       "      <td>689.0</td>\n",
       "      <td>1029.0</td>\n",
       "      <td>0.000934</td>\n",
       "      <td>0.004880</td>\n",
       "      <td>TCP1</td>\n",
       "      <td>AT2G40260</td>\n",
       "    </tr>\n",
       "    <tr>\n",
       "      <td>47</td>\n",
       "      <td>filter0&lt;--&gt;filter94</td>\n",
       "      <td>93</td>\n",
       "      <td>TCP_tnt.TCP1_col_a_m1</td>\n",
       "      <td>0.021108</td>\n",
       "      <td>Trihelix_tnt.AT1G76880_col_a_m1</td>\n",
       "      <td>0.041459</td>\n",
       "      <td>273.0</td>\n",
       "      <td>490.0</td>\n",
       "      <td>625.0</td>\n",
       "      <td>1022.0</td>\n",
       "      <td>0.008024</td>\n",
       "      <td>0.028323</td>\n",
       "      <td>TCP1</td>\n",
       "      <td>AT1G76880</td>\n",
       "    </tr>\n",
       "  </tbody>\n",
       "</table>\n",
       "</div>"
      ],
      "text/plain": [
       "     filter_interaction  example_no                 motif1  motif1_qval  \\\n",
       "5   filter0<-->filter12          11  TCP_tnt.TCP1_col_a_m1     0.021108   \n",
       "34  filter0<-->filter72          71  TCP_tnt.TCP1_col_a_m1     0.021108   \n",
       "38  filter0<-->filter80          79  TCP_tnt.TCP1_col_a_m1     0.021108   \n",
       "40  filter0<-->filter82          81  TCP_tnt.TCP1_col_a_m1     0.021108   \n",
       "47  filter0<-->filter94          93  TCP_tnt.TCP1_col_a_m1     0.021108   \n",
       "\n",
       "                               motif2  motif2_qval  mean_distance  \\\n",
       "5    G2like_tnt.AT2G40260_colamp_a_m1     0.010394          260.0   \n",
       "34  C2C2dof_tnt.AT1G69570_colamp_a_m1     0.020346           49.0   \n",
       "38     C2C2dof_tnt.At4g38000_col_a_m1     0.005174          141.0   \n",
       "40   G2like_tnt.AT2G40260_colamp_a_m1     0.013146           67.0   \n",
       "47    Trihelix_tnt.AT1G76880_col_a_m1     0.041459          273.0   \n",
       "\n",
       "    mean_distance_bg  num_obs  num_obs_bg      pval  adjusted_pval   TF1  \\\n",
       "5              356.0    373.0       670.0  0.000007       0.000090  TCP1   \n",
       "34             152.0    561.0       781.0  0.010985       0.036801  TCP1   \n",
       "38              16.0    562.0       917.0  0.000084       0.000688  TCP1   \n",
       "40              33.0    689.0      1029.0  0.000934       0.004880  TCP1   \n",
       "47             490.0    625.0      1022.0  0.008024       0.028323  TCP1   \n",
       "\n",
       "          TF2  \n",
       "5   AT2G40260  \n",
       "34  AT1G69570  \n",
       "38  At4g38000  \n",
       "40  AT2G40260  \n",
       "47  AT1G76880  "
      ]
     },
     "execution_count": 34,
     "metadata": {},
     "output_type": "execute_result"
    }
   ],
   "source": [
    "df.head()"
   ]
  },
  {
   "cell_type": "code",
   "execution_count": 35,
   "metadata": {},
   "outputs": [],
   "source": [
    "df['TF_Interaction'] = df.apply(lambda x: x['TF1']+r'$\\longleftrightarrow$'+x['TF2'], axis=1)"
   ]
  },
  {
   "cell_type": "markdown",
   "metadata": {},
   "source": [
    "### Drop same motif interactions"
   ]
  },
  {
   "cell_type": "code",
   "execution_count": 36,
   "metadata": {},
   "outputs": [],
   "source": [
    "df = df[df['TF1']!=df['TF2']]"
   ]
  },
  {
   "cell_type": "code",
   "execution_count": 37,
   "metadata": {},
   "outputs": [
    {
     "data": {
      "text/plain": [
       "(1648, 15)"
      ]
     },
     "execution_count": 37,
     "metadata": {},
     "output_type": "execute_result"
    }
   ],
   "source": [
    "df.shape"
   ]
  },
  {
   "cell_type": "code",
   "execution_count": 38,
   "metadata": {},
   "outputs": [],
   "source": [
    "df = df.reset_index(drop=True)"
   ]
  },
  {
   "cell_type": "markdown",
   "metadata": {},
   "source": [
    "### Fix redundant interaction pairs"
   ]
  },
  {
   "cell_type": "code",
   "execution_count": 39,
   "metadata": {},
   "outputs": [],
   "source": [
    "df = process_for_redundant_interactions(df, intr_type='TF')"
   ]
  },
  {
   "cell_type": "code",
   "execution_count": 40,
   "metadata": {},
   "outputs": [
    {
     "data": {
      "text/html": [
       "<div>\n",
       "<style scoped>\n",
       "    .dataframe tbody tr th:only-of-type {\n",
       "        vertical-align: middle;\n",
       "    }\n",
       "\n",
       "    .dataframe tbody tr th {\n",
       "        vertical-align: top;\n",
       "    }\n",
       "\n",
       "    .dataframe thead th {\n",
       "        text-align: right;\n",
       "    }\n",
       "</style>\n",
       "<table border=\"1\" class=\"dataframe\">\n",
       "  <thead>\n",
       "    <tr style=\"text-align: right;\">\n",
       "      <th></th>\n",
       "      <th>filter_interaction</th>\n",
       "      <th>example_no</th>\n",
       "      <th>motif1</th>\n",
       "      <th>motif1_qval</th>\n",
       "      <th>motif2</th>\n",
       "      <th>motif2_qval</th>\n",
       "      <th>mean_distance</th>\n",
       "      <th>mean_distance_bg</th>\n",
       "      <th>num_obs</th>\n",
       "      <th>num_obs_bg</th>\n",
       "      <th>pval</th>\n",
       "      <th>adjusted_pval</th>\n",
       "      <th>TF1</th>\n",
       "      <th>TF2</th>\n",
       "      <th>TF_Interaction</th>\n",
       "    </tr>\n",
       "  </thead>\n",
       "  <tbody>\n",
       "    <tr>\n",
       "      <td>0</td>\n",
       "      <td>filter0&lt;--&gt;filter12</td>\n",
       "      <td>11</td>\n",
       "      <td>TCP_tnt.TCP1_col_a_m1</td>\n",
       "      <td>0.021108</td>\n",
       "      <td>G2like_tnt.AT2G40260_colamp_a_m1</td>\n",
       "      <td>0.010394</td>\n",
       "      <td>260.0</td>\n",
       "      <td>356.0</td>\n",
       "      <td>373.0</td>\n",
       "      <td>670.0</td>\n",
       "      <td>0.000007</td>\n",
       "      <td>0.000090</td>\n",
       "      <td>TCP1</td>\n",
       "      <td>AT2G40260</td>\n",
       "      <td>TCP1$\\longleftrightarrow$AT2G40260</td>\n",
       "    </tr>\n",
       "    <tr>\n",
       "      <td>1</td>\n",
       "      <td>filter0&lt;--&gt;filter72</td>\n",
       "      <td>71</td>\n",
       "      <td>TCP_tnt.TCP1_col_a_m1</td>\n",
       "      <td>0.021108</td>\n",
       "      <td>C2C2dof_tnt.AT1G69570_colamp_a_m1</td>\n",
       "      <td>0.020346</td>\n",
       "      <td>49.0</td>\n",
       "      <td>152.0</td>\n",
       "      <td>561.0</td>\n",
       "      <td>781.0</td>\n",
       "      <td>0.010985</td>\n",
       "      <td>0.036801</td>\n",
       "      <td>TCP1</td>\n",
       "      <td>AT1G69570</td>\n",
       "      <td>TCP1$\\longleftrightarrow$AT1G69570</td>\n",
       "    </tr>\n",
       "    <tr>\n",
       "      <td>2</td>\n",
       "      <td>filter0&lt;--&gt;filter80</td>\n",
       "      <td>79</td>\n",
       "      <td>TCP_tnt.TCP1_col_a_m1</td>\n",
       "      <td>0.021108</td>\n",
       "      <td>C2C2dof_tnt.At4g38000_col_a_m1</td>\n",
       "      <td>0.005174</td>\n",
       "      <td>141.0</td>\n",
       "      <td>16.0</td>\n",
       "      <td>562.0</td>\n",
       "      <td>917.0</td>\n",
       "      <td>0.000084</td>\n",
       "      <td>0.000688</td>\n",
       "      <td>TCP1</td>\n",
       "      <td>At4g38000</td>\n",
       "      <td>TCP1$\\longleftrightarrow$At4g38000</td>\n",
       "    </tr>\n",
       "    <tr>\n",
       "      <td>3</td>\n",
       "      <td>filter0&lt;--&gt;filter82</td>\n",
       "      <td>81</td>\n",
       "      <td>TCP_tnt.TCP1_col_a_m1</td>\n",
       "      <td>0.021108</td>\n",
       "      <td>G2like_tnt.AT2G40260_colamp_a_m1</td>\n",
       "      <td>0.013146</td>\n",
       "      <td>67.0</td>\n",
       "      <td>33.0</td>\n",
       "      <td>689.0</td>\n",
       "      <td>1029.0</td>\n",
       "      <td>0.000934</td>\n",
       "      <td>0.004880</td>\n",
       "      <td>TCP1</td>\n",
       "      <td>AT2G40260</td>\n",
       "      <td>TCP1$\\longleftrightarrow$AT2G40260</td>\n",
       "    </tr>\n",
       "    <tr>\n",
       "      <td>4</td>\n",
       "      <td>filter0&lt;--&gt;filter94</td>\n",
       "      <td>93</td>\n",
       "      <td>TCP_tnt.TCP1_col_a_m1</td>\n",
       "      <td>0.021108</td>\n",
       "      <td>Trihelix_tnt.AT1G76880_col_a_m1</td>\n",
       "      <td>0.041459</td>\n",
       "      <td>273.0</td>\n",
       "      <td>490.0</td>\n",
       "      <td>625.0</td>\n",
       "      <td>1022.0</td>\n",
       "      <td>0.008024</td>\n",
       "      <td>0.028323</td>\n",
       "      <td>TCP1</td>\n",
       "      <td>AT1G76880</td>\n",
       "      <td>TCP1$\\longleftrightarrow$AT1G76880</td>\n",
       "    </tr>\n",
       "  </tbody>\n",
       "</table>\n",
       "</div>"
      ],
      "text/plain": [
       "    filter_interaction  example_no                 motif1  motif1_qval  \\\n",
       "0  filter0<-->filter12          11  TCP_tnt.TCP1_col_a_m1     0.021108   \n",
       "1  filter0<-->filter72          71  TCP_tnt.TCP1_col_a_m1     0.021108   \n",
       "2  filter0<-->filter80          79  TCP_tnt.TCP1_col_a_m1     0.021108   \n",
       "3  filter0<-->filter82          81  TCP_tnt.TCP1_col_a_m1     0.021108   \n",
       "4  filter0<-->filter94          93  TCP_tnt.TCP1_col_a_m1     0.021108   \n",
       "\n",
       "                              motif2  motif2_qval  mean_distance  \\\n",
       "0   G2like_tnt.AT2G40260_colamp_a_m1     0.010394          260.0   \n",
       "1  C2C2dof_tnt.AT1G69570_colamp_a_m1     0.020346           49.0   \n",
       "2     C2C2dof_tnt.At4g38000_col_a_m1     0.005174          141.0   \n",
       "3   G2like_tnt.AT2G40260_colamp_a_m1     0.013146           67.0   \n",
       "4    Trihelix_tnt.AT1G76880_col_a_m1     0.041459          273.0   \n",
       "\n",
       "   mean_distance_bg  num_obs  num_obs_bg      pval  adjusted_pval   TF1  \\\n",
       "0             356.0    373.0       670.0  0.000007       0.000090  TCP1   \n",
       "1             152.0    561.0       781.0  0.010985       0.036801  TCP1   \n",
       "2              16.0    562.0       917.0  0.000084       0.000688  TCP1   \n",
       "3              33.0    689.0      1029.0  0.000934       0.004880  TCP1   \n",
       "4             490.0    625.0      1022.0  0.008024       0.028323  TCP1   \n",
       "\n",
       "         TF2                      TF_Interaction  \n",
       "0  AT2G40260  TCP1$\\longleftrightarrow$AT2G40260  \n",
       "1  AT1G69570  TCP1$\\longleftrightarrow$AT1G69570  \n",
       "2  At4g38000  TCP1$\\longleftrightarrow$At4g38000  \n",
       "3  AT2G40260  TCP1$\\longleftrightarrow$AT2G40260  \n",
       "4  AT1G76880  TCP1$\\longleftrightarrow$AT1G76880  "
      ]
     },
     "execution_count": 40,
     "metadata": {},
     "output_type": "execute_result"
    }
   ],
   "source": [
    "df.head()"
   ]
  },
  {
   "cell_type": "code",
   "execution_count": 41,
   "metadata": {},
   "outputs": [
    {
     "data": {
      "text/plain": [
       "(1648, 15)"
      ]
     },
     "execution_count": 41,
     "metadata": {},
     "output_type": "execute_result"
    }
   ],
   "source": [
    "df.shape"
   ]
  },
  {
   "cell_type": "markdown",
   "metadata": {},
   "source": [
    "## Most Frequent TF Family Interactions"
   ]
  },
  {
   "cell_type": "code",
   "execution_count": 42,
   "metadata": {},
   "outputs": [],
   "source": [
    "df['TF1_Family'] = df['motif1'].apply(lambda x: x.split('_')[0])\n",
    "df['TF2_Family'] = df['motif2'].apply(lambda x: x.split('_')[0])"
   ]
  },
  {
   "cell_type": "code",
   "execution_count": 43,
   "metadata": {},
   "outputs": [],
   "source": [
    "df['Family_Interaction'] = df.apply(lambda x: x['TF1_Family']+r'$\\longleftrightarrow$'+x['TF2_Family'],axis=1)"
   ]
  },
  {
   "cell_type": "code",
   "execution_count": 44,
   "metadata": {},
   "outputs": [],
   "source": [
    "df = process_for_redundant_interactions(df, intr_type='Family')"
   ]
  },
  {
   "cell_type": "code",
   "execution_count": 45,
   "metadata": {},
   "outputs": [
    {
     "data": {
      "text/html": [
       "<div>\n",
       "<style scoped>\n",
       "    .dataframe tbody tr th:only-of-type {\n",
       "        vertical-align: middle;\n",
       "    }\n",
       "\n",
       "    .dataframe tbody tr th {\n",
       "        vertical-align: top;\n",
       "    }\n",
       "\n",
       "    .dataframe thead th {\n",
       "        text-align: right;\n",
       "    }\n",
       "</style>\n",
       "<table border=\"1\" class=\"dataframe\">\n",
       "  <thead>\n",
       "    <tr style=\"text-align: right;\">\n",
       "      <th></th>\n",
       "      <th>filter_interaction</th>\n",
       "      <th>example_no</th>\n",
       "      <th>motif1</th>\n",
       "      <th>motif1_qval</th>\n",
       "      <th>motif2</th>\n",
       "      <th>motif2_qval</th>\n",
       "      <th>mean_distance</th>\n",
       "      <th>mean_distance_bg</th>\n",
       "      <th>num_obs</th>\n",
       "      <th>num_obs_bg</th>\n",
       "      <th>pval</th>\n",
       "      <th>adjusted_pval</th>\n",
       "      <th>TF1</th>\n",
       "      <th>TF2</th>\n",
       "      <th>TF_Interaction</th>\n",
       "      <th>TF1_Family</th>\n",
       "      <th>TF2_Family</th>\n",
       "      <th>Family_Interaction</th>\n",
       "    </tr>\n",
       "  </thead>\n",
       "  <tbody>\n",
       "    <tr>\n",
       "      <td>0</td>\n",
       "      <td>filter0&lt;--&gt;filter12</td>\n",
       "      <td>11</td>\n",
       "      <td>TCP_tnt.TCP1_col_a_m1</td>\n",
       "      <td>0.021108</td>\n",
       "      <td>G2like_tnt.AT2G40260_colamp_a_m1</td>\n",
       "      <td>0.010394</td>\n",
       "      <td>260.0</td>\n",
       "      <td>356.0</td>\n",
       "      <td>373.0</td>\n",
       "      <td>670.0</td>\n",
       "      <td>0.000007</td>\n",
       "      <td>0.000090</td>\n",
       "      <td>TCP1</td>\n",
       "      <td>AT2G40260</td>\n",
       "      <td>TCP1$\\longleftrightarrow$AT2G40260</td>\n",
       "      <td>TCP</td>\n",
       "      <td>G2like</td>\n",
       "      <td>TCP$\\longleftrightarrow$G2like</td>\n",
       "    </tr>\n",
       "    <tr>\n",
       "      <td>1</td>\n",
       "      <td>filter0&lt;--&gt;filter72</td>\n",
       "      <td>71</td>\n",
       "      <td>TCP_tnt.TCP1_col_a_m1</td>\n",
       "      <td>0.021108</td>\n",
       "      <td>C2C2dof_tnt.AT1G69570_colamp_a_m1</td>\n",
       "      <td>0.020346</td>\n",
       "      <td>49.0</td>\n",
       "      <td>152.0</td>\n",
       "      <td>561.0</td>\n",
       "      <td>781.0</td>\n",
       "      <td>0.010985</td>\n",
       "      <td>0.036801</td>\n",
       "      <td>TCP1</td>\n",
       "      <td>AT1G69570</td>\n",
       "      <td>TCP1$\\longleftrightarrow$AT1G69570</td>\n",
       "      <td>TCP</td>\n",
       "      <td>C2C2dof</td>\n",
       "      <td>TCP$\\longleftrightarrow$C2C2dof</td>\n",
       "    </tr>\n",
       "    <tr>\n",
       "      <td>2</td>\n",
       "      <td>filter0&lt;--&gt;filter80</td>\n",
       "      <td>79</td>\n",
       "      <td>TCP_tnt.TCP1_col_a_m1</td>\n",
       "      <td>0.021108</td>\n",
       "      <td>C2C2dof_tnt.At4g38000_col_a_m1</td>\n",
       "      <td>0.005174</td>\n",
       "      <td>141.0</td>\n",
       "      <td>16.0</td>\n",
       "      <td>562.0</td>\n",
       "      <td>917.0</td>\n",
       "      <td>0.000084</td>\n",
       "      <td>0.000688</td>\n",
       "      <td>TCP1</td>\n",
       "      <td>At4g38000</td>\n",
       "      <td>TCP1$\\longleftrightarrow$At4g38000</td>\n",
       "      <td>TCP</td>\n",
       "      <td>C2C2dof</td>\n",
       "      <td>TCP$\\longleftrightarrow$C2C2dof</td>\n",
       "    </tr>\n",
       "    <tr>\n",
       "      <td>3</td>\n",
       "      <td>filter0&lt;--&gt;filter82</td>\n",
       "      <td>81</td>\n",
       "      <td>TCP_tnt.TCP1_col_a_m1</td>\n",
       "      <td>0.021108</td>\n",
       "      <td>G2like_tnt.AT2G40260_colamp_a_m1</td>\n",
       "      <td>0.013146</td>\n",
       "      <td>67.0</td>\n",
       "      <td>33.0</td>\n",
       "      <td>689.0</td>\n",
       "      <td>1029.0</td>\n",
       "      <td>0.000934</td>\n",
       "      <td>0.004880</td>\n",
       "      <td>TCP1</td>\n",
       "      <td>AT2G40260</td>\n",
       "      <td>TCP1$\\longleftrightarrow$AT2G40260</td>\n",
       "      <td>TCP</td>\n",
       "      <td>G2like</td>\n",
       "      <td>TCP$\\longleftrightarrow$G2like</td>\n",
       "    </tr>\n",
       "    <tr>\n",
       "      <td>4</td>\n",
       "      <td>filter0&lt;--&gt;filter94</td>\n",
       "      <td>93</td>\n",
       "      <td>TCP_tnt.TCP1_col_a_m1</td>\n",
       "      <td>0.021108</td>\n",
       "      <td>Trihelix_tnt.AT1G76880_col_a_m1</td>\n",
       "      <td>0.041459</td>\n",
       "      <td>273.0</td>\n",
       "      <td>490.0</td>\n",
       "      <td>625.0</td>\n",
       "      <td>1022.0</td>\n",
       "      <td>0.008024</td>\n",
       "      <td>0.028323</td>\n",
       "      <td>TCP1</td>\n",
       "      <td>AT1G76880</td>\n",
       "      <td>TCP1$\\longleftrightarrow$AT1G76880</td>\n",
       "      <td>TCP</td>\n",
       "      <td>Trihelix</td>\n",
       "      <td>TCP$\\longleftrightarrow$Trihelix</td>\n",
       "    </tr>\n",
       "  </tbody>\n",
       "</table>\n",
       "</div>"
      ],
      "text/plain": [
       "    filter_interaction  example_no                 motif1  motif1_qval  \\\n",
       "0  filter0<-->filter12          11  TCP_tnt.TCP1_col_a_m1     0.021108   \n",
       "1  filter0<-->filter72          71  TCP_tnt.TCP1_col_a_m1     0.021108   \n",
       "2  filter0<-->filter80          79  TCP_tnt.TCP1_col_a_m1     0.021108   \n",
       "3  filter0<-->filter82          81  TCP_tnt.TCP1_col_a_m1     0.021108   \n",
       "4  filter0<-->filter94          93  TCP_tnt.TCP1_col_a_m1     0.021108   \n",
       "\n",
       "                              motif2  motif2_qval  mean_distance  \\\n",
       "0   G2like_tnt.AT2G40260_colamp_a_m1     0.010394          260.0   \n",
       "1  C2C2dof_tnt.AT1G69570_colamp_a_m1     0.020346           49.0   \n",
       "2     C2C2dof_tnt.At4g38000_col_a_m1     0.005174          141.0   \n",
       "3   G2like_tnt.AT2G40260_colamp_a_m1     0.013146           67.0   \n",
       "4    Trihelix_tnt.AT1G76880_col_a_m1     0.041459          273.0   \n",
       "\n",
       "   mean_distance_bg  num_obs  num_obs_bg      pval  adjusted_pval   TF1  \\\n",
       "0             356.0    373.0       670.0  0.000007       0.000090  TCP1   \n",
       "1             152.0    561.0       781.0  0.010985       0.036801  TCP1   \n",
       "2              16.0    562.0       917.0  0.000084       0.000688  TCP1   \n",
       "3              33.0    689.0      1029.0  0.000934       0.004880  TCP1   \n",
       "4             490.0    625.0      1022.0  0.008024       0.028323  TCP1   \n",
       "\n",
       "         TF2                      TF_Interaction TF1_Family TF2_Family  \\\n",
       "0  AT2G40260  TCP1$\\longleftrightarrow$AT2G40260        TCP     G2like   \n",
       "1  AT1G69570  TCP1$\\longleftrightarrow$AT1G69570        TCP    C2C2dof   \n",
       "2  At4g38000  TCP1$\\longleftrightarrow$At4g38000        TCP    C2C2dof   \n",
       "3  AT2G40260  TCP1$\\longleftrightarrow$AT2G40260        TCP     G2like   \n",
       "4  AT1G76880  TCP1$\\longleftrightarrow$AT1G76880        TCP   Trihelix   \n",
       "\n",
       "                 Family_Interaction  \n",
       "0    TCP$\\longleftrightarrow$G2like  \n",
       "1   TCP$\\longleftrightarrow$C2C2dof  \n",
       "2   TCP$\\longleftrightarrow$C2C2dof  \n",
       "3    TCP$\\longleftrightarrow$G2like  \n",
       "4  TCP$\\longleftrightarrow$Trihelix  "
      ]
     },
     "execution_count": 45,
     "metadata": {},
     "output_type": "execute_result"
    }
   ],
   "source": [
    "df.head()"
   ]
  },
  {
   "cell_type": "markdown",
   "metadata": {},
   "source": [
    "### Distribution of individual TF or TF family interactions"
   ]
  },
  {
   "cell_type": "code",
   "execution_count": 46,
   "metadata": {
    "scrolled": false
   },
   "outputs": [
    {
     "data": {
      "image/png": "[encoded data removed]",
      "text/plain": [
       "<Figure size 1296x432 with 1 Axes>"
      ]
     },
     "metadata": {
      "needs_background": "light"
     },
     "output_type": "display_data"
    }
   ],
   "source": [
    "plot_frequent_interactions(df, intr_level='Family_Interaction', first_n=15)"
   ]
  },
  {
   "cell_type": "markdown",
   "metadata": {},
   "source": [
    "### Plot interaction distance distribution"
   ]
  },
  {
   "cell_type": "code",
   "execution_count": 47,
   "metadata": {
    "scrolled": false
   },
   "outputs": [
    {
     "data": {
      "image/png": "[encoded data removed]",
      "text/plain": [
       "<Figure size 576x432 with 1 Axes>"
      ]
     },
     "metadata": {
      "needs_background": "light"
     },
     "output_type": "display_data"
    }
   ],
   "source": [
    "plot_interaction_distance_distribution(df, nbins=50, fig_size=(8,6))"
   ]
  },
  {
   "cell_type": "markdown",
   "metadata": {},
   "source": [
    "### Most frequent interactions and their respective interaction distances"
   ]
  },
  {
   "cell_type": "code",
   "execution_count": 48,
   "metadata": {},
   "outputs": [
    {
     "data": {
      "image/png": "[encoded data removed]",
      "text/plain": [
       "<Figure size 1296x360 with 2 Axes>"
      ]
     },
     "metadata": {
      "needs_background": "light"
     },
     "output_type": "display_data"
    }
   ],
   "source": [
    "plot_interactions_and_distances_boxplot(df, first_n=15, sort_distances=False, add_sub_caption=True, show_mean_dist=True, dist_color='slateblue', cap_pos=[0.5, -0.89])"
   ]
  },
  {
   "cell_type": "code",
   "execution_count": 49,
   "metadata": {},
   "outputs": [
    {
     "data": {
      "image/png": "[encoded data removed]",
      "text/plain": [
       "<Figure size 1296x360 with 2 Axes>"
      ]
     },
     "metadata": {
      "needs_background": "light"
     },
     "output_type": "display_data"
    }
   ],
   "source": [
    "plot_interactions_and_distances_histogram(df, first_n=15, dist_nbins=25, add_sub_caption=True, show_mean_dist=True, dist_colors=['slateblue', 'darkkhaki'], cap_pos=[0.5, -0.89])"
   ]
  },
  {
   "cell_type": "code",
   "execution_count": null,
   "metadata": {},
   "outputs": [],
   "source": []
  }
 ],
 "metadata": {
  "kernelspec": {
   "display_name": "Python 3",
   "language": "python",
   "name": "python3"
  },
  "language_info": {
   "codemirror_mode": {
    "name": "ipython",
    "version": 3
   },
   "file_extension": ".py",
   "mimetype": "text/x-python",
   "name": "python",
   "nbconvert_exporter": "python",
   "pygments_lexer": "ipython3",
   "version": "3.7.3"
  }
 },
 "nbformat": 4,
 "nbformat_minor": 2
}
