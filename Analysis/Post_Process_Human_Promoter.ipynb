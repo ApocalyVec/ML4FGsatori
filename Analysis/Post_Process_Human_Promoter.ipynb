{
 "cells": [
  {
   "cell_type": "markdown",
   "metadata": {},
   "source": [
    "## Imports"
   ]
  },
  {
   "cell_type": "code",
   "execution_count": 1,
   "metadata": {},
   "outputs": [],
   "source": [
    "import pandas as pd\n",
    "import sys\n",
    "\n",
    "sys.path.insert(0,'../')\n",
    "\n",
    "from postprocess import *"
   ]
  },
  {
   "cell_type": "markdown",
   "metadata": {},
   "source": [
    "## Interaction data processing"
   ]
  },
  {
   "cell_type": "code",
   "execution_count": 39,
   "metadata": {},
   "outputs": [],
   "source": [
    "# For SATORI based interactions\n",
    "#df = pd.read_csv('../Results/Human_Promoter_Analysis_euclidean_v8_fixed/Interactions_SATORI/interactions_summary_attnLimit-0.04.txt',sep='\\t')\n",
    "\n",
    "# For FIS based interactions\n",
    "df = pd.read_csv('../Results/Human_Promoter_Analysis_euclidean_v8_fixed/Interactions_FIS/interactions_summary_attnLimit-0.txt',sep='\\t')"
   ]
  },
  {
   "cell_type": "markdown",
   "metadata": {},
   "source": [
    "### Filter based on interaction and motif hit p-values, and keep the most significant interactions"
   ]
  },
  {
   "cell_type": "code",
   "execution_count": 40,
   "metadata": {},
   "outputs": [],
   "source": [
    "df = filter_data_on_thresholds(df, motifA_pval_cutoff=0.05, motifB_pval_cutoff=0.05)"
   ]
  },
  {
   "cell_type": "code",
   "execution_count": 41,
   "metadata": {},
   "outputs": [
    {
     "data": {
      "text/plain": [
       "(1592, 12)"
      ]
     },
     "execution_count": 41,
     "metadata": {},
     "output_type": "execute_result"
    }
   ],
   "source": [
    "df.shape"
   ]
  },
  {
   "cell_type": "markdown",
   "metadata": {},
   "source": [
    "### Load the motif description file to annotate the interactions. \n",
    "Here we use CISBP (U toronto) motif description file. "
   ]
  },
  {
   "cell_type": "code",
   "execution_count": 42,
   "metadata": {},
   "outputs": [],
   "source": [
    "df_annotate = pd.read_csv('../../../Basset_Splicing_IR-iDiffIR/Analysis_For_none_network-typeB_lotus_posThresh-0.60/MEME_analysis/Homo_sapiens_2019_01_14_4_17_pm/TF_Information_all_motifs.txt',sep='\\t')"
   ]
  },
  {
   "cell_type": "code",
   "execution_count": 43,
   "metadata": {},
   "outputs": [
    {
     "data": {
      "text/html": [
       "<div>\n",
       "<style scoped>\n",
       "    .dataframe tbody tr th:only-of-type {\n",
       "        vertical-align: middle;\n",
       "    }\n",
       "\n",
       "    .dataframe tbody tr th {\n",
       "        vertical-align: top;\n",
       "    }\n",
       "\n",
       "    .dataframe thead th {\n",
       "        text-align: right;\n",
       "    }\n",
       "</style>\n",
       "<table border=\"1\" class=\"dataframe\">\n",
       "  <thead>\n",
       "    <tr style=\"text-align: right;\">\n",
       "      <th></th>\n",
       "      <th>TF_ID</th>\n",
       "      <th>Family_ID</th>\n",
       "      <th>TSource_ID</th>\n",
       "      <th>Motif_ID</th>\n",
       "      <th>MSource_ID</th>\n",
       "      <th>DBID</th>\n",
       "      <th>TF_Name</th>\n",
       "      <th>TF_Species</th>\n",
       "      <th>TF_Status</th>\n",
       "      <th>Family_Name</th>\n",
       "      <th>...</th>\n",
       "      <th>MSource_Type</th>\n",
       "      <th>MSource_Author</th>\n",
       "      <th>MSource_Year</th>\n",
       "      <th>PMID</th>\n",
       "      <th>MSource_Version</th>\n",
       "      <th>TfSource_Name</th>\n",
       "      <th>TfSource_URL</th>\n",
       "      <th>TfSource_Year</th>\n",
       "      <th>TfSource_Month</th>\n",
       "      <th>TfSource_Day</th>\n",
       "    </tr>\n",
       "  </thead>\n",
       "  <tbody>\n",
       "    <tr>\n",
       "      <td>0</td>\n",
       "      <td>T004843_1.02</td>\n",
       "      <td>F035_1.02</td>\n",
       "      <td>TS19_1.02</td>\n",
       "      <td>M2938_1.02</td>\n",
       "      <td>MS26_1.02</td>\n",
       "      <td>ENSG00000008196</td>\n",
       "      <td>TFAP2B</td>\n",
       "      <td>Homo_sapiens</td>\n",
       "      <td>D</td>\n",
       "      <td>AP-2</td>\n",
       "      <td>...</td>\n",
       "      <td>Transfac</td>\n",
       "      <td>Matys</td>\n",
       "      <td>2006</td>\n",
       "      <td>16381825</td>\n",
       "      <td>2014.2</td>\n",
       "      <td>Ensembl</td>\n",
       "      <td>http://www.ensembl.org/</td>\n",
       "      <td>2011</td>\n",
       "      <td>Oct</td>\n",
       "      <td>26</td>\n",
       "    </tr>\n",
       "    <tr>\n",
       "      <td>1</td>\n",
       "      <td>T004843_1.02</td>\n",
       "      <td>F035_1.02</td>\n",
       "      <td>TS19_1.02</td>\n",
       "      <td>M5917_1.02</td>\n",
       "      <td>MS20_1.02</td>\n",
       "      <td>ENSG00000008196</td>\n",
       "      <td>TFAP2B</td>\n",
       "      <td>Homo_sapiens</td>\n",
       "      <td>D</td>\n",
       "      <td>AP-2</td>\n",
       "      <td>...</td>\n",
       "      <td>SELEX</td>\n",
       "      <td>Jolma</td>\n",
       "      <td>2013</td>\n",
       "      <td>23332764</td>\n",
       "      <td>January 2013</td>\n",
       "      <td>Ensembl</td>\n",
       "      <td>http://www.ensembl.org/</td>\n",
       "      <td>2011</td>\n",
       "      <td>Oct</td>\n",
       "      <td>26</td>\n",
       "    </tr>\n",
       "    <tr>\n",
       "      <td>2</td>\n",
       "      <td>T004843_1.02</td>\n",
       "      <td>F035_1.02</td>\n",
       "      <td>TS19_1.02</td>\n",
       "      <td>M5918_1.02</td>\n",
       "      <td>MS20_1.02</td>\n",
       "      <td>ENSG00000008196</td>\n",
       "      <td>TFAP2B</td>\n",
       "      <td>Homo_sapiens</td>\n",
       "      <td>D</td>\n",
       "      <td>AP-2</td>\n",
       "      <td>...</td>\n",
       "      <td>SELEX</td>\n",
       "      <td>Jolma</td>\n",
       "      <td>2013</td>\n",
       "      <td>23332764</td>\n",
       "      <td>January 2013</td>\n",
       "      <td>Ensembl</td>\n",
       "      <td>http://www.ensembl.org/</td>\n",
       "      <td>2011</td>\n",
       "      <td>Oct</td>\n",
       "      <td>26</td>\n",
       "    </tr>\n",
       "    <tr>\n",
       "      <td>3</td>\n",
       "      <td>T004843_1.02</td>\n",
       "      <td>F035_1.02</td>\n",
       "      <td>TS19_1.02</td>\n",
       "      <td>M5919_1.02</td>\n",
       "      <td>MS20_1.02</td>\n",
       "      <td>ENSG00000008196</td>\n",
       "      <td>TFAP2B</td>\n",
       "      <td>Homo_sapiens</td>\n",
       "      <td>D</td>\n",
       "      <td>AP-2</td>\n",
       "      <td>...</td>\n",
       "      <td>SELEX</td>\n",
       "      <td>Jolma</td>\n",
       "      <td>2013</td>\n",
       "      <td>23332764</td>\n",
       "      <td>January 2013</td>\n",
       "      <td>Ensembl</td>\n",
       "      <td>http://www.ensembl.org/</td>\n",
       "      <td>2011</td>\n",
       "      <td>Oct</td>\n",
       "      <td>26</td>\n",
       "    </tr>\n",
       "    <tr>\n",
       "      <td>4</td>\n",
       "      <td>T004843_1.02</td>\n",
       "      <td>F035_1.02</td>\n",
       "      <td>TS19_1.02</td>\n",
       "      <td>M6144_1.02</td>\n",
       "      <td>MS18_1.02</td>\n",
       "      <td>ENSG00000008196</td>\n",
       "      <td>TFAP2B</td>\n",
       "      <td>Homo_sapiens</td>\n",
       "      <td>D</td>\n",
       "      <td>AP-2</td>\n",
       "      <td>...</td>\n",
       "      <td>HocoMoco</td>\n",
       "      <td>Kulakovskiy</td>\n",
       "      <td>2013</td>\n",
       "      <td>23175603</td>\n",
       "      <td>July 2014</td>\n",
       "      <td>Ensembl</td>\n",
       "      <td>http://www.ensembl.org/</td>\n",
       "      <td>2011</td>\n",
       "      <td>Oct</td>\n",
       "      <td>26</td>\n",
       "    </tr>\n",
       "  </tbody>\n",
       "</table>\n",
       "<p>5 rows × 26 columns</p>\n",
       "</div>"
      ],
      "text/plain": [
       "          TF_ID  Family_ID TSource_ID    Motif_ID MSource_ID             DBID  \\\n",
       "0  T004843_1.02  F035_1.02  TS19_1.02  M2938_1.02  MS26_1.02  ENSG00000008196   \n",
       "1  T004843_1.02  F035_1.02  TS19_1.02  M5917_1.02  MS20_1.02  ENSG00000008196   \n",
       "2  T004843_1.02  F035_1.02  TS19_1.02  M5918_1.02  MS20_1.02  ENSG00000008196   \n",
       "3  T004843_1.02  F035_1.02  TS19_1.02  M5919_1.02  MS20_1.02  ENSG00000008196   \n",
       "4  T004843_1.02  F035_1.02  TS19_1.02  M6144_1.02  MS18_1.02  ENSG00000008196   \n",
       "\n",
       "  TF_Name    TF_Species TF_Status Family_Name  ... MSource_Type  \\\n",
       "0  TFAP2B  Homo_sapiens         D        AP-2  ...     Transfac   \n",
       "1  TFAP2B  Homo_sapiens         D        AP-2  ...        SELEX   \n",
       "2  TFAP2B  Homo_sapiens         D        AP-2  ...        SELEX   \n",
       "3  TFAP2B  Homo_sapiens         D        AP-2  ...        SELEX   \n",
       "4  TFAP2B  Homo_sapiens         D        AP-2  ...     HocoMoco   \n",
       "\n",
       "   MSource_Author  MSource_Year      PMID MSource_Version TfSource_Name  \\\n",
       "0           Matys          2006  16381825          2014.2       Ensembl   \n",
       "1           Jolma          2013  23332764    January 2013       Ensembl   \n",
       "2           Jolma          2013  23332764    January 2013       Ensembl   \n",
       "3           Jolma          2013  23332764    January 2013       Ensembl   \n",
       "4     Kulakovskiy          2013  23175603       July 2014       Ensembl   \n",
       "\n",
       "              TfSource_URL TfSource_Year TfSource_Month TfSource_Day  \n",
       "0  http://www.ensembl.org/          2011            Oct           26  \n",
       "1  http://www.ensembl.org/          2011            Oct           26  \n",
       "2  http://www.ensembl.org/          2011            Oct           26  \n",
       "3  http://www.ensembl.org/          2011            Oct           26  \n",
       "4  http://www.ensembl.org/          2011            Oct           26  \n",
       "\n",
       "[5 rows x 26 columns]"
      ]
     },
     "execution_count": 43,
     "metadata": {},
     "output_type": "execute_result"
    }
   ],
   "source": [
    "df_annotate.head()"
   ]
  },
  {
   "cell_type": "markdown",
   "metadata": {},
   "source": [
    "### Annotate the interacting motifs"
   ]
  },
  {
   "cell_type": "code",
   "execution_count": 44,
   "metadata": {},
   "outputs": [],
   "source": [
    "df['TF1'] = df['motif1'].apply(get_annotation, annotation_data=df_annotate, single_TF=True)\n",
    "df['TF2'] = df['motif2'].apply(get_annotation, annotation_data=df_annotate, single_TF=True)"
   ]
  },
  {
   "cell_type": "code",
   "execution_count": 45,
   "metadata": {
    "scrolled": true
   },
   "outputs": [
    {
     "data": {
      "text/html": [
       "<div>\n",
       "<style scoped>\n",
       "    .dataframe tbody tr th:only-of-type {\n",
       "        vertical-align: middle;\n",
       "    }\n",
       "\n",
       "    .dataframe tbody tr th {\n",
       "        vertical-align: top;\n",
       "    }\n",
       "\n",
       "    .dataframe thead th {\n",
       "        text-align: right;\n",
       "    }\n",
       "</style>\n",
       "<table border=\"1\" class=\"dataframe\">\n",
       "  <thead>\n",
       "    <tr style=\"text-align: right;\">\n",
       "      <th></th>\n",
       "      <th>filter_interaction</th>\n",
       "      <th>example_no</th>\n",
       "      <th>motif1</th>\n",
       "      <th>motif1_qval</th>\n",
       "      <th>motif2</th>\n",
       "      <th>motif2_qval</th>\n",
       "      <th>mean_distance</th>\n",
       "      <th>mean_distance_bg</th>\n",
       "      <th>num_obs</th>\n",
       "      <th>num_obs_bg</th>\n",
       "      <th>pval</th>\n",
       "      <th>adjusted_pval</th>\n",
       "      <th>TF1</th>\n",
       "      <th>TF2</th>\n",
       "    </tr>\n",
       "  </thead>\n",
       "  <tbody>\n",
       "    <tr>\n",
       "      <td>1</td>\n",
       "      <td>filter0&lt;--&gt;filter4</td>\n",
       "      <td>3</td>\n",
       "      <td>M0891_1.02</td>\n",
       "      <td>0.042392</td>\n",
       "      <td>M0607_1.02</td>\n",
       "      <td>0.001118</td>\n",
       "      <td>164.0</td>\n",
       "      <td>40.0</td>\n",
       "      <td>108.0</td>\n",
       "      <td>262.0</td>\n",
       "      <td>0.001760</td>\n",
       "      <td>0.010727</td>\n",
       "      <td>TLX2</td>\n",
       "      <td>KDM2B</td>\n",
       "    </tr>\n",
       "    <tr>\n",
       "      <td>4</td>\n",
       "      <td>filter0&lt;--&gt;filter9</td>\n",
       "      <td>8</td>\n",
       "      <td>M0891_1.02</td>\n",
       "      <td>0.042392</td>\n",
       "      <td>M0607_1.02</td>\n",
       "      <td>0.008920</td>\n",
       "      <td>351.0</td>\n",
       "      <td>257.0</td>\n",
       "      <td>121.0</td>\n",
       "      <td>207.0</td>\n",
       "      <td>0.002501</td>\n",
       "      <td>0.014060</td>\n",
       "      <td>TLX2</td>\n",
       "      <td>KDM2B</td>\n",
       "    </tr>\n",
       "    <tr>\n",
       "      <td>6</td>\n",
       "      <td>filter0&lt;--&gt;filter12</td>\n",
       "      <td>11</td>\n",
       "      <td>M0891_1.02</td>\n",
       "      <td>0.042392</td>\n",
       "      <td>M0891_1.02</td>\n",
       "      <td>0.039711</td>\n",
       "      <td>172.0</td>\n",
       "      <td>61.0</td>\n",
       "      <td>85.0</td>\n",
       "      <td>201.0</td>\n",
       "      <td>0.001827</td>\n",
       "      <td>0.011036</td>\n",
       "      <td>TLX2</td>\n",
       "      <td>TLX2</td>\n",
       "    </tr>\n",
       "    <tr>\n",
       "      <td>7</td>\n",
       "      <td>filter0&lt;--&gt;filter13</td>\n",
       "      <td>12</td>\n",
       "      <td>M0891_1.02</td>\n",
       "      <td>0.042392</td>\n",
       "      <td>M0607_1.02</td>\n",
       "      <td>0.021796</td>\n",
       "      <td>8.0</td>\n",
       "      <td>147.0</td>\n",
       "      <td>108.0</td>\n",
       "      <td>275.0</td>\n",
       "      <td>0.006823</td>\n",
       "      <td>0.030485</td>\n",
       "      <td>TLX2</td>\n",
       "      <td>KDM2B</td>\n",
       "    </tr>\n",
       "    <tr>\n",
       "      <td>25</td>\n",
       "      <td>filter0&lt;--&gt;filter42</td>\n",
       "      <td>41</td>\n",
       "      <td>M0891_1.02</td>\n",
       "      <td>0.042392</td>\n",
       "      <td>M0891_1.02</td>\n",
       "      <td>0.001225</td>\n",
       "      <td>158.0</td>\n",
       "      <td>47.0</td>\n",
       "      <td>127.0</td>\n",
       "      <td>296.0</td>\n",
       "      <td>0.009039</td>\n",
       "      <td>0.037799</td>\n",
       "      <td>TLX2</td>\n",
       "      <td>TLX2</td>\n",
       "    </tr>\n",
       "  </tbody>\n",
       "</table>\n",
       "</div>"
      ],
      "text/plain": [
       "     filter_interaction  example_no      motif1  motif1_qval      motif2  \\\n",
       "1    filter0<-->filter4           3  M0891_1.02     0.042392  M0607_1.02   \n",
       "4    filter0<-->filter9           8  M0891_1.02     0.042392  M0607_1.02   \n",
       "6   filter0<-->filter12          11  M0891_1.02     0.042392  M0891_1.02   \n",
       "7   filter0<-->filter13          12  M0891_1.02     0.042392  M0607_1.02   \n",
       "25  filter0<-->filter42          41  M0891_1.02     0.042392  M0891_1.02   \n",
       "\n",
       "    motif2_qval  mean_distance  mean_distance_bg  num_obs  num_obs_bg  \\\n",
       "1      0.001118          164.0              40.0    108.0       262.0   \n",
       "4      0.008920          351.0             257.0    121.0       207.0   \n",
       "6      0.039711          172.0              61.0     85.0       201.0   \n",
       "7      0.021796            8.0             147.0    108.0       275.0   \n",
       "25     0.001225          158.0              47.0    127.0       296.0   \n",
       "\n",
       "        pval  adjusted_pval   TF1    TF2  \n",
       "1   0.001760       0.010727  TLX2  KDM2B  \n",
       "4   0.002501       0.014060  TLX2  KDM2B  \n",
       "6   0.001827       0.011036  TLX2   TLX2  \n",
       "7   0.006823       0.030485  TLX2  KDM2B  \n",
       "25  0.009039       0.037799  TLX2   TLX2  "
      ]
     },
     "execution_count": 45,
     "metadata": {},
     "output_type": "execute_result"
    }
   ],
   "source": [
    "df.head()"
   ]
  },
  {
   "cell_type": "code",
   "execution_count": 46,
   "metadata": {},
   "outputs": [],
   "source": [
    "df['TF_Interaction'] = df.apply(lambda x: x['TF1']+r'$\\longleftrightarrow$'+x['TF2'], axis=1)"
   ]
  },
  {
   "cell_type": "markdown",
   "metadata": {},
   "source": [
    "### Drop same motif interactions"
   ]
  },
  {
   "cell_type": "code",
   "execution_count": 47,
   "metadata": {},
   "outputs": [],
   "source": [
    "df = df[df['TF1']!=df['TF2']]"
   ]
  },
  {
   "cell_type": "code",
   "execution_count": 48,
   "metadata": {},
   "outputs": [
    {
     "data": {
      "text/plain": [
       "(1447, 15)"
      ]
     },
     "execution_count": 48,
     "metadata": {},
     "output_type": "execute_result"
    }
   ],
   "source": [
    "df.shape"
   ]
  },
  {
   "cell_type": "code",
   "execution_count": 49,
   "metadata": {},
   "outputs": [],
   "source": [
    "df = df.reset_index(drop=True)"
   ]
  },
  {
   "cell_type": "markdown",
   "metadata": {},
   "source": [
    "### Fix redundant interaction pairs"
   ]
  },
  {
   "cell_type": "code",
   "execution_count": 50,
   "metadata": {},
   "outputs": [],
   "source": [
    "df = process_for_redundant_interactions(df, intr_type='TF')"
   ]
  },
  {
   "cell_type": "code",
   "execution_count": 51,
   "metadata": {},
   "outputs": [
    {
     "data": {
      "text/html": [
       "<div>\n",
       "<style scoped>\n",
       "    .dataframe tbody tr th:only-of-type {\n",
       "        vertical-align: middle;\n",
       "    }\n",
       "\n",
       "    .dataframe tbody tr th {\n",
       "        vertical-align: top;\n",
       "    }\n",
       "\n",
       "    .dataframe thead th {\n",
       "        text-align: right;\n",
       "    }\n",
       "</style>\n",
       "<table border=\"1\" class=\"dataframe\">\n",
       "  <thead>\n",
       "    <tr style=\"text-align: right;\">\n",
       "      <th></th>\n",
       "      <th>filter_interaction</th>\n",
       "      <th>example_no</th>\n",
       "      <th>motif1</th>\n",
       "      <th>motif1_qval</th>\n",
       "      <th>motif2</th>\n",
       "      <th>motif2_qval</th>\n",
       "      <th>mean_distance</th>\n",
       "      <th>mean_distance_bg</th>\n",
       "      <th>num_obs</th>\n",
       "      <th>num_obs_bg</th>\n",
       "      <th>pval</th>\n",
       "      <th>adjusted_pval</th>\n",
       "      <th>TF1</th>\n",
       "      <th>TF2</th>\n",
       "      <th>TF_Interaction</th>\n",
       "    </tr>\n",
       "  </thead>\n",
       "  <tbody>\n",
       "    <tr>\n",
       "      <td>0</td>\n",
       "      <td>filter0&lt;--&gt;filter4</td>\n",
       "      <td>3</td>\n",
       "      <td>M0891_1.02</td>\n",
       "      <td>0.042392</td>\n",
       "      <td>M0607_1.02</td>\n",
       "      <td>0.001118</td>\n",
       "      <td>164.0</td>\n",
       "      <td>40.0</td>\n",
       "      <td>108.0</td>\n",
       "      <td>262.0</td>\n",
       "      <td>0.001760</td>\n",
       "      <td>0.010727</td>\n",
       "      <td>TLX2</td>\n",
       "      <td>KDM2B</td>\n",
       "      <td>TLX2$\\longleftrightarrow$KDM2B</td>\n",
       "    </tr>\n",
       "    <tr>\n",
       "      <td>1</td>\n",
       "      <td>filter0&lt;--&gt;filter9</td>\n",
       "      <td>8</td>\n",
       "      <td>M0891_1.02</td>\n",
       "      <td>0.042392</td>\n",
       "      <td>M0607_1.02</td>\n",
       "      <td>0.008920</td>\n",
       "      <td>351.0</td>\n",
       "      <td>257.0</td>\n",
       "      <td>121.0</td>\n",
       "      <td>207.0</td>\n",
       "      <td>0.002501</td>\n",
       "      <td>0.014060</td>\n",
       "      <td>TLX2</td>\n",
       "      <td>KDM2B</td>\n",
       "      <td>TLX2$\\longleftrightarrow$KDM2B</td>\n",
       "    </tr>\n",
       "    <tr>\n",
       "      <td>2</td>\n",
       "      <td>filter0&lt;--&gt;filter13</td>\n",
       "      <td>12</td>\n",
       "      <td>M0891_1.02</td>\n",
       "      <td>0.042392</td>\n",
       "      <td>M0607_1.02</td>\n",
       "      <td>0.021796</td>\n",
       "      <td>8.0</td>\n",
       "      <td>147.0</td>\n",
       "      <td>108.0</td>\n",
       "      <td>275.0</td>\n",
       "      <td>0.006823</td>\n",
       "      <td>0.030485</td>\n",
       "      <td>TLX2</td>\n",
       "      <td>KDM2B</td>\n",
       "      <td>TLX2$\\longleftrightarrow$KDM2B</td>\n",
       "    </tr>\n",
       "    <tr>\n",
       "      <td>3</td>\n",
       "      <td>filter0&lt;--&gt;filter65</td>\n",
       "      <td>64</td>\n",
       "      <td>M0891_1.02</td>\n",
       "      <td>0.042392</td>\n",
       "      <td>M0607_1.02</td>\n",
       "      <td>0.004762</td>\n",
       "      <td>217.0</td>\n",
       "      <td>68.0</td>\n",
       "      <td>99.0</td>\n",
       "      <td>187.0</td>\n",
       "      <td>0.007271</td>\n",
       "      <td>0.031982</td>\n",
       "      <td>TLX2</td>\n",
       "      <td>KDM2B</td>\n",
       "      <td>TLX2$\\longleftrightarrow$KDM2B</td>\n",
       "    </tr>\n",
       "    <tr>\n",
       "      <td>4</td>\n",
       "      <td>filter0&lt;--&gt;filter66</td>\n",
       "      <td>65</td>\n",
       "      <td>M0891_1.02</td>\n",
       "      <td>0.042392</td>\n",
       "      <td>M0747_1.02</td>\n",
       "      <td>0.011994</td>\n",
       "      <td>260.0</td>\n",
       "      <td>27.0</td>\n",
       "      <td>61.0</td>\n",
       "      <td>232.0</td>\n",
       "      <td>0.000823</td>\n",
       "      <td>0.005968</td>\n",
       "      <td>TLX2</td>\n",
       "      <td>FOXK2</td>\n",
       "      <td>TLX2$\\longleftrightarrow$FOXK2</td>\n",
       "    </tr>\n",
       "  </tbody>\n",
       "</table>\n",
       "</div>"
      ],
      "text/plain": [
       "    filter_interaction  example_no      motif1  motif1_qval      motif2  \\\n",
       "0   filter0<-->filter4           3  M0891_1.02     0.042392  M0607_1.02   \n",
       "1   filter0<-->filter9           8  M0891_1.02     0.042392  M0607_1.02   \n",
       "2  filter0<-->filter13          12  M0891_1.02     0.042392  M0607_1.02   \n",
       "3  filter0<-->filter65          64  M0891_1.02     0.042392  M0607_1.02   \n",
       "4  filter0<-->filter66          65  M0891_1.02     0.042392  M0747_1.02   \n",
       "\n",
       "   motif2_qval  mean_distance  mean_distance_bg  num_obs  num_obs_bg  \\\n",
       "0     0.001118          164.0              40.0    108.0       262.0   \n",
       "1     0.008920          351.0             257.0    121.0       207.0   \n",
       "2     0.021796            8.0             147.0    108.0       275.0   \n",
       "3     0.004762          217.0              68.0     99.0       187.0   \n",
       "4     0.011994          260.0              27.0     61.0       232.0   \n",
       "\n",
       "       pval  adjusted_pval   TF1    TF2                  TF_Interaction  \n",
       "0  0.001760       0.010727  TLX2  KDM2B  TLX2$\\longleftrightarrow$KDM2B  \n",
       "1  0.002501       0.014060  TLX2  KDM2B  TLX2$\\longleftrightarrow$KDM2B  \n",
       "2  0.006823       0.030485  TLX2  KDM2B  TLX2$\\longleftrightarrow$KDM2B  \n",
       "3  0.007271       0.031982  TLX2  KDM2B  TLX2$\\longleftrightarrow$KDM2B  \n",
       "4  0.000823       0.005968  TLX2  FOXK2  TLX2$\\longleftrightarrow$FOXK2  "
      ]
     },
     "execution_count": 51,
     "metadata": {},
     "output_type": "execute_result"
    }
   ],
   "source": [
    "df.head()"
   ]
  },
  {
   "cell_type": "code",
   "execution_count": 52,
   "metadata": {},
   "outputs": [
    {
     "data": {
      "text/plain": [
       "(1447, 15)"
      ]
     },
     "execution_count": 52,
     "metadata": {},
     "output_type": "execute_result"
    }
   ],
   "source": [
    "df.shape"
   ]
  },
  {
   "cell_type": "markdown",
   "metadata": {},
   "source": [
    "## Most Frequent TF Family Interactions"
   ]
  },
  {
   "cell_type": "code",
   "execution_count": 53,
   "metadata": {},
   "outputs": [],
   "source": [
    "tf_family_dict = {}\n",
    "for TF in df_annotate['TF_Name']:\n",
    "    tf_family_dict[TF] = df_annotate[df_annotate['TF_Name']==TF]['Family_Name'].iloc[0]\n",
    "df['TF1_Family'] = df['TF1'].apply(lambda x: tf_family_dict[x] if x in tf_family_dict else 'UNKNOWN')\n",
    "df['TF2_Family'] = df['TF2'].apply(lambda x: tf_family_dict[x] if x in tf_family_dict else 'UNKNOWN')"
   ]
  },
  {
   "cell_type": "code",
   "execution_count": 54,
   "metadata": {},
   "outputs": [],
   "source": [
    "df['Family_Interaction'] = df.apply(lambda x: x['TF1_Family']+r'$\\longleftrightarrow$'+x['TF2_Family'],axis=1)"
   ]
  },
  {
   "cell_type": "code",
   "execution_count": 55,
   "metadata": {},
   "outputs": [],
   "source": [
    "df = process_for_redundant_interactions(df, intr_type='Family')"
   ]
  },
  {
   "cell_type": "code",
   "execution_count": 56,
   "metadata": {},
   "outputs": [
    {
     "data": {
      "text/html": [
       "<div>\n",
       "<style scoped>\n",
       "    .dataframe tbody tr th:only-of-type {\n",
       "        vertical-align: middle;\n",
       "    }\n",
       "\n",
       "    .dataframe tbody tr th {\n",
       "        vertical-align: top;\n",
       "    }\n",
       "\n",
       "    .dataframe thead th {\n",
       "        text-align: right;\n",
       "    }\n",
       "</style>\n",
       "<table border=\"1\" class=\"dataframe\">\n",
       "  <thead>\n",
       "    <tr style=\"text-align: right;\">\n",
       "      <th></th>\n",
       "      <th>filter_interaction</th>\n",
       "      <th>example_no</th>\n",
       "      <th>motif1</th>\n",
       "      <th>motif1_qval</th>\n",
       "      <th>motif2</th>\n",
       "      <th>motif2_qval</th>\n",
       "      <th>mean_distance</th>\n",
       "      <th>mean_distance_bg</th>\n",
       "      <th>num_obs</th>\n",
       "      <th>num_obs_bg</th>\n",
       "      <th>pval</th>\n",
       "      <th>adjusted_pval</th>\n",
       "      <th>TF1</th>\n",
       "      <th>TF2</th>\n",
       "      <th>TF_Interaction</th>\n",
       "      <th>TF1_Family</th>\n",
       "      <th>TF2_Family</th>\n",
       "      <th>Family_Interaction</th>\n",
       "    </tr>\n",
       "  </thead>\n",
       "  <tbody>\n",
       "    <tr>\n",
       "      <td>0</td>\n",
       "      <td>filter0&lt;--&gt;filter4</td>\n",
       "      <td>3</td>\n",
       "      <td>M0891_1.02</td>\n",
       "      <td>0.042392</td>\n",
       "      <td>M0607_1.02</td>\n",
       "      <td>0.001118</td>\n",
       "      <td>164.0</td>\n",
       "      <td>40.0</td>\n",
       "      <td>108.0</td>\n",
       "      <td>262.0</td>\n",
       "      <td>0.001760</td>\n",
       "      <td>0.010727</td>\n",
       "      <td>TLX2</td>\n",
       "      <td>KDM2B</td>\n",
       "      <td>TLX2$\\longleftrightarrow$KDM2B</td>\n",
       "      <td>Homeodomain</td>\n",
       "      <td>CxxC</td>\n",
       "      <td>Homeodomain$\\longleftrightarrow$CxxC</td>\n",
       "    </tr>\n",
       "    <tr>\n",
       "      <td>1</td>\n",
       "      <td>filter0&lt;--&gt;filter9</td>\n",
       "      <td>8</td>\n",
       "      <td>M0891_1.02</td>\n",
       "      <td>0.042392</td>\n",
       "      <td>M0607_1.02</td>\n",
       "      <td>0.008920</td>\n",
       "      <td>351.0</td>\n",
       "      <td>257.0</td>\n",
       "      <td>121.0</td>\n",
       "      <td>207.0</td>\n",
       "      <td>0.002501</td>\n",
       "      <td>0.014060</td>\n",
       "      <td>TLX2</td>\n",
       "      <td>KDM2B</td>\n",
       "      <td>TLX2$\\longleftrightarrow$KDM2B</td>\n",
       "      <td>Homeodomain</td>\n",
       "      <td>CxxC</td>\n",
       "      <td>Homeodomain$\\longleftrightarrow$CxxC</td>\n",
       "    </tr>\n",
       "    <tr>\n",
       "      <td>2</td>\n",
       "      <td>filter0&lt;--&gt;filter13</td>\n",
       "      <td>12</td>\n",
       "      <td>M0891_1.02</td>\n",
       "      <td>0.042392</td>\n",
       "      <td>M0607_1.02</td>\n",
       "      <td>0.021796</td>\n",
       "      <td>8.0</td>\n",
       "      <td>147.0</td>\n",
       "      <td>108.0</td>\n",
       "      <td>275.0</td>\n",
       "      <td>0.006823</td>\n",
       "      <td>0.030485</td>\n",
       "      <td>TLX2</td>\n",
       "      <td>KDM2B</td>\n",
       "      <td>TLX2$\\longleftrightarrow$KDM2B</td>\n",
       "      <td>Homeodomain</td>\n",
       "      <td>CxxC</td>\n",
       "      <td>Homeodomain$\\longleftrightarrow$CxxC</td>\n",
       "    </tr>\n",
       "    <tr>\n",
       "      <td>3</td>\n",
       "      <td>filter0&lt;--&gt;filter65</td>\n",
       "      <td>64</td>\n",
       "      <td>M0891_1.02</td>\n",
       "      <td>0.042392</td>\n",
       "      <td>M0607_1.02</td>\n",
       "      <td>0.004762</td>\n",
       "      <td>217.0</td>\n",
       "      <td>68.0</td>\n",
       "      <td>99.0</td>\n",
       "      <td>187.0</td>\n",
       "      <td>0.007271</td>\n",
       "      <td>0.031982</td>\n",
       "      <td>TLX2</td>\n",
       "      <td>KDM2B</td>\n",
       "      <td>TLX2$\\longleftrightarrow$KDM2B</td>\n",
       "      <td>Homeodomain</td>\n",
       "      <td>CxxC</td>\n",
       "      <td>Homeodomain$\\longleftrightarrow$CxxC</td>\n",
       "    </tr>\n",
       "    <tr>\n",
       "      <td>4</td>\n",
       "      <td>filter0&lt;--&gt;filter66</td>\n",
       "      <td>65</td>\n",
       "      <td>M0891_1.02</td>\n",
       "      <td>0.042392</td>\n",
       "      <td>M0747_1.02</td>\n",
       "      <td>0.011994</td>\n",
       "      <td>260.0</td>\n",
       "      <td>27.0</td>\n",
       "      <td>61.0</td>\n",
       "      <td>232.0</td>\n",
       "      <td>0.000823</td>\n",
       "      <td>0.005968</td>\n",
       "      <td>TLX2</td>\n",
       "      <td>FOXK2</td>\n",
       "      <td>TLX2$\\longleftrightarrow$FOXK2</td>\n",
       "      <td>Homeodomain</td>\n",
       "      <td>Forkhead</td>\n",
       "      <td>Homeodomain$\\longleftrightarrow$Forkhead</td>\n",
       "    </tr>\n",
       "  </tbody>\n",
       "</table>\n",
       "</div>"
      ],
      "text/plain": [
       "    filter_interaction  example_no      motif1  motif1_qval      motif2  \\\n",
       "0   filter0<-->filter4           3  M0891_1.02     0.042392  M0607_1.02   \n",
       "1   filter0<-->filter9           8  M0891_1.02     0.042392  M0607_1.02   \n",
       "2  filter0<-->filter13          12  M0891_1.02     0.042392  M0607_1.02   \n",
       "3  filter0<-->filter65          64  M0891_1.02     0.042392  M0607_1.02   \n",
       "4  filter0<-->filter66          65  M0891_1.02     0.042392  M0747_1.02   \n",
       "\n",
       "   motif2_qval  mean_distance  mean_distance_bg  num_obs  num_obs_bg  \\\n",
       "0     0.001118          164.0              40.0    108.0       262.0   \n",
       "1     0.008920          351.0             257.0    121.0       207.0   \n",
       "2     0.021796            8.0             147.0    108.0       275.0   \n",
       "3     0.004762          217.0              68.0     99.0       187.0   \n",
       "4     0.011994          260.0              27.0     61.0       232.0   \n",
       "\n",
       "       pval  adjusted_pval   TF1    TF2                  TF_Interaction  \\\n",
       "0  0.001760       0.010727  TLX2  KDM2B  TLX2$\\longleftrightarrow$KDM2B   \n",
       "1  0.002501       0.014060  TLX2  KDM2B  TLX2$\\longleftrightarrow$KDM2B   \n",
       "2  0.006823       0.030485  TLX2  KDM2B  TLX2$\\longleftrightarrow$KDM2B   \n",
       "3  0.007271       0.031982  TLX2  KDM2B  TLX2$\\longleftrightarrow$KDM2B   \n",
       "4  0.000823       0.005968  TLX2  FOXK2  TLX2$\\longleftrightarrow$FOXK2   \n",
       "\n",
       "    TF1_Family TF2_Family                        Family_Interaction  \n",
       "0  Homeodomain       CxxC      Homeodomain$\\longleftrightarrow$CxxC  \n",
       "1  Homeodomain       CxxC      Homeodomain$\\longleftrightarrow$CxxC  \n",
       "2  Homeodomain       CxxC      Homeodomain$\\longleftrightarrow$CxxC  \n",
       "3  Homeodomain       CxxC      Homeodomain$\\longleftrightarrow$CxxC  \n",
       "4  Homeodomain   Forkhead  Homeodomain$\\longleftrightarrow$Forkhead  "
      ]
     },
     "execution_count": 56,
     "metadata": {},
     "output_type": "execute_result"
    }
   ],
   "source": [
    "df.head()"
   ]
  },
  {
   "cell_type": "markdown",
   "metadata": {},
   "source": [
    "### Distribution of individual TF or TF family interactions"
   ]
  },
  {
   "cell_type": "code",
   "execution_count": 57,
   "metadata": {
    "scrolled": false
   },
   "outputs": [
    {
     "data": {
      "image/png": "[encoded data removed]",
      "text/plain": [
       "<Figure size 1296x432 with 1 Axes>"
      ]
     },
     "metadata": {
      "needs_background": "light"
     },
     "output_type": "display_data"
    }
   ],
   "source": [
    "plot_frequent_interactions(df, intr_level='Family_Interaction', first_n=15)"
   ]
  },
  {
   "cell_type": "markdown",
   "metadata": {},
   "source": [
    "### Plot interaction distance distribution"
   ]
  },
  {
   "cell_type": "code",
   "execution_count": 58,
   "metadata": {
    "scrolled": false
   },
   "outputs": [
    {
     "data": {
      "image/png": "[encoded data removed]",
      "text/plain": [
       "<Figure size 576x432 with 1 Axes>"
      ]
     },
     "metadata": {
      "needs_background": "light"
     },
     "output_type": "display_data"
    }
   ],
   "source": [
    "plot_interaction_distance_distribution(df, nbins=50, fig_size=(8,6))"
   ]
  },
  {
   "cell_type": "code",
   "execution_count": 59,
   "metadata": {},
   "outputs": [
    {
     "data": {
      "text/plain": [
       "(196.70905321354527, 177.0)"
      ]
     },
     "execution_count": 59,
     "metadata": {},
     "output_type": "execute_result"
    }
   ],
   "source": [
    "df['mean_distance'].mean(), df['mean_distance'].median()"
   ]
  },
  {
   "cell_type": "markdown",
   "metadata": {},
   "source": [
    "### Most frequent interactions and their respective interaction distances"
   ]
  },
  {
   "cell_type": "code",
   "execution_count": 60,
   "metadata": {},
   "outputs": [
    {
     "data": {
      "image/png": "[encoded data removed]",
      "text/plain": [
       "<Figure size 1296x360 with 2 Axes>"
      ]
     },
     "metadata": {
      "needs_background": "light"
     },
     "output_type": "display_data"
    }
   ],
   "source": [
    "plot_interactions_and_distances_boxplot(df, first_n=15, sort_distances=False, add_sub_caption=True, show_mean_dist=True)"
   ]
  },
  {
   "cell_type": "code",
   "execution_count": 61,
   "metadata": {},
   "outputs": [
    {
     "data": {
      "image/png": "[encoded data removed]",
      "text/plain": [
       "<Figure size 1296x360 with 2 Axes>"
      ]
     },
     "metadata": {
      "needs_background": "light"
     },
     "output_type": "display_data"
    }
   ],
   "source": [
    "plot_interactions_and_distances_histogram(df, first_n=15, dist_nbins=25, add_sub_caption=True, show_mean_dist=True)"
   ]
  },
  {
   "cell_type": "markdown",
   "metadata": {},
   "source": [
    "### Annotate Interactions using TRRUSTv2 (and other sources)"
   ]
  },
  {
   "cell_type": "markdown",
   "metadata": {},
   "source": [
    "#### Read TRRUSTv2 interactions"
   ]
  },
  {
   "cell_type": "code",
   "execution_count": 62,
   "metadata": {},
   "outputs": [],
   "source": [
    "#dictionaries with genes/TFs as keys and [target_gene/TF, role, PUBMID ID] as value\n",
    "with open('/s/jawar/h/nobackup/fahad/Human_Chromatin/TRUSTv2/human_co-regulate_dict.pckl','rb') as f:\n",
    "    human_dict = pickle.load(f)"
   ]
  },
  {
   "cell_type": "code",
   "execution_count": 63,
   "metadata": {},
   "outputs": [],
   "source": [
    "df['Interaction_in_TRUSTv2'] = df['TF_Interaction'].apply(db_annotate_interaction, intr_dict = human_dict)"
   ]
  },
  {
   "cell_type": "code",
   "execution_count": 64,
   "metadata": {},
   "outputs": [],
   "source": [
    "df_resTRUSTv2 = df[df['Interaction_in_TRUSTv2']==1]"
   ]
  },
  {
   "cell_type": "code",
   "execution_count": 65,
   "metadata": {},
   "outputs": [
    {
     "data": {
      "text/html": [
       "<div>\n",
       "<style scoped>\n",
       "    .dataframe tbody tr th:only-of-type {\n",
       "        vertical-align: middle;\n",
       "    }\n",
       "\n",
       "    .dataframe tbody tr th {\n",
       "        vertical-align: top;\n",
       "    }\n",
       "\n",
       "    .dataframe thead th {\n",
       "        text-align: right;\n",
       "    }\n",
       "</style>\n",
       "<table border=\"1\" class=\"dataframe\">\n",
       "  <thead>\n",
       "    <tr style=\"text-align: right;\">\n",
       "      <th></th>\n",
       "      <th>TF_Interaction</th>\n",
       "      <th>TF1_Family</th>\n",
       "      <th>TF2_Family</th>\n",
       "      <th>adjusted_pval</th>\n",
       "    </tr>\n",
       "  </thead>\n",
       "  <tbody>\n",
       "    <tr>\n",
       "      <td>1442</td>\n",
       "      <td>EGR1$\\longleftrightarrow$DNMT1</td>\n",
       "      <td>C2H2 ZF</td>\n",
       "      <td>CxxC</td>\n",
       "      <td>7.890051e-07</td>\n",
       "    </tr>\n",
       "    <tr>\n",
       "      <td>1245</td>\n",
       "      <td>DNMT1$\\longleftrightarrow$FOXO1</td>\n",
       "      <td>CxxC</td>\n",
       "      <td>Forkhead</td>\n",
       "      <td>1.002374e-04</td>\n",
       "    </tr>\n",
       "    <tr>\n",
       "      <td>1152</td>\n",
       "      <td>EGR1$\\longleftrightarrow$LCOR</td>\n",
       "      <td>Pipsqueak</td>\n",
       "      <td>C2H2 ZF</td>\n",
       "      <td>1.148116e-04</td>\n",
       "    </tr>\n",
       "    <tr>\n",
       "      <td>1154</td>\n",
       "      <td>LCOR$\\longleftrightarrow$DNMT1</td>\n",
       "      <td>Pipsqueak</td>\n",
       "      <td>CxxC</td>\n",
       "      <td>1.988870e-04</td>\n",
       "    </tr>\n",
       "    <tr>\n",
       "      <td>1081</td>\n",
       "      <td>EGR1$\\longleftrightarrow$FOXO1</td>\n",
       "      <td>C2H2 ZF</td>\n",
       "      <td>Forkhead</td>\n",
       "      <td>9.672271e-04</td>\n",
       "    </tr>\n",
       "    <tr>\n",
       "      <td>683</td>\n",
       "      <td>FOXK2$\\longleftrightarrow$EGR1</td>\n",
       "      <td>Forkhead</td>\n",
       "      <td>C2H2 ZF</td>\n",
       "      <td>4.271057e-03</td>\n",
       "    </tr>\n",
       "  </tbody>\n",
       "</table>\n",
       "</div>"
      ],
      "text/plain": [
       "                       TF_Interaction TF1_Family TF2_Family  adjusted_pval\n",
       "1442   EGR1$\\longleftrightarrow$DNMT1    C2H2 ZF       CxxC   7.890051e-07\n",
       "1245  DNMT1$\\longleftrightarrow$FOXO1       CxxC   Forkhead   1.002374e-04\n",
       "1152    EGR1$\\longleftrightarrow$LCOR  Pipsqueak    C2H2 ZF   1.148116e-04\n",
       "1154   LCOR$\\longleftrightarrow$DNMT1  Pipsqueak       CxxC   1.988870e-04\n",
       "1081   EGR1$\\longleftrightarrow$FOXO1    C2H2 ZF   Forkhead   9.672271e-04\n",
       "683    FOXK2$\\longleftrightarrow$EGR1   Forkhead    C2H2 ZF   4.271057e-03"
      ]
     },
     "execution_count": 65,
     "metadata": {},
     "output_type": "execute_result"
    }
   ],
   "source": [
    "df_resTRUSTv2[['TF_Interaction','TF1_Family','TF2_Family','adjusted_pval']].sort_values(by='adjusted_pval').drop_duplicates('TF_Interaction')"
   ]
  },
  {
   "cell_type": "markdown",
   "metadata": {},
   "source": [
    "### Annotate Interactions using HIPPIE database"
   ]
  },
  {
   "cell_type": "markdown",
   "metadata": {},
   "source": [
    "#### Read hippie interactions"
   ]
  },
  {
   "cell_type": "code",
   "execution_count": 66,
   "metadata": {},
   "outputs": [],
   "source": [
    "#dictionaries with genes/TFs as keys and [target_gene/TF, role, PUBMID ID] as value\n",
    "with open('/s/jawar/h/nobackup/fahad/Human_Chromatin/Protein-interactions/hippie/interactions_dict.pckl','rb') as f:\n",
    "    human_dict = pickle.load(f)"
   ]
  },
  {
   "cell_type": "code",
   "execution_count": 67,
   "metadata": {},
   "outputs": [],
   "source": [
    "for key,value in human_dict.items():\n",
    "    human_dict[key] = np.array([[val, '', '0'] for val in value])"
   ]
  },
  {
   "cell_type": "code",
   "execution_count": 68,
   "metadata": {},
   "outputs": [],
   "source": [
    "df['Interaction_in_HIPPIE'] = df['TF_Interaction'].apply(db_annotate_interaction, intr_dict = human_dict)"
   ]
  },
  {
   "cell_type": "code",
   "execution_count": 69,
   "metadata": {},
   "outputs": [],
   "source": [
    "df_resHIPPIE = df[df['Interaction_in_HIPPIE']==1]"
   ]
  },
  {
   "cell_type": "code",
   "execution_count": 70,
   "metadata": {},
   "outputs": [
    {
     "data": {
      "text/html": [
       "<div>\n",
       "<style scoped>\n",
       "    .dataframe tbody tr th:only-of-type {\n",
       "        vertical-align: middle;\n",
       "    }\n",
       "\n",
       "    .dataframe tbody tr th {\n",
       "        vertical-align: top;\n",
       "    }\n",
       "\n",
       "    .dataframe thead th {\n",
       "        text-align: right;\n",
       "    }\n",
       "</style>\n",
       "<table border=\"1\" class=\"dataframe\">\n",
       "  <thead>\n",
       "    <tr style=\"text-align: right;\">\n",
       "      <th></th>\n",
       "      <th>TF_Interaction</th>\n",
       "      <th>TF1_Family</th>\n",
       "      <th>TF2_Family</th>\n",
       "      <th>adjusted_pval</th>\n",
       "    </tr>\n",
       "  </thead>\n",
       "  <tbody>\n",
       "    <tr>\n",
       "      <td>1240</td>\n",
       "      <td>KDM2B$\\longleftrightarrow$DNMT1</td>\n",
       "      <td>CxxC</td>\n",
       "      <td>CxxC</td>\n",
       "      <td>2.112602e-08</td>\n",
       "    </tr>\n",
       "    <tr>\n",
       "      <td>1012</td>\n",
       "      <td>SOX3$\\longleftrightarrow$EGR1</td>\n",
       "      <td>Sox</td>\n",
       "      <td>C2H2 ZF</td>\n",
       "      <td>8.894973e-05</td>\n",
       "    </tr>\n",
       "    <tr>\n",
       "      <td>1245</td>\n",
       "      <td>DNMT1$\\longleftrightarrow$FOXO1</td>\n",
       "      <td>CxxC</td>\n",
       "      <td>Forkhead</td>\n",
       "      <td>1.002374e-04</td>\n",
       "    </tr>\n",
       "    <tr>\n",
       "      <td>1154</td>\n",
       "      <td>LCOR$\\longleftrightarrow$DNMT1</td>\n",
       "      <td>Pipsqueak</td>\n",
       "      <td>CxxC</td>\n",
       "      <td>1.988870e-04</td>\n",
       "    </tr>\n",
       "    <tr>\n",
       "      <td>820</td>\n",
       "      <td>SP7$\\longleftrightarrow$IRF3</td>\n",
       "      <td>C2H2 ZF</td>\n",
       "      <td>IRF</td>\n",
       "      <td>2.645675e-04</td>\n",
       "    </tr>\n",
       "    <tr>\n",
       "      <td>1147</td>\n",
       "      <td>KDM2B$\\longleftrightarrow$LCOR</td>\n",
       "      <td>Pipsqueak</td>\n",
       "      <td>CxxC</td>\n",
       "      <td>6.985302e-04</td>\n",
       "    </tr>\n",
       "    <tr>\n",
       "      <td>1081</td>\n",
       "      <td>EGR1$\\longleftrightarrow$FOXO1</td>\n",
       "      <td>C2H2 ZF</td>\n",
       "      <td>Forkhead</td>\n",
       "      <td>9.672271e-04</td>\n",
       "    </tr>\n",
       "    <tr>\n",
       "      <td>688</td>\n",
       "      <td>FOXK2$\\longleftrightarrow$DNMT1</td>\n",
       "      <td>Forkhead</td>\n",
       "      <td>CxxC</td>\n",
       "      <td>1.670364e-02</td>\n",
       "    </tr>\n",
       "    <tr>\n",
       "      <td>235</td>\n",
       "      <td>KDM2B$\\longleftrightarrow$FOXK2</td>\n",
       "      <td>CxxC</td>\n",
       "      <td>Forkhead</td>\n",
       "      <td>2.413060e-02</td>\n",
       "    </tr>\n",
       "  </tbody>\n",
       "</table>\n",
       "</div>"
      ],
      "text/plain": [
       "                       TF_Interaction TF1_Family TF2_Family  adjusted_pval\n",
       "1240  KDM2B$\\longleftrightarrow$DNMT1       CxxC       CxxC   2.112602e-08\n",
       "1012    SOX3$\\longleftrightarrow$EGR1        Sox    C2H2 ZF   8.894973e-05\n",
       "1245  DNMT1$\\longleftrightarrow$FOXO1       CxxC   Forkhead   1.002374e-04\n",
       "1154   LCOR$\\longleftrightarrow$DNMT1  Pipsqueak       CxxC   1.988870e-04\n",
       "820      SP7$\\longleftrightarrow$IRF3    C2H2 ZF        IRF   2.645675e-04\n",
       "1147   KDM2B$\\longleftrightarrow$LCOR  Pipsqueak       CxxC   6.985302e-04\n",
       "1081   EGR1$\\longleftrightarrow$FOXO1    C2H2 ZF   Forkhead   9.672271e-04\n",
       "688   FOXK2$\\longleftrightarrow$DNMT1   Forkhead       CxxC   1.670364e-02\n",
       "235   KDM2B$\\longleftrightarrow$FOXK2       CxxC   Forkhead   2.413060e-02"
      ]
     },
     "execution_count": 70,
     "metadata": {},
     "output_type": "execute_result"
    }
   ],
   "source": [
    "df_resHIPPIE[['TF_Interaction','TF1_Family','TF2_Family','adjusted_pval']].sort_values(by='adjusted_pval').drop_duplicates('TF_Interaction')"
   ]
  },
  {
   "cell_type": "code",
   "execution_count": null,
   "metadata": {},
   "outputs": [],
   "source": []
  }
 ],
 "metadata": {
  "kernelspec": {
   "display_name": "Python 3",
   "language": "python",
   "name": "python3"
  },
  "language_info": {
   "codemirror_mode": {
    "name": "ipython",
    "version": 3
   },
   "file_extension": ".py",
   "mimetype": "text/x-python",
   "name": "python",
   "nbconvert_exporter": "python",
   "pygments_lexer": "ipython3",
   "version": "3.7.3"
  }
 },
 "nbformat": 4,
 "nbformat_minor": 2
}
