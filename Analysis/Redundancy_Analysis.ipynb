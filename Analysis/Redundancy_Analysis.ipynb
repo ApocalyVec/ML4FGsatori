{
 "metadata": {
  "language_info": {
   "codemirror_mode": {
    "name": "ipython",
    "version": 3
   },
   "file_extension": ".py",
   "mimetype": "text/x-python",
   "name": "python",
   "nbconvert_exporter": "python",
   "pygments_lexer": "ipython3",
   "version": "3.7.3-final"
  },
  "orig_nbformat": 2,
  "kernelspec": {
   "name": "python3",
   "display_name": "Python 3"
  }
 },
 "nbformat": 4,
 "nbformat_minor": 2,
 "cells": [
  {
   "source": [
    "import matplotlib.pyplot as plt\n",
    "import pandas as pd\n",
    "import os"
   ],
   "cell_type": "code",
   "metadata": {},
   "execution_count": 18,
   "outputs": []
  },
  {
   "source": [
    "## Filter redundancy per motif: Human dataset"
   ],
   "cell_type": "markdown",
   "metadata": {}
  },
  {
   "cell_type": "code",
   "execution_count": 6,
   "metadata": {},
   "outputs": [],
   "source": [
    "experiment_path = '../../Human_Promoter_Analysis_euclidean_v8'\n",
    "df_pos = pd.read_csv(os.path.join(experiment_path,'Motif_Analysis/tomtom/tomtom_annotated.tsv'), sep='\\t', header=None)\n",
    "df_neg = pd.read_csv(os.path.join(experiment_path,'Motif_Analysis_Negative/tomtom/tomtom_annotated.tsv'), sep='\\t', header=None)"
   ]
  },
  {
   "cell_type": "code",
   "execution_count": 8,
   "metadata": {},
   "outputs": [],
   "source": [
    "df_pos = df_pos[~df_pos[10].isna()]\n",
    "df_neg = df_neg[~df_neg[10].isna()]"
   ]
  },
  {
   "cell_type": "code",
   "execution_count": 9,
   "metadata": {},
   "outputs": [],
   "source": [
    "df_pos[10] = df_pos[10].apply(lambda x: x.split(','))\n",
    "df_neg[10] = df_neg[10].apply(lambda x: x.split(','))"
   ]
  },
  {
   "cell_type": "code",
   "execution_count": 10,
   "metadata": {},
   "outputs": [],
   "source": [
    "df_pos = df_pos.explode(10)\n",
    "df_neg = df_neg.explode(10)"
   ]
  },
  {
   "cell_type": "code",
   "execution_count": 11,
   "metadata": {},
   "outputs": [
    {
     "output_type": "execute_result",
     "data": {
      "text/plain": [
       "((2585, 11), (3261, 11))"
      ]
     },
     "metadata": {},
     "execution_count": 11
    }
   ],
   "source": [
    "df_pos.shape, df_neg.shape"
   ]
  },
  {
   "cell_type": "code",
   "execution_count": 17,
   "metadata": {},
   "outputs": [],
   "source": [
    "df_pos_redundancy = df_pos.groupby(10)[0].nunique()"
   ]
  },
  {
   "cell_type": "code",
   "execution_count": 28,
   "metadata": {},
   "outputs": [
    {
     "output_type": "execute_result",
     "data": {
      "text/plain": [
       "'TLX2'"
      ]
     },
     "metadata": {},
     "execution_count": 28
    }
   ],
   "source": [
    "df_pos_redundancy.argmax()"
   ]
  },
  {
   "cell_type": "code",
   "execution_count": 32,
   "metadata": {},
   "outputs": [
    {
     "output_type": "execute_result",
     "data": {
      "text/plain": [
       "(13.316901408450704, 4.0)"
      ]
     },
     "metadata": {},
     "execution_count": 32
    }
   ],
   "source": [
    "df_pos_redundancy.mean(),df_pos_redundancy.median()"
   ]
  },
  {
   "source": [
    "## Filter reduandancy per motif: Arabidopsis dataset"
   ],
   "cell_type": "markdown",
   "metadata": {}
  },
  {
   "cell_type": "code",
   "execution_count": 41,
   "metadata": {},
   "outputs": [],
   "source": [
    "experiment_path = '../../Arabidopsis_GenomeWide_Analysis_euclidean_v8'\n",
    "df_pos = pd.read_csv(os.path.join(experiment_path,'Motif_Analysis/tomtom/tomtom_annotated.tsv'), sep='\\t', header=None)\n",
    "df_neg = pd.read_csv(os.path.join(experiment_path,'Motif_Analysis_Negative/tomtom/tomtom_annotated.tsv'), sep='\\t', header=None)"
   ]
  },
  {
   "cell_type": "code",
   "execution_count": 42,
   "metadata": {},
   "outputs": [],
   "source": [
    "df_pos_redundancy = df_pos.groupby(1)[0].nunique()"
   ]
  },
  {
   "cell_type": "code",
   "execution_count": 45,
   "metadata": {},
   "outputs": [
    {
     "output_type": "execute_result",
     "data": {
      "text/plain": [
       "(5.140776699029126, 2.0)"
      ]
     },
     "metadata": {},
     "execution_count": 45
    }
   ],
   "source": [
    "df_pos_redundancy.mean(), df_pos_redundancy.median()"
   ]
  },
  {
   "cell_type": "code",
   "execution_count": 48,
   "metadata": {},
   "outputs": [],
   "source": []
  },
  {
   "cell_type": "code",
   "execution_count": null,
   "metadata": {},
   "outputs": [],
   "source": []
  }
 ]
}