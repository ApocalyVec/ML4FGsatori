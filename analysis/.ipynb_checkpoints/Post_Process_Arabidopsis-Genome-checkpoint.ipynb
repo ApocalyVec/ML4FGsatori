{
 "cells": [
  {
   "cell_type": "markdown",
   "metadata": {},
   "source": [
    "## Imports"
   ]
  },
  {
   "cell_type": "code",
   "execution_count": 1,
   "metadata": {},
   "outputs": [],
   "source": [
    "import pandas as pd\n",
    "import sys\n",
    "\n",
    "sys.path.insert(0,'../')\n",
    "\n",
    "from postprocess import *"
   ]
  },
  {
   "cell_type": "markdown",
   "metadata": {},
   "source": [
    "## Interaction data processing"
   ]
  },
  {
   "cell_type": "code",
   "execution_count": 2,
   "metadata": {},
   "outputs": [],
   "source": [
    "# For SATORI based interactions\n",
    "#df = pd.read_csv('../Results/Arabidopsis_GenomeWide_Analysis_euclidean_v8/Interactions_SATORI/interactions_summary_attnLimit-0.12.txt',sep='\\t')\n",
    "\n",
    "# For FIS based interactions\n",
    "df = pd.read_csv('../Results/Arabidopsis_GenomeWide_Analysis_euclidean_v8/Interactions_FIS/interactions_summary_attnLimit-0.txt',sep='\\t')"
   ]
  },
  {
   "cell_type": "markdown",
   "metadata": {},
   "source": [
    "### Filter based on interaction and motif hit p-values, and keep the most significant interactions"
   ]
  },
  {
   "cell_type": "code",
   "execution_count": 3,
   "metadata": {},
   "outputs": [],
   "source": [
    "df = filter_data_on_thresholds(df, motifA_pval_cutoff=0.05, motifB_pval_cutoff=0.05)"
   ]
  },
  {
   "cell_type": "code",
   "execution_count": 4,
   "metadata": {},
   "outputs": [
    {
     "data": {
      "text/plain": [
       "(1906, 12)"
      ]
     },
     "execution_count": 4,
     "metadata": {},
     "output_type": "execute_result"
    }
   ],
   "source": [
    "df.shape"
   ]
  },
  {
   "cell_type": "code",
   "execution_count": 5,
   "metadata": {},
   "outputs": [
    {
     "data": {
      "text/html": [
       "<div>\n",
       "<style scoped>\n",
       "    .dataframe tbody tr th:only-of-type {\n",
       "        vertical-align: middle;\n",
       "    }\n",
       "\n",
       "    .dataframe tbody tr th {\n",
       "        vertical-align: top;\n",
       "    }\n",
       "\n",
       "    .dataframe thead th {\n",
       "        text-align: right;\n",
       "    }\n",
       "</style>\n",
       "<table border=\"1\" class=\"dataframe\">\n",
       "  <thead>\n",
       "    <tr style=\"text-align: right;\">\n",
       "      <th></th>\n",
       "      <th>filter_interaction</th>\n",
       "      <th>example_no</th>\n",
       "      <th>motif1</th>\n",
       "      <th>motif1_qval</th>\n",
       "      <th>motif2</th>\n",
       "      <th>motif2_qval</th>\n",
       "      <th>mean_distance</th>\n",
       "      <th>mean_distance_bg</th>\n",
       "      <th>num_obs</th>\n",
       "      <th>num_obs_bg</th>\n",
       "      <th>pval</th>\n",
       "      <th>adjusted_pval</th>\n",
       "    </tr>\n",
       "  </thead>\n",
       "  <tbody>\n",
       "    <tr>\n",
       "      <td>5</td>\n",
       "      <td>filter0&lt;--&gt;filter12</td>\n",
       "      <td>11</td>\n",
       "      <td>TCP_tnt.TCP1_col_a_m1</td>\n",
       "      <td>0.021122</td>\n",
       "      <td>G2like_tnt.AT2G40260_colamp_a_m1</td>\n",
       "      <td>0.010394</td>\n",
       "      <td>141.0</td>\n",
       "      <td>157.0</td>\n",
       "      <td>378.0</td>\n",
       "      <td>676.0</td>\n",
       "      <td>0.000999</td>\n",
       "      <td>0.004951</td>\n",
       "    </tr>\n",
       "    <tr>\n",
       "      <td>40</td>\n",
       "      <td>filter0&lt;--&gt;filter82</td>\n",
       "      <td>81</td>\n",
       "      <td>TCP_tnt.TCP1_col_a_m1</td>\n",
       "      <td>0.021122</td>\n",
       "      <td>G2like_tnt.AT2G40260_colamp_a_m1</td>\n",
       "      <td>0.013137</td>\n",
       "      <td>186.0</td>\n",
       "      <td>24.0</td>\n",
       "      <td>699.0</td>\n",
       "      <td>1046.0</td>\n",
       "      <td>0.001348</td>\n",
       "      <td>0.006336</td>\n",
       "    </tr>\n",
       "    <tr>\n",
       "      <td>47</td>\n",
       "      <td>filter0&lt;--&gt;filter94</td>\n",
       "      <td>93</td>\n",
       "      <td>TCP_tnt.TCP1_col_a_m1</td>\n",
       "      <td>0.021122</td>\n",
       "      <td>Trihelix_tnt.AT1G76880_col_a_m1</td>\n",
       "      <td>0.041459</td>\n",
       "      <td>513.0</td>\n",
       "      <td>95.0</td>\n",
       "      <td>633.0</td>\n",
       "      <td>1037.0</td>\n",
       "      <td>0.007607</td>\n",
       "      <td>0.026373</td>\n",
       "    </tr>\n",
       "    <tr>\n",
       "      <td>53</td>\n",
       "      <td>filter0&lt;--&gt;filter102</td>\n",
       "      <td>101</td>\n",
       "      <td>TCP_tnt.TCP1_col_a_m1</td>\n",
       "      <td>0.021122</td>\n",
       "      <td>ZFHD_tnt.ATHB23_col_b_m1</td>\n",
       "      <td>0.002463</td>\n",
       "      <td>453.0</td>\n",
       "      <td>421.0</td>\n",
       "      <td>607.0</td>\n",
       "      <td>993.0</td>\n",
       "      <td>0.002164</td>\n",
       "      <td>0.009348</td>\n",
       "    </tr>\n",
       "    <tr>\n",
       "      <td>71</td>\n",
       "      <td>filter0&lt;--&gt;filter132</td>\n",
       "      <td>131</td>\n",
       "      <td>TCP_tnt.TCP1_col_a_m1</td>\n",
       "      <td>0.021122</td>\n",
       "      <td>HB_tnt.ATHB40_col_a_m1</td>\n",
       "      <td>0.011440</td>\n",
       "      <td>189.0</td>\n",
       "      <td>22.0</td>\n",
       "      <td>371.0</td>\n",
       "      <td>622.0</td>\n",
       "      <td>0.000016</td>\n",
       "      <td>0.000166</td>\n",
       "    </tr>\n",
       "  </tbody>\n",
       "</table>\n",
       "</div>"
      ],
      "text/plain": [
       "      filter_interaction  example_no                 motif1  motif1_qval  \\\n",
       "5    filter0<-->filter12          11  TCP_tnt.TCP1_col_a_m1     0.021122   \n",
       "40   filter0<-->filter82          81  TCP_tnt.TCP1_col_a_m1     0.021122   \n",
       "47   filter0<-->filter94          93  TCP_tnt.TCP1_col_a_m1     0.021122   \n",
       "53  filter0<-->filter102         101  TCP_tnt.TCP1_col_a_m1     0.021122   \n",
       "71  filter0<-->filter132         131  TCP_tnt.TCP1_col_a_m1     0.021122   \n",
       "\n",
       "                              motif2  motif2_qval  mean_distance  \\\n",
       "5   G2like_tnt.AT2G40260_colamp_a_m1     0.010394          141.0   \n",
       "40  G2like_tnt.AT2G40260_colamp_a_m1     0.013137          186.0   \n",
       "47   Trihelix_tnt.AT1G76880_col_a_m1     0.041459          513.0   \n",
       "53          ZFHD_tnt.ATHB23_col_b_m1     0.002463          453.0   \n",
       "71            HB_tnt.ATHB40_col_a_m1     0.011440          189.0   \n",
       "\n",
       "    mean_distance_bg  num_obs  num_obs_bg      pval  adjusted_pval  \n",
       "5              157.0    378.0       676.0  0.000999       0.004951  \n",
       "40              24.0    699.0      1046.0  0.001348       0.006336  \n",
       "47              95.0    633.0      1037.0  0.007607       0.026373  \n",
       "53             421.0    607.0       993.0  0.002164       0.009348  \n",
       "71              22.0    371.0       622.0  0.000016       0.000166  "
      ]
     },
     "execution_count": 5,
     "metadata": {},
     "output_type": "execute_result"
    }
   ],
   "source": [
    "df.head()"
   ]
  },
  {
   "cell_type": "markdown",
   "metadata": {},
   "source": [
    "### Annotate the interacting motifs"
   ]
  },
  {
   "cell_type": "code",
   "execution_count": 6,
   "metadata": {},
   "outputs": [],
   "source": [
    "df['TF1'] = df['motif1'].apply(lambda x: x.split('_')[1].strip('.tnt'))\n",
    "df['TF2'] = df['motif2'].apply(lambda x: x.split('_')[1].strip('.tnt'))"
   ]
  },
  {
   "cell_type": "code",
   "execution_count": 7,
   "metadata": {
    "scrolled": true
   },
   "outputs": [
    {
     "data": {
      "text/html": [
       "<div>\n",
       "<style scoped>\n",
       "    .dataframe tbody tr th:only-of-type {\n",
       "        vertical-align: middle;\n",
       "    }\n",
       "\n",
       "    .dataframe tbody tr th {\n",
       "        vertical-align: top;\n",
       "    }\n",
       "\n",
       "    .dataframe thead th {\n",
       "        text-align: right;\n",
       "    }\n",
       "</style>\n",
       "<table border=\"1\" class=\"dataframe\">\n",
       "  <thead>\n",
       "    <tr style=\"text-align: right;\">\n",
       "      <th></th>\n",
       "      <th>filter_interaction</th>\n",
       "      <th>example_no</th>\n",
       "      <th>motif1</th>\n",
       "      <th>motif1_qval</th>\n",
       "      <th>motif2</th>\n",
       "      <th>motif2_qval</th>\n",
       "      <th>mean_distance</th>\n",
       "      <th>mean_distance_bg</th>\n",
       "      <th>num_obs</th>\n",
       "      <th>num_obs_bg</th>\n",
       "      <th>pval</th>\n",
       "      <th>adjusted_pval</th>\n",
       "      <th>TF1</th>\n",
       "      <th>TF2</th>\n",
       "    </tr>\n",
       "  </thead>\n",
       "  <tbody>\n",
       "    <tr>\n",
       "      <td>5</td>\n",
       "      <td>filter0&lt;--&gt;filter12</td>\n",
       "      <td>11</td>\n",
       "      <td>TCP_tnt.TCP1_col_a_m1</td>\n",
       "      <td>0.021122</td>\n",
       "      <td>G2like_tnt.AT2G40260_colamp_a_m1</td>\n",
       "      <td>0.010394</td>\n",
       "      <td>141.0</td>\n",
       "      <td>157.0</td>\n",
       "      <td>378.0</td>\n",
       "      <td>676.0</td>\n",
       "      <td>0.000999</td>\n",
       "      <td>0.004951</td>\n",
       "      <td>TCP1</td>\n",
       "      <td>AT2G40260</td>\n",
       "    </tr>\n",
       "    <tr>\n",
       "      <td>40</td>\n",
       "      <td>filter0&lt;--&gt;filter82</td>\n",
       "      <td>81</td>\n",
       "      <td>TCP_tnt.TCP1_col_a_m1</td>\n",
       "      <td>0.021122</td>\n",
       "      <td>G2like_tnt.AT2G40260_colamp_a_m1</td>\n",
       "      <td>0.013137</td>\n",
       "      <td>186.0</td>\n",
       "      <td>24.0</td>\n",
       "      <td>699.0</td>\n",
       "      <td>1046.0</td>\n",
       "      <td>0.001348</td>\n",
       "      <td>0.006336</td>\n",
       "      <td>TCP1</td>\n",
       "      <td>AT2G40260</td>\n",
       "    </tr>\n",
       "    <tr>\n",
       "      <td>47</td>\n",
       "      <td>filter0&lt;--&gt;filter94</td>\n",
       "      <td>93</td>\n",
       "      <td>TCP_tnt.TCP1_col_a_m1</td>\n",
       "      <td>0.021122</td>\n",
       "      <td>Trihelix_tnt.AT1G76880_col_a_m1</td>\n",
       "      <td>0.041459</td>\n",
       "      <td>513.0</td>\n",
       "      <td>95.0</td>\n",
       "      <td>633.0</td>\n",
       "      <td>1037.0</td>\n",
       "      <td>0.007607</td>\n",
       "      <td>0.026373</td>\n",
       "      <td>TCP1</td>\n",
       "      <td>AT1G76880</td>\n",
       "    </tr>\n",
       "    <tr>\n",
       "      <td>53</td>\n",
       "      <td>filter0&lt;--&gt;filter102</td>\n",
       "      <td>101</td>\n",
       "      <td>TCP_tnt.TCP1_col_a_m1</td>\n",
       "      <td>0.021122</td>\n",
       "      <td>ZFHD_tnt.ATHB23_col_b_m1</td>\n",
       "      <td>0.002463</td>\n",
       "      <td>453.0</td>\n",
       "      <td>421.0</td>\n",
       "      <td>607.0</td>\n",
       "      <td>993.0</td>\n",
       "      <td>0.002164</td>\n",
       "      <td>0.009348</td>\n",
       "      <td>TCP1</td>\n",
       "      <td>ATHB23</td>\n",
       "    </tr>\n",
       "    <tr>\n",
       "      <td>71</td>\n",
       "      <td>filter0&lt;--&gt;filter132</td>\n",
       "      <td>131</td>\n",
       "      <td>TCP_tnt.TCP1_col_a_m1</td>\n",
       "      <td>0.021122</td>\n",
       "      <td>HB_tnt.ATHB40_col_a_m1</td>\n",
       "      <td>0.011440</td>\n",
       "      <td>189.0</td>\n",
       "      <td>22.0</td>\n",
       "      <td>371.0</td>\n",
       "      <td>622.0</td>\n",
       "      <td>0.000016</td>\n",
       "      <td>0.000166</td>\n",
       "      <td>TCP1</td>\n",
       "      <td>ATHB40</td>\n",
       "    </tr>\n",
       "  </tbody>\n",
       "</table>\n",
       "</div>"
      ],
      "text/plain": [
       "      filter_interaction  example_no                 motif1  motif1_qval  \\\n",
       "5    filter0<-->filter12          11  TCP_tnt.TCP1_col_a_m1     0.021122   \n",
       "40   filter0<-->filter82          81  TCP_tnt.TCP1_col_a_m1     0.021122   \n",
       "47   filter0<-->filter94          93  TCP_tnt.TCP1_col_a_m1     0.021122   \n",
       "53  filter0<-->filter102         101  TCP_tnt.TCP1_col_a_m1     0.021122   \n",
       "71  filter0<-->filter132         131  TCP_tnt.TCP1_col_a_m1     0.021122   \n",
       "\n",
       "                              motif2  motif2_qval  mean_distance  \\\n",
       "5   G2like_tnt.AT2G40260_colamp_a_m1     0.010394          141.0   \n",
       "40  G2like_tnt.AT2G40260_colamp_a_m1     0.013137          186.0   \n",
       "47   Trihelix_tnt.AT1G76880_col_a_m1     0.041459          513.0   \n",
       "53          ZFHD_tnt.ATHB23_col_b_m1     0.002463          453.0   \n",
       "71            HB_tnt.ATHB40_col_a_m1     0.011440          189.0   \n",
       "\n",
       "    mean_distance_bg  num_obs  num_obs_bg      pval  adjusted_pval   TF1  \\\n",
       "5              157.0    378.0       676.0  0.000999       0.004951  TCP1   \n",
       "40              24.0    699.0      1046.0  0.001348       0.006336  TCP1   \n",
       "47              95.0    633.0      1037.0  0.007607       0.026373  TCP1   \n",
       "53             421.0    607.0       993.0  0.002164       0.009348  TCP1   \n",
       "71              22.0    371.0       622.0  0.000016       0.000166  TCP1   \n",
       "\n",
       "          TF2  \n",
       "5   AT2G40260  \n",
       "40  AT2G40260  \n",
       "47  AT1G76880  \n",
       "53     ATHB23  \n",
       "71     ATHB40  "
      ]
     },
     "execution_count": 7,
     "metadata": {},
     "output_type": "execute_result"
    }
   ],
   "source": [
    "df.head()"
   ]
  },
  {
   "cell_type": "code",
   "execution_count": 8,
   "metadata": {},
   "outputs": [],
   "source": [
    "df['TF_Interaction'] = df.apply(lambda x: x['TF1']+r'$\\longleftrightarrow$'+x['TF2'], axis=1)"
   ]
  },
  {
   "cell_type": "markdown",
   "metadata": {},
   "source": [
    "### Drop same motif interactions"
   ]
  },
  {
   "cell_type": "code",
   "execution_count": 9,
   "metadata": {},
   "outputs": [],
   "source": [
    "df = df[df['TF1']!=df['TF2']]"
   ]
  },
  {
   "cell_type": "code",
   "execution_count": 10,
   "metadata": {},
   "outputs": [
    {
     "data": {
      "text/plain": [
       "(1730, 15)"
      ]
     },
     "execution_count": 10,
     "metadata": {},
     "output_type": "execute_result"
    }
   ],
   "source": [
    "df.shape"
   ]
  },
  {
   "cell_type": "code",
   "execution_count": 11,
   "metadata": {},
   "outputs": [],
   "source": [
    "df = df.reset_index(drop=True)"
   ]
  },
  {
   "cell_type": "markdown",
   "metadata": {},
   "source": [
    "### Fix redundant interaction pairs"
   ]
  },
  {
   "cell_type": "code",
   "execution_count": 12,
   "metadata": {},
   "outputs": [],
   "source": [
    "df = process_for_redundant_interactions(df, intr_type='TF')"
   ]
  },
  {
   "cell_type": "code",
   "execution_count": 13,
   "metadata": {},
   "outputs": [
    {
     "data": {
      "text/html": [
       "<div>\n",
       "<style scoped>\n",
       "    .dataframe tbody tr th:only-of-type {\n",
       "        vertical-align: middle;\n",
       "    }\n",
       "\n",
       "    .dataframe tbody tr th {\n",
       "        vertical-align: top;\n",
       "    }\n",
       "\n",
       "    .dataframe thead th {\n",
       "        text-align: right;\n",
       "    }\n",
       "</style>\n",
       "<table border=\"1\" class=\"dataframe\">\n",
       "  <thead>\n",
       "    <tr style=\"text-align: right;\">\n",
       "      <th></th>\n",
       "      <th>filter_interaction</th>\n",
       "      <th>example_no</th>\n",
       "      <th>motif1</th>\n",
       "      <th>motif1_qval</th>\n",
       "      <th>motif2</th>\n",
       "      <th>motif2_qval</th>\n",
       "      <th>mean_distance</th>\n",
       "      <th>mean_distance_bg</th>\n",
       "      <th>num_obs</th>\n",
       "      <th>num_obs_bg</th>\n",
       "      <th>pval</th>\n",
       "      <th>adjusted_pval</th>\n",
       "      <th>TF1</th>\n",
       "      <th>TF2</th>\n",
       "      <th>TF_Interaction</th>\n",
       "    </tr>\n",
       "  </thead>\n",
       "  <tbody>\n",
       "    <tr>\n",
       "      <td>0</td>\n",
       "      <td>filter0&lt;--&gt;filter12</td>\n",
       "      <td>11</td>\n",
       "      <td>TCP_tnt.TCP1_col_a_m1</td>\n",
       "      <td>0.021122</td>\n",
       "      <td>G2like_tnt.AT2G40260_colamp_a_m1</td>\n",
       "      <td>0.010394</td>\n",
       "      <td>141.0</td>\n",
       "      <td>157.0</td>\n",
       "      <td>378.0</td>\n",
       "      <td>676.0</td>\n",
       "      <td>0.000999</td>\n",
       "      <td>0.004951</td>\n",
       "      <td>TCP1</td>\n",
       "      <td>AT2G40260</td>\n",
       "      <td>TCP1$\\longleftrightarrow$AT2G40260</td>\n",
       "    </tr>\n",
       "    <tr>\n",
       "      <td>1</td>\n",
       "      <td>filter0&lt;--&gt;filter82</td>\n",
       "      <td>81</td>\n",
       "      <td>TCP_tnt.TCP1_col_a_m1</td>\n",
       "      <td>0.021122</td>\n",
       "      <td>G2like_tnt.AT2G40260_colamp_a_m1</td>\n",
       "      <td>0.013137</td>\n",
       "      <td>186.0</td>\n",
       "      <td>24.0</td>\n",
       "      <td>699.0</td>\n",
       "      <td>1046.0</td>\n",
       "      <td>0.001348</td>\n",
       "      <td>0.006336</td>\n",
       "      <td>TCP1</td>\n",
       "      <td>AT2G40260</td>\n",
       "      <td>TCP1$\\longleftrightarrow$AT2G40260</td>\n",
       "    </tr>\n",
       "    <tr>\n",
       "      <td>2</td>\n",
       "      <td>filter0&lt;--&gt;filter94</td>\n",
       "      <td>93</td>\n",
       "      <td>TCP_tnt.TCP1_col_a_m1</td>\n",
       "      <td>0.021122</td>\n",
       "      <td>Trihelix_tnt.AT1G76880_col_a_m1</td>\n",
       "      <td>0.041459</td>\n",
       "      <td>513.0</td>\n",
       "      <td>95.0</td>\n",
       "      <td>633.0</td>\n",
       "      <td>1037.0</td>\n",
       "      <td>0.007607</td>\n",
       "      <td>0.026373</td>\n",
       "      <td>TCP1</td>\n",
       "      <td>AT1G76880</td>\n",
       "      <td>TCP1$\\longleftrightarrow$AT1G76880</td>\n",
       "    </tr>\n",
       "    <tr>\n",
       "      <td>3</td>\n",
       "      <td>filter0&lt;--&gt;filter102</td>\n",
       "      <td>101</td>\n",
       "      <td>TCP_tnt.TCP1_col_a_m1</td>\n",
       "      <td>0.021122</td>\n",
       "      <td>ZFHD_tnt.ATHB23_col_b_m1</td>\n",
       "      <td>0.002463</td>\n",
       "      <td>453.0</td>\n",
       "      <td>421.0</td>\n",
       "      <td>607.0</td>\n",
       "      <td>993.0</td>\n",
       "      <td>0.002164</td>\n",
       "      <td>0.009348</td>\n",
       "      <td>TCP1</td>\n",
       "      <td>ATHB23</td>\n",
       "      <td>TCP1$\\longleftrightarrow$ATHB23</td>\n",
       "    </tr>\n",
       "    <tr>\n",
       "      <td>4</td>\n",
       "      <td>filter0&lt;--&gt;filter132</td>\n",
       "      <td>131</td>\n",
       "      <td>TCP_tnt.TCP1_col_a_m1</td>\n",
       "      <td>0.021122</td>\n",
       "      <td>HB_tnt.ATHB40_col_a_m1</td>\n",
       "      <td>0.011440</td>\n",
       "      <td>189.0</td>\n",
       "      <td>22.0</td>\n",
       "      <td>371.0</td>\n",
       "      <td>622.0</td>\n",
       "      <td>0.000016</td>\n",
       "      <td>0.000166</td>\n",
       "      <td>TCP1</td>\n",
       "      <td>ATHB40</td>\n",
       "      <td>TCP1$\\longleftrightarrow$ATHB40</td>\n",
       "    </tr>\n",
       "  </tbody>\n",
       "</table>\n",
       "</div>"
      ],
      "text/plain": [
       "     filter_interaction  example_no                 motif1  motif1_qval  \\\n",
       "0   filter0<-->filter12          11  TCP_tnt.TCP1_col_a_m1     0.021122   \n",
       "1   filter0<-->filter82          81  TCP_tnt.TCP1_col_a_m1     0.021122   \n",
       "2   filter0<-->filter94          93  TCP_tnt.TCP1_col_a_m1     0.021122   \n",
       "3  filter0<-->filter102         101  TCP_tnt.TCP1_col_a_m1     0.021122   \n",
       "4  filter0<-->filter132         131  TCP_tnt.TCP1_col_a_m1     0.021122   \n",
       "\n",
       "                             motif2  motif2_qval  mean_distance  \\\n",
       "0  G2like_tnt.AT2G40260_colamp_a_m1     0.010394          141.0   \n",
       "1  G2like_tnt.AT2G40260_colamp_a_m1     0.013137          186.0   \n",
       "2   Trihelix_tnt.AT1G76880_col_a_m1     0.041459          513.0   \n",
       "3          ZFHD_tnt.ATHB23_col_b_m1     0.002463          453.0   \n",
       "4            HB_tnt.ATHB40_col_a_m1     0.011440          189.0   \n",
       "\n",
       "   mean_distance_bg  num_obs  num_obs_bg      pval  adjusted_pval   TF1  \\\n",
       "0             157.0    378.0       676.0  0.000999       0.004951  TCP1   \n",
       "1              24.0    699.0      1046.0  0.001348       0.006336  TCP1   \n",
       "2              95.0    633.0      1037.0  0.007607       0.026373  TCP1   \n",
       "3             421.0    607.0       993.0  0.002164       0.009348  TCP1   \n",
       "4              22.0    371.0       622.0  0.000016       0.000166  TCP1   \n",
       "\n",
       "         TF2                      TF_Interaction  \n",
       "0  AT2G40260  TCP1$\\longleftrightarrow$AT2G40260  \n",
       "1  AT2G40260  TCP1$\\longleftrightarrow$AT2G40260  \n",
       "2  AT1G76880  TCP1$\\longleftrightarrow$AT1G76880  \n",
       "3     ATHB23     TCP1$\\longleftrightarrow$ATHB23  \n",
       "4     ATHB40     TCP1$\\longleftrightarrow$ATHB40  "
      ]
     },
     "execution_count": 13,
     "metadata": {},
     "output_type": "execute_result"
    }
   ],
   "source": [
    "df.head()"
   ]
  },
  {
   "cell_type": "code",
   "execution_count": 14,
   "metadata": {},
   "outputs": [
    {
     "data": {
      "text/plain": [
       "(1730, 15)"
      ]
     },
     "execution_count": 14,
     "metadata": {},
     "output_type": "execute_result"
    }
   ],
   "source": [
    "df.shape"
   ]
  },
  {
   "cell_type": "markdown",
   "metadata": {},
   "source": [
    "## Most Frequent TF Family Interactions"
   ]
  },
  {
   "cell_type": "code",
   "execution_count": 15,
   "metadata": {},
   "outputs": [],
   "source": [
    "df['TF1_Family'] = df['motif1'].apply(lambda x: x.split('_')[0])\n",
    "df['TF2_Family'] = df['motif2'].apply(lambda x: x.split('_')[0])"
   ]
  },
  {
   "cell_type": "code",
   "execution_count": 16,
   "metadata": {},
   "outputs": [],
   "source": [
    "df['Family_Interaction'] = df.apply(lambda x: x['TF1_Family']+r'$\\longleftrightarrow$'+x['TF2_Family'],axis=1)"
   ]
  },
  {
   "cell_type": "code",
   "execution_count": 17,
   "metadata": {},
   "outputs": [],
   "source": [
    "df = process_for_redundant_interactions(df, intr_type='Family')"
   ]
  },
  {
   "cell_type": "code",
   "execution_count": 18,
   "metadata": {},
   "outputs": [
    {
     "data": {
      "text/html": [
       "<div>\n",
       "<style scoped>\n",
       "    .dataframe tbody tr th:only-of-type {\n",
       "        vertical-align: middle;\n",
       "    }\n",
       "\n",
       "    .dataframe tbody tr th {\n",
       "        vertical-align: top;\n",
       "    }\n",
       "\n",
       "    .dataframe thead th {\n",
       "        text-align: right;\n",
       "    }\n",
       "</style>\n",
       "<table border=\"1\" class=\"dataframe\">\n",
       "  <thead>\n",
       "    <tr style=\"text-align: right;\">\n",
       "      <th></th>\n",
       "      <th>filter_interaction</th>\n",
       "      <th>example_no</th>\n",
       "      <th>motif1</th>\n",
       "      <th>motif1_qval</th>\n",
       "      <th>motif2</th>\n",
       "      <th>motif2_qval</th>\n",
       "      <th>mean_distance</th>\n",
       "      <th>mean_distance_bg</th>\n",
       "      <th>num_obs</th>\n",
       "      <th>num_obs_bg</th>\n",
       "      <th>pval</th>\n",
       "      <th>adjusted_pval</th>\n",
       "      <th>TF1</th>\n",
       "      <th>TF2</th>\n",
       "      <th>TF_Interaction</th>\n",
       "      <th>TF1_Family</th>\n",
       "      <th>TF2_Family</th>\n",
       "      <th>Family_Interaction</th>\n",
       "    </tr>\n",
       "  </thead>\n",
       "  <tbody>\n",
       "    <tr>\n",
       "      <td>0</td>\n",
       "      <td>filter0&lt;--&gt;filter12</td>\n",
       "      <td>11</td>\n",
       "      <td>TCP_tnt.TCP1_col_a_m1</td>\n",
       "      <td>0.021122</td>\n",
       "      <td>G2like_tnt.AT2G40260_colamp_a_m1</td>\n",
       "      <td>0.010394</td>\n",
       "      <td>141.0</td>\n",
       "      <td>157.0</td>\n",
       "      <td>378.0</td>\n",
       "      <td>676.0</td>\n",
       "      <td>0.000999</td>\n",
       "      <td>0.004951</td>\n",
       "      <td>TCP1</td>\n",
       "      <td>AT2G40260</td>\n",
       "      <td>TCP1$\\longleftrightarrow$AT2G40260</td>\n",
       "      <td>TCP</td>\n",
       "      <td>G2like</td>\n",
       "      <td>TCP$\\longleftrightarrow$G2like</td>\n",
       "    </tr>\n",
       "    <tr>\n",
       "      <td>1</td>\n",
       "      <td>filter0&lt;--&gt;filter82</td>\n",
       "      <td>81</td>\n",
       "      <td>TCP_tnt.TCP1_col_a_m1</td>\n",
       "      <td>0.021122</td>\n",
       "      <td>G2like_tnt.AT2G40260_colamp_a_m1</td>\n",
       "      <td>0.013137</td>\n",
       "      <td>186.0</td>\n",
       "      <td>24.0</td>\n",
       "      <td>699.0</td>\n",
       "      <td>1046.0</td>\n",
       "      <td>0.001348</td>\n",
       "      <td>0.006336</td>\n",
       "      <td>TCP1</td>\n",
       "      <td>AT2G40260</td>\n",
       "      <td>TCP1$\\longleftrightarrow$AT2G40260</td>\n",
       "      <td>TCP</td>\n",
       "      <td>G2like</td>\n",
       "      <td>TCP$\\longleftrightarrow$G2like</td>\n",
       "    </tr>\n",
       "    <tr>\n",
       "      <td>2</td>\n",
       "      <td>filter0&lt;--&gt;filter94</td>\n",
       "      <td>93</td>\n",
       "      <td>TCP_tnt.TCP1_col_a_m1</td>\n",
       "      <td>0.021122</td>\n",
       "      <td>Trihelix_tnt.AT1G76880_col_a_m1</td>\n",
       "      <td>0.041459</td>\n",
       "      <td>513.0</td>\n",
       "      <td>95.0</td>\n",
       "      <td>633.0</td>\n",
       "      <td>1037.0</td>\n",
       "      <td>0.007607</td>\n",
       "      <td>0.026373</td>\n",
       "      <td>TCP1</td>\n",
       "      <td>AT1G76880</td>\n",
       "      <td>TCP1$\\longleftrightarrow$AT1G76880</td>\n",
       "      <td>TCP</td>\n",
       "      <td>Trihelix</td>\n",
       "      <td>TCP$\\longleftrightarrow$Trihelix</td>\n",
       "    </tr>\n",
       "    <tr>\n",
       "      <td>3</td>\n",
       "      <td>filter0&lt;--&gt;filter102</td>\n",
       "      <td>101</td>\n",
       "      <td>TCP_tnt.TCP1_col_a_m1</td>\n",
       "      <td>0.021122</td>\n",
       "      <td>ZFHD_tnt.ATHB23_col_b_m1</td>\n",
       "      <td>0.002463</td>\n",
       "      <td>453.0</td>\n",
       "      <td>421.0</td>\n",
       "      <td>607.0</td>\n",
       "      <td>993.0</td>\n",
       "      <td>0.002164</td>\n",
       "      <td>0.009348</td>\n",
       "      <td>TCP1</td>\n",
       "      <td>ATHB23</td>\n",
       "      <td>TCP1$\\longleftrightarrow$ATHB23</td>\n",
       "      <td>TCP</td>\n",
       "      <td>ZFHD</td>\n",
       "      <td>TCP$\\longleftrightarrow$ZFHD</td>\n",
       "    </tr>\n",
       "    <tr>\n",
       "      <td>4</td>\n",
       "      <td>filter0&lt;--&gt;filter132</td>\n",
       "      <td>131</td>\n",
       "      <td>TCP_tnt.TCP1_col_a_m1</td>\n",
       "      <td>0.021122</td>\n",
       "      <td>HB_tnt.ATHB40_col_a_m1</td>\n",
       "      <td>0.011440</td>\n",
       "      <td>189.0</td>\n",
       "      <td>22.0</td>\n",
       "      <td>371.0</td>\n",
       "      <td>622.0</td>\n",
       "      <td>0.000016</td>\n",
       "      <td>0.000166</td>\n",
       "      <td>TCP1</td>\n",
       "      <td>ATHB40</td>\n",
       "      <td>TCP1$\\longleftrightarrow$ATHB40</td>\n",
       "      <td>TCP</td>\n",
       "      <td>HB</td>\n",
       "      <td>TCP$\\longleftrightarrow$HB</td>\n",
       "    </tr>\n",
       "  </tbody>\n",
       "</table>\n",
       "</div>"
      ],
      "text/plain": [
       "     filter_interaction  example_no                 motif1  motif1_qval  \\\n",
       "0   filter0<-->filter12          11  TCP_tnt.TCP1_col_a_m1     0.021122   \n",
       "1   filter0<-->filter82          81  TCP_tnt.TCP1_col_a_m1     0.021122   \n",
       "2   filter0<-->filter94          93  TCP_tnt.TCP1_col_a_m1     0.021122   \n",
       "3  filter0<-->filter102         101  TCP_tnt.TCP1_col_a_m1     0.021122   \n",
       "4  filter0<-->filter132         131  TCP_tnt.TCP1_col_a_m1     0.021122   \n",
       "\n",
       "                             motif2  motif2_qval  mean_distance  \\\n",
       "0  G2like_tnt.AT2G40260_colamp_a_m1     0.010394          141.0   \n",
       "1  G2like_tnt.AT2G40260_colamp_a_m1     0.013137          186.0   \n",
       "2   Trihelix_tnt.AT1G76880_col_a_m1     0.041459          513.0   \n",
       "3          ZFHD_tnt.ATHB23_col_b_m1     0.002463          453.0   \n",
       "4            HB_tnt.ATHB40_col_a_m1     0.011440          189.0   \n",
       "\n",
       "   mean_distance_bg  num_obs  num_obs_bg      pval  adjusted_pval   TF1  \\\n",
       "0             157.0    378.0       676.0  0.000999       0.004951  TCP1   \n",
       "1              24.0    699.0      1046.0  0.001348       0.006336  TCP1   \n",
       "2              95.0    633.0      1037.0  0.007607       0.026373  TCP1   \n",
       "3             421.0    607.0       993.0  0.002164       0.009348  TCP1   \n",
       "4              22.0    371.0       622.0  0.000016       0.000166  TCP1   \n",
       "\n",
       "         TF2                      TF_Interaction TF1_Family TF2_Family  \\\n",
       "0  AT2G40260  TCP1$\\longleftrightarrow$AT2G40260        TCP     G2like   \n",
       "1  AT2G40260  TCP1$\\longleftrightarrow$AT2G40260        TCP     G2like   \n",
       "2  AT1G76880  TCP1$\\longleftrightarrow$AT1G76880        TCP   Trihelix   \n",
       "3     ATHB23     TCP1$\\longleftrightarrow$ATHB23        TCP       ZFHD   \n",
       "4     ATHB40     TCP1$\\longleftrightarrow$ATHB40        TCP         HB   \n",
       "\n",
       "                 Family_Interaction  \n",
       "0    TCP$\\longleftrightarrow$G2like  \n",
       "1    TCP$\\longleftrightarrow$G2like  \n",
       "2  TCP$\\longleftrightarrow$Trihelix  \n",
       "3      TCP$\\longleftrightarrow$ZFHD  \n",
       "4        TCP$\\longleftrightarrow$HB  "
      ]
     },
     "execution_count": 18,
     "metadata": {},
     "output_type": "execute_result"
    }
   ],
   "source": [
    "df.head()"
   ]
  },
  {
   "cell_type": "markdown",
   "metadata": {},
   "source": [
    "### Distribution of individual TF or TF family interactions"
   ]
  },
  {
   "cell_type": "code",
   "execution_count": 19,
   "metadata": {
    "scrolled": false
   },
   "outputs": [
    {
     "data": {
      "image/png": "[encoded data removed]",
      "text/plain": [
       "<Figure size 1296x432 with 1 Axes>"
      ]
     },
     "metadata": {
      "needs_background": "light"
     },
     "output_type": "display_data"
    }
   ],
   "source": [
    "plot_frequent_interactions(df, intr_level='Family_Interaction', first_n=15)"
   ]
  },
  {
   "cell_type": "markdown",
   "metadata": {},
   "source": [
    "### Plot interaction distance distribution"
   ]
  },
  {
   "cell_type": "code",
   "execution_count": 20,
   "metadata": {
    "scrolled": false
   },
   "outputs": [
    {
     "data": {
      "image/png": "[encoded data removed]",
      "text/plain": [
       "<Figure size 576x432 with 1 Axes>"
      ]
     },
     "metadata": {
      "needs_background": "light"
     },
     "output_type": "display_data"
    }
   ],
   "source": [
    "plot_interaction_distance_distribution(df, nbins=50, fig_size=(8,6))"
   ]
  },
  {
   "cell_type": "markdown",
   "metadata": {},
   "source": [
    "### Most frequent interactions and their respective interaction distances"
   ]
  },
  {
   "cell_type": "code",
   "execution_count": 21,
   "metadata": {},
   "outputs": [
    {
     "data": {
      "image/png": "[encoded data removed]",
      "text/plain": [
       "<Figure size 1296x360 with 2 Axes>"
      ]
     },
     "metadata": {
      "needs_background": "light"
     },
     "output_type": "display_data"
    }
   ],
   "source": [
    "plot_interactions_and_distances_boxplot(df, first_n=15, sort_distances=False, add_sub_caption=True, show_mean_dist=True, dist_color='slateblue', cap_pos=[0.5, -0.89])"
   ]
  },
  {
   "cell_type": "code",
   "execution_count": 22,
   "metadata": {},
   "outputs": [
    {
     "data": {
      "image/png": "[encoded data removed]",
      "text/plain": [
       "<Figure size 1296x360 with 2 Axes>"
      ]
     },
     "metadata": {
      "needs_background": "light"
     },
     "output_type": "display_data"
    }
   ],
   "source": [
    "plot_interactions_and_distances_histogram(df, first_n=15, dist_nbins=25, add_sub_caption=True, show_mean_dist=True, dist_colors=['slateblue', 'darkkhaki'], cap_pos=[0.5, -0.89])"
   ]
  },
  {
   "cell_type": "code",
   "execution_count": null,
   "metadata": {},
   "outputs": [],
   "source": []
  }
 ],
 "metadata": {
  "kernelspec": {
   "display_name": "Python 3",
   "language": "python",
   "name": "python3"
  },
  "language_info": {
   "codemirror_mode": {
    "name": "ipython",
    "version": 3
   },
   "file_extension": ".py",
   "mimetype": "text/x-python",
   "name": "python",
   "nbconvert_exporter": "python",
   "pygments_lexer": "ipython3",
   "version": "3.7.3"
  }
 },
 "nbformat": 4,
 "nbformat_minor": 2
}
