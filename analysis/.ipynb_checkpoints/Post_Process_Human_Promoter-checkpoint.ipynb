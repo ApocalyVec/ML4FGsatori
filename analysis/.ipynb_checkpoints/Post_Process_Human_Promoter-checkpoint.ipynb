{
 "cells": [
  {
   "cell_type": "markdown",
   "metadata": {},
   "source": [
    "## Imports"
   ]
  },
  {
   "cell_type": "code",
   "execution_count": 137,
   "metadata": {},
   "outputs": [],
   "source": [
    "import pandas as pd\n",
    "import sys\n",
    "\n",
    "sys.path.insert(0,'../')\n",
    "\n",
    "from postprocess import *"
   ]
  },
  {
   "cell_type": "markdown",
   "metadata": {},
   "source": [
    "## Interaction data processing"
   ]
  },
  {
   "cell_type": "code",
   "execution_count": 173,
   "metadata": {},
   "outputs": [],
   "source": [
    "# For SATORI based interactions\n",
    "#df = pd.read_csv('../Results/Human_Promoter_Analysis_euclidean_v8/Interactions_SATORI/interactions_summary_attnLimit-0.08.txt',sep='\\t')\n",
    "##df = pd.read_csv('../Results/Human_Promoter_Analysis_euclidean_v8/Interactions_SATORI/interactions_summary_attnLimit-0.04.txt',sep='\\t')\n",
    "\n",
    "# For FIS based interactions\n",
    "df = pd.read_csv('../Results/Human_Promoter_Analysis_euclidean_v8/Interactions_FIS/interactions_summary_attnLimit-50.0.txt',sep='\\t')\n",
    "##df = pd.read_csv('../Results/Human_Promoter_Analysis_euclidean_v8_fixed/Interactions_FIS/interactions_summary_attnLimit-0.txt',sep='\\t')"
   ]
  },
  {
   "cell_type": "markdown",
   "metadata": {},
   "source": [
    "### Filter based on interaction and motif hit p-values, and keep the most significant interactions"
   ]
  },
  {
   "cell_type": "code",
   "execution_count": 174,
   "metadata": {},
   "outputs": [],
   "source": [
    "df = filter_data_on_thresholds(df, motifA_pval_cutoff=0.05, motifB_pval_cutoff=0.05)"
   ]
  },
  {
   "cell_type": "code",
   "execution_count": 175,
   "metadata": {},
   "outputs": [
    {
     "data": {
      "text/plain": [
       "(1450, 12)"
      ]
     },
     "execution_count": 175,
     "metadata": {},
     "output_type": "execute_result"
    }
   ],
   "source": [
    "df.shape"
   ]
  },
  {
   "cell_type": "markdown",
   "metadata": {},
   "source": [
    "### Load the motif description file to annotate the interactions. \n",
    "Here we use CISBP (U toronto) motif description file. "
   ]
  },
  {
   "cell_type": "code",
   "execution_count": 141,
   "metadata": {},
   "outputs": [],
   "source": [
    "df_annotate = pd.read_csv('../../../Basset_Splicing_IR-iDiffIR/Analysis_For_none_network-typeB_lotus_posThresh-0.60/MEME_analysis/Homo_sapiens_2019_01_14_4_17_pm/TF_Information_all_motifs.txt',sep='\\t')"
   ]
  },
  {
   "cell_type": "code",
   "execution_count": 142,
   "metadata": {},
   "outputs": [
    {
     "data": {
      "text/html": [
       "<div>\n",
       "<style scoped>\n",
       "    .dataframe tbody tr th:only-of-type {\n",
       "        vertical-align: middle;\n",
       "    }\n",
       "\n",
       "    .dataframe tbody tr th {\n",
       "        vertical-align: top;\n",
       "    }\n",
       "\n",
       "    .dataframe thead th {\n",
       "        text-align: right;\n",
       "    }\n",
       "</style>\n",
       "<table border=\"1\" class=\"dataframe\">\n",
       "  <thead>\n",
       "    <tr style=\"text-align: right;\">\n",
       "      <th></th>\n",
       "      <th>TF_ID</th>\n",
       "      <th>Family_ID</th>\n",
       "      <th>TSource_ID</th>\n",
       "      <th>Motif_ID</th>\n",
       "      <th>MSource_ID</th>\n",
       "      <th>DBID</th>\n",
       "      <th>TF_Name</th>\n",
       "      <th>TF_Species</th>\n",
       "      <th>TF_Status</th>\n",
       "      <th>Family_Name</th>\n",
       "      <th>...</th>\n",
       "      <th>MSource_Type</th>\n",
       "      <th>MSource_Author</th>\n",
       "      <th>MSource_Year</th>\n",
       "      <th>PMID</th>\n",
       "      <th>MSource_Version</th>\n",
       "      <th>TfSource_Name</th>\n",
       "      <th>TfSource_URL</th>\n",
       "      <th>TfSource_Year</th>\n",
       "      <th>TfSource_Month</th>\n",
       "      <th>TfSource_Day</th>\n",
       "    </tr>\n",
       "  </thead>\n",
       "  <tbody>\n",
       "    <tr>\n",
       "      <td>0</td>\n",
       "      <td>T004843_1.02</td>\n",
       "      <td>F035_1.02</td>\n",
       "      <td>TS19_1.02</td>\n",
       "      <td>M2938_1.02</td>\n",
       "      <td>MS26_1.02</td>\n",
       "      <td>ENSG00000008196</td>\n",
       "      <td>TFAP2B</td>\n",
       "      <td>Homo_sapiens</td>\n",
       "      <td>D</td>\n",
       "      <td>AP-2</td>\n",
       "      <td>...</td>\n",
       "      <td>Transfac</td>\n",
       "      <td>Matys</td>\n",
       "      <td>2006</td>\n",
       "      <td>16381825</td>\n",
       "      <td>2014.2</td>\n",
       "      <td>Ensembl</td>\n",
       "      <td>http://www.ensembl.org/</td>\n",
       "      <td>2011</td>\n",
       "      <td>Oct</td>\n",
       "      <td>26</td>\n",
       "    </tr>\n",
       "    <tr>\n",
       "      <td>1</td>\n",
       "      <td>T004843_1.02</td>\n",
       "      <td>F035_1.02</td>\n",
       "      <td>TS19_1.02</td>\n",
       "      <td>M5917_1.02</td>\n",
       "      <td>MS20_1.02</td>\n",
       "      <td>ENSG00000008196</td>\n",
       "      <td>TFAP2B</td>\n",
       "      <td>Homo_sapiens</td>\n",
       "      <td>D</td>\n",
       "      <td>AP-2</td>\n",
       "      <td>...</td>\n",
       "      <td>SELEX</td>\n",
       "      <td>Jolma</td>\n",
       "      <td>2013</td>\n",
       "      <td>23332764</td>\n",
       "      <td>January 2013</td>\n",
       "      <td>Ensembl</td>\n",
       "      <td>http://www.ensembl.org/</td>\n",
       "      <td>2011</td>\n",
       "      <td>Oct</td>\n",
       "      <td>26</td>\n",
       "    </tr>\n",
       "    <tr>\n",
       "      <td>2</td>\n",
       "      <td>T004843_1.02</td>\n",
       "      <td>F035_1.02</td>\n",
       "      <td>TS19_1.02</td>\n",
       "      <td>M5918_1.02</td>\n",
       "      <td>MS20_1.02</td>\n",
       "      <td>ENSG00000008196</td>\n",
       "      <td>TFAP2B</td>\n",
       "      <td>Homo_sapiens</td>\n",
       "      <td>D</td>\n",
       "      <td>AP-2</td>\n",
       "      <td>...</td>\n",
       "      <td>SELEX</td>\n",
       "      <td>Jolma</td>\n",
       "      <td>2013</td>\n",
       "      <td>23332764</td>\n",
       "      <td>January 2013</td>\n",
       "      <td>Ensembl</td>\n",
       "      <td>http://www.ensembl.org/</td>\n",
       "      <td>2011</td>\n",
       "      <td>Oct</td>\n",
       "      <td>26</td>\n",
       "    </tr>\n",
       "    <tr>\n",
       "      <td>3</td>\n",
       "      <td>T004843_1.02</td>\n",
       "      <td>F035_1.02</td>\n",
       "      <td>TS19_1.02</td>\n",
       "      <td>M5919_1.02</td>\n",
       "      <td>MS20_1.02</td>\n",
       "      <td>ENSG00000008196</td>\n",
       "      <td>TFAP2B</td>\n",
       "      <td>Homo_sapiens</td>\n",
       "      <td>D</td>\n",
       "      <td>AP-2</td>\n",
       "      <td>...</td>\n",
       "      <td>SELEX</td>\n",
       "      <td>Jolma</td>\n",
       "      <td>2013</td>\n",
       "      <td>23332764</td>\n",
       "      <td>January 2013</td>\n",
       "      <td>Ensembl</td>\n",
       "      <td>http://www.ensembl.org/</td>\n",
       "      <td>2011</td>\n",
       "      <td>Oct</td>\n",
       "      <td>26</td>\n",
       "    </tr>\n",
       "    <tr>\n",
       "      <td>4</td>\n",
       "      <td>T004843_1.02</td>\n",
       "      <td>F035_1.02</td>\n",
       "      <td>TS19_1.02</td>\n",
       "      <td>M6144_1.02</td>\n",
       "      <td>MS18_1.02</td>\n",
       "      <td>ENSG00000008196</td>\n",
       "      <td>TFAP2B</td>\n",
       "      <td>Homo_sapiens</td>\n",
       "      <td>D</td>\n",
       "      <td>AP-2</td>\n",
       "      <td>...</td>\n",
       "      <td>HocoMoco</td>\n",
       "      <td>Kulakovskiy</td>\n",
       "      <td>2013</td>\n",
       "      <td>23175603</td>\n",
       "      <td>July 2014</td>\n",
       "      <td>Ensembl</td>\n",
       "      <td>http://www.ensembl.org/</td>\n",
       "      <td>2011</td>\n",
       "      <td>Oct</td>\n",
       "      <td>26</td>\n",
       "    </tr>\n",
       "  </tbody>\n",
       "</table>\n",
       "<p>5 rows × 26 columns</p>\n",
       "</div>"
      ],
      "text/plain": [
       "          TF_ID  Family_ID TSource_ID    Motif_ID MSource_ID             DBID  \\\n",
       "0  T004843_1.02  F035_1.02  TS19_1.02  M2938_1.02  MS26_1.02  ENSG00000008196   \n",
       "1  T004843_1.02  F035_1.02  TS19_1.02  M5917_1.02  MS20_1.02  ENSG00000008196   \n",
       "2  T004843_1.02  F035_1.02  TS19_1.02  M5918_1.02  MS20_1.02  ENSG00000008196   \n",
       "3  T004843_1.02  F035_1.02  TS19_1.02  M5919_1.02  MS20_1.02  ENSG00000008196   \n",
       "4  T004843_1.02  F035_1.02  TS19_1.02  M6144_1.02  MS18_1.02  ENSG00000008196   \n",
       "\n",
       "  TF_Name    TF_Species TF_Status Family_Name  ... MSource_Type  \\\n",
       "0  TFAP2B  Homo_sapiens         D        AP-2  ...     Transfac   \n",
       "1  TFAP2B  Homo_sapiens         D        AP-2  ...        SELEX   \n",
       "2  TFAP2B  Homo_sapiens         D        AP-2  ...        SELEX   \n",
       "3  TFAP2B  Homo_sapiens         D        AP-2  ...        SELEX   \n",
       "4  TFAP2B  Homo_sapiens         D        AP-2  ...     HocoMoco   \n",
       "\n",
       "   MSource_Author  MSource_Year      PMID MSource_Version TfSource_Name  \\\n",
       "0           Matys          2006  16381825          2014.2       Ensembl   \n",
       "1           Jolma          2013  23332764    January 2013       Ensembl   \n",
       "2           Jolma          2013  23332764    January 2013       Ensembl   \n",
       "3           Jolma          2013  23332764    January 2013       Ensembl   \n",
       "4     Kulakovskiy          2013  23175603       July 2014       Ensembl   \n",
       "\n",
       "              TfSource_URL TfSource_Year TfSource_Month TfSource_Day  \n",
       "0  http://www.ensembl.org/          2011            Oct           26  \n",
       "1  http://www.ensembl.org/          2011            Oct           26  \n",
       "2  http://www.ensembl.org/          2011            Oct           26  \n",
       "3  http://www.ensembl.org/          2011            Oct           26  \n",
       "4  http://www.ensembl.org/          2011            Oct           26  \n",
       "\n",
       "[5 rows x 26 columns]"
      ]
     },
     "execution_count": 142,
     "metadata": {},
     "output_type": "execute_result"
    }
   ],
   "source": [
    "df_annotate.head()"
   ]
  },
  {
   "cell_type": "markdown",
   "metadata": {},
   "source": [
    "### Annotate the interacting motifs"
   ]
  },
  {
   "cell_type": "code",
   "execution_count": 143,
   "metadata": {},
   "outputs": [],
   "source": [
    "df['TF1'] = df['motif1'].apply(get_annotation, annotation_data=df_annotate, single_TF=True)\n",
    "df['TF2'] = df['motif2'].apply(get_annotation, annotation_data=df_annotate, single_TF=True)"
   ]
  },
  {
   "cell_type": "code",
   "execution_count": 144,
   "metadata": {
    "scrolled": true
   },
   "outputs": [
    {
     "data": {
      "text/html": [
       "<div>\n",
       "<style scoped>\n",
       "    .dataframe tbody tr th:only-of-type {\n",
       "        vertical-align: middle;\n",
       "    }\n",
       "\n",
       "    .dataframe tbody tr th {\n",
       "        vertical-align: top;\n",
       "    }\n",
       "\n",
       "    .dataframe thead th {\n",
       "        text-align: right;\n",
       "    }\n",
       "</style>\n",
       "<table border=\"1\" class=\"dataframe\">\n",
       "  <thead>\n",
       "    <tr style=\"text-align: right;\">\n",
       "      <th></th>\n",
       "      <th>filter_interaction</th>\n",
       "      <th>example_no</th>\n",
       "      <th>motif1</th>\n",
       "      <th>motif1_qval</th>\n",
       "      <th>motif2</th>\n",
       "      <th>motif2_qval</th>\n",
       "      <th>mean_distance</th>\n",
       "      <th>mean_distance_bg</th>\n",
       "      <th>num_obs</th>\n",
       "      <th>num_obs_bg</th>\n",
       "      <th>pval</th>\n",
       "      <th>adjusted_pval</th>\n",
       "      <th>TF1</th>\n",
       "      <th>TF2</th>\n",
       "    </tr>\n",
       "  </thead>\n",
       "  <tbody>\n",
       "    <tr>\n",
       "      <td>0</td>\n",
       "      <td>filter0&lt;--&gt;filter14</td>\n",
       "      <td>13</td>\n",
       "      <td>M1592_1.02</td>\n",
       "      <td>0.000295</td>\n",
       "      <td>M0891_1.02</td>\n",
       "      <td>0.023475</td>\n",
       "      <td>121.0</td>\n",
       "      <td>127.0</td>\n",
       "      <td>101.0</td>\n",
       "      <td>241.0</td>\n",
       "      <td>1.080274e-05</td>\n",
       "      <td>3.087428e-05</td>\n",
       "      <td>SOX3</td>\n",
       "      <td>TLX2</td>\n",
       "    </tr>\n",
       "    <tr>\n",
       "      <td>1</td>\n",
       "      <td>filter0&lt;--&gt;filter21</td>\n",
       "      <td>20</td>\n",
       "      <td>M1592_1.02</td>\n",
       "      <td>0.000295</td>\n",
       "      <td>M0891_1.02</td>\n",
       "      <td>0.003707</td>\n",
       "      <td>314.0</td>\n",
       "      <td>575.0</td>\n",
       "      <td>113.0</td>\n",
       "      <td>186.0</td>\n",
       "      <td>6.423997e-10</td>\n",
       "      <td>6.368386e-09</td>\n",
       "      <td>SOX3</td>\n",
       "      <td>TLX2</td>\n",
       "    </tr>\n",
       "    <tr>\n",
       "      <td>2</td>\n",
       "      <td>filter0&lt;--&gt;filter23</td>\n",
       "      <td>22</td>\n",
       "      <td>M1592_1.02</td>\n",
       "      <td>0.000295</td>\n",
       "      <td>M0891_1.02</td>\n",
       "      <td>0.009776</td>\n",
       "      <td>25.0</td>\n",
       "      <td>107.0</td>\n",
       "      <td>165.0</td>\n",
       "      <td>219.0</td>\n",
       "      <td>4.590785e-07</td>\n",
       "      <td>1.889219e-06</td>\n",
       "      <td>SOX3</td>\n",
       "      <td>TLX2</td>\n",
       "    </tr>\n",
       "    <tr>\n",
       "      <td>3</td>\n",
       "      <td>filter0&lt;--&gt;filter28</td>\n",
       "      <td>27</td>\n",
       "      <td>M1592_1.02</td>\n",
       "      <td>0.000295</td>\n",
       "      <td>M0609_1.02</td>\n",
       "      <td>0.001205</td>\n",
       "      <td>175.0</td>\n",
       "      <td>122.0</td>\n",
       "      <td>152.0</td>\n",
       "      <td>129.0</td>\n",
       "      <td>1.799542e-07</td>\n",
       "      <td>8.453012e-07</td>\n",
       "      <td>SOX3</td>\n",
       "      <td>DNMT1</td>\n",
       "    </tr>\n",
       "    <tr>\n",
       "      <td>4</td>\n",
       "      <td>filter0&lt;--&gt;filter32</td>\n",
       "      <td>31</td>\n",
       "      <td>M1592_1.02</td>\n",
       "      <td>0.000295</td>\n",
       "      <td>M1605_1.02</td>\n",
       "      <td>0.009166</td>\n",
       "      <td>151.0</td>\n",
       "      <td>324.0</td>\n",
       "      <td>140.0</td>\n",
       "      <td>308.0</td>\n",
       "      <td>5.751553e-05</td>\n",
       "      <td>1.322778e-04</td>\n",
       "      <td>SOX3</td>\n",
       "      <td>SOX1</td>\n",
       "    </tr>\n",
       "  </tbody>\n",
       "</table>\n",
       "</div>"
      ],
      "text/plain": [
       "    filter_interaction  example_no      motif1  motif1_qval      motif2  \\\n",
       "0  filter0<-->filter14          13  M1592_1.02     0.000295  M0891_1.02   \n",
       "1  filter0<-->filter21          20  M1592_1.02     0.000295  M0891_1.02   \n",
       "2  filter0<-->filter23          22  M1592_1.02     0.000295  M0891_1.02   \n",
       "3  filter0<-->filter28          27  M1592_1.02     0.000295  M0609_1.02   \n",
       "4  filter0<-->filter32          31  M1592_1.02     0.000295  M1605_1.02   \n",
       "\n",
       "   motif2_qval  mean_distance  mean_distance_bg  num_obs  num_obs_bg  \\\n",
       "0     0.023475          121.0             127.0    101.0       241.0   \n",
       "1     0.003707          314.0             575.0    113.0       186.0   \n",
       "2     0.009776           25.0             107.0    165.0       219.0   \n",
       "3     0.001205          175.0             122.0    152.0       129.0   \n",
       "4     0.009166          151.0             324.0    140.0       308.0   \n",
       "\n",
       "           pval  adjusted_pval   TF1    TF2  \n",
       "0  1.080274e-05   3.087428e-05  SOX3   TLX2  \n",
       "1  6.423997e-10   6.368386e-09  SOX3   TLX2  \n",
       "2  4.590785e-07   1.889219e-06  SOX3   TLX2  \n",
       "3  1.799542e-07   8.453012e-07  SOX3  DNMT1  \n",
       "4  5.751553e-05   1.322778e-04  SOX3   SOX1  "
      ]
     },
     "execution_count": 144,
     "metadata": {},
     "output_type": "execute_result"
    }
   ],
   "source": [
    "df.head()"
   ]
  },
  {
   "cell_type": "code",
   "execution_count": 145,
   "metadata": {},
   "outputs": [],
   "source": [
    "df['TF_Interaction'] = df.apply(lambda x: x['TF1']+r'$\\longleftrightarrow$'+x['TF2'], axis=1)"
   ]
  },
  {
   "cell_type": "markdown",
   "metadata": {},
   "source": [
    "### Drop same motif interactions"
   ]
  },
  {
   "cell_type": "code",
   "execution_count": 146,
   "metadata": {},
   "outputs": [],
   "source": [
    "df = df[df['TF1']!=df['TF2']]"
   ]
  },
  {
   "cell_type": "code",
   "execution_count": 147,
   "metadata": {},
   "outputs": [
    {
     "data": {
      "text/plain": [
       "(1307, 15)"
      ]
     },
     "execution_count": 147,
     "metadata": {},
     "output_type": "execute_result"
    }
   ],
   "source": [
    "df.shape"
   ]
  },
  {
   "cell_type": "code",
   "execution_count": 148,
   "metadata": {},
   "outputs": [],
   "source": [
    "df = df.reset_index(drop=True)"
   ]
  },
  {
   "cell_type": "markdown",
   "metadata": {},
   "source": [
    "### Fix redundant interaction pairs"
   ]
  },
  {
   "cell_type": "code",
   "execution_count": 149,
   "metadata": {},
   "outputs": [],
   "source": [
    "df = process_for_redundant_interactions(df, intr_type='TF')"
   ]
  },
  {
   "cell_type": "code",
   "execution_count": 150,
   "metadata": {},
   "outputs": [
    {
     "data": {
      "text/html": [
       "<div>\n",
       "<style scoped>\n",
       "    .dataframe tbody tr th:only-of-type {\n",
       "        vertical-align: middle;\n",
       "    }\n",
       "\n",
       "    .dataframe tbody tr th {\n",
       "        vertical-align: top;\n",
       "    }\n",
       "\n",
       "    .dataframe thead th {\n",
       "        text-align: right;\n",
       "    }\n",
       "</style>\n",
       "<table border=\"1\" class=\"dataframe\">\n",
       "  <thead>\n",
       "    <tr style=\"text-align: right;\">\n",
       "      <th></th>\n",
       "      <th>filter_interaction</th>\n",
       "      <th>example_no</th>\n",
       "      <th>motif1</th>\n",
       "      <th>motif1_qval</th>\n",
       "      <th>motif2</th>\n",
       "      <th>motif2_qval</th>\n",
       "      <th>mean_distance</th>\n",
       "      <th>mean_distance_bg</th>\n",
       "      <th>num_obs</th>\n",
       "      <th>num_obs_bg</th>\n",
       "      <th>pval</th>\n",
       "      <th>adjusted_pval</th>\n",
       "      <th>TF1</th>\n",
       "      <th>TF2</th>\n",
       "      <th>TF_Interaction</th>\n",
       "    </tr>\n",
       "  </thead>\n",
       "  <tbody>\n",
       "    <tr>\n",
       "      <td>0</td>\n",
       "      <td>filter0&lt;--&gt;filter14</td>\n",
       "      <td>13</td>\n",
       "      <td>M1592_1.02</td>\n",
       "      <td>0.000295</td>\n",
       "      <td>M0891_1.02</td>\n",
       "      <td>0.023475</td>\n",
       "      <td>121.0</td>\n",
       "      <td>127.0</td>\n",
       "      <td>101.0</td>\n",
       "      <td>241.0</td>\n",
       "      <td>1.080274e-05</td>\n",
       "      <td>3.087428e-05</td>\n",
       "      <td>SOX3</td>\n",
       "      <td>TLX2</td>\n",
       "      <td>SOX3$\\longleftrightarrow$TLX2</td>\n",
       "    </tr>\n",
       "    <tr>\n",
       "      <td>1</td>\n",
       "      <td>filter0&lt;--&gt;filter21</td>\n",
       "      <td>20</td>\n",
       "      <td>M1592_1.02</td>\n",
       "      <td>0.000295</td>\n",
       "      <td>M0891_1.02</td>\n",
       "      <td>0.003707</td>\n",
       "      <td>314.0</td>\n",
       "      <td>575.0</td>\n",
       "      <td>113.0</td>\n",
       "      <td>186.0</td>\n",
       "      <td>6.423997e-10</td>\n",
       "      <td>6.368386e-09</td>\n",
       "      <td>SOX3</td>\n",
       "      <td>TLX2</td>\n",
       "      <td>SOX3$\\longleftrightarrow$TLX2</td>\n",
       "    </tr>\n",
       "    <tr>\n",
       "      <td>2</td>\n",
       "      <td>filter0&lt;--&gt;filter23</td>\n",
       "      <td>22</td>\n",
       "      <td>M1592_1.02</td>\n",
       "      <td>0.000295</td>\n",
       "      <td>M0891_1.02</td>\n",
       "      <td>0.009776</td>\n",
       "      <td>25.0</td>\n",
       "      <td>107.0</td>\n",
       "      <td>165.0</td>\n",
       "      <td>219.0</td>\n",
       "      <td>4.590785e-07</td>\n",
       "      <td>1.889219e-06</td>\n",
       "      <td>SOX3</td>\n",
       "      <td>TLX2</td>\n",
       "      <td>SOX3$\\longleftrightarrow$TLX2</td>\n",
       "    </tr>\n",
       "    <tr>\n",
       "      <td>3</td>\n",
       "      <td>filter0&lt;--&gt;filter28</td>\n",
       "      <td>27</td>\n",
       "      <td>M1592_1.02</td>\n",
       "      <td>0.000295</td>\n",
       "      <td>M0609_1.02</td>\n",
       "      <td>0.001205</td>\n",
       "      <td>175.0</td>\n",
       "      <td>122.0</td>\n",
       "      <td>152.0</td>\n",
       "      <td>129.0</td>\n",
       "      <td>1.799542e-07</td>\n",
       "      <td>8.453012e-07</td>\n",
       "      <td>SOX3</td>\n",
       "      <td>DNMT1</td>\n",
       "      <td>SOX3$\\longleftrightarrow$DNMT1</td>\n",
       "    </tr>\n",
       "    <tr>\n",
       "      <td>4</td>\n",
       "      <td>filter0&lt;--&gt;filter32</td>\n",
       "      <td>31</td>\n",
       "      <td>M1592_1.02</td>\n",
       "      <td>0.000295</td>\n",
       "      <td>M1605_1.02</td>\n",
       "      <td>0.009166</td>\n",
       "      <td>151.0</td>\n",
       "      <td>324.0</td>\n",
       "      <td>140.0</td>\n",
       "      <td>308.0</td>\n",
       "      <td>5.751553e-05</td>\n",
       "      <td>1.322778e-04</td>\n",
       "      <td>SOX3</td>\n",
       "      <td>SOX1</td>\n",
       "      <td>SOX3$\\longleftrightarrow$SOX1</td>\n",
       "    </tr>\n",
       "  </tbody>\n",
       "</table>\n",
       "</div>"
      ],
      "text/plain": [
       "    filter_interaction  example_no      motif1  motif1_qval      motif2  \\\n",
       "0  filter0<-->filter14          13  M1592_1.02     0.000295  M0891_1.02   \n",
       "1  filter0<-->filter21          20  M1592_1.02     0.000295  M0891_1.02   \n",
       "2  filter0<-->filter23          22  M1592_1.02     0.000295  M0891_1.02   \n",
       "3  filter0<-->filter28          27  M1592_1.02     0.000295  M0609_1.02   \n",
       "4  filter0<-->filter32          31  M1592_1.02     0.000295  M1605_1.02   \n",
       "\n",
       "   motif2_qval  mean_distance  mean_distance_bg  num_obs  num_obs_bg  \\\n",
       "0     0.023475          121.0             127.0    101.0       241.0   \n",
       "1     0.003707          314.0             575.0    113.0       186.0   \n",
       "2     0.009776           25.0             107.0    165.0       219.0   \n",
       "3     0.001205          175.0             122.0    152.0       129.0   \n",
       "4     0.009166          151.0             324.0    140.0       308.0   \n",
       "\n",
       "           pval  adjusted_pval   TF1    TF2                  TF_Interaction  \n",
       "0  1.080274e-05   3.087428e-05  SOX3   TLX2   SOX3$\\longleftrightarrow$TLX2  \n",
       "1  6.423997e-10   6.368386e-09  SOX3   TLX2   SOX3$\\longleftrightarrow$TLX2  \n",
       "2  4.590785e-07   1.889219e-06  SOX3   TLX2   SOX3$\\longleftrightarrow$TLX2  \n",
       "3  1.799542e-07   8.453012e-07  SOX3  DNMT1  SOX3$\\longleftrightarrow$DNMT1  \n",
       "4  5.751553e-05   1.322778e-04  SOX3   SOX1   SOX3$\\longleftrightarrow$SOX1  "
      ]
     },
     "execution_count": 150,
     "metadata": {},
     "output_type": "execute_result"
    }
   ],
   "source": [
    "df.head()"
   ]
  },
  {
   "cell_type": "code",
   "execution_count": 151,
   "metadata": {},
   "outputs": [
    {
     "data": {
      "text/plain": [
       "(1307, 15)"
      ]
     },
     "execution_count": 151,
     "metadata": {},
     "output_type": "execute_result"
    }
   ],
   "source": [
    "df.shape"
   ]
  },
  {
   "cell_type": "markdown",
   "metadata": {},
   "source": [
    "## Most Frequent TF Family Interactions"
   ]
  },
  {
   "cell_type": "code",
   "execution_count": 152,
   "metadata": {},
   "outputs": [],
   "source": [
    "tf_family_dict = {}\n",
    "for TF in df_annotate['TF_Name']:\n",
    "    tf_family_dict[TF] = df_annotate[df_annotate['TF_Name']==TF]['Family_Name'].iloc[0]\n",
    "df['TF1_Family'] = df['TF1'].apply(lambda x: tf_family_dict[x] if x in tf_family_dict else 'UNKNOWN')\n",
    "df['TF2_Family'] = df['TF2'].apply(lambda x: tf_family_dict[x] if x in tf_family_dict else 'UNKNOWN')"
   ]
  },
  {
   "cell_type": "code",
   "execution_count": 153,
   "metadata": {},
   "outputs": [],
   "source": [
    "df['Family_Interaction'] = df.apply(lambda x: x['TF1_Family']+r'$\\longleftrightarrow$'+x['TF2_Family'],axis=1)"
   ]
  },
  {
   "cell_type": "code",
   "execution_count": 154,
   "metadata": {},
   "outputs": [],
   "source": [
    "df = process_for_redundant_interactions(df, intr_type='Family')"
   ]
  },
  {
   "cell_type": "code",
   "execution_count": 155,
   "metadata": {},
   "outputs": [
    {
     "data": {
      "text/html": [
       "<div>\n",
       "<style scoped>\n",
       "    .dataframe tbody tr th:only-of-type {\n",
       "        vertical-align: middle;\n",
       "    }\n",
       "\n",
       "    .dataframe tbody tr th {\n",
       "        vertical-align: top;\n",
       "    }\n",
       "\n",
       "    .dataframe thead th {\n",
       "        text-align: right;\n",
       "    }\n",
       "</style>\n",
       "<table border=\"1\" class=\"dataframe\">\n",
       "  <thead>\n",
       "    <tr style=\"text-align: right;\">\n",
       "      <th></th>\n",
       "      <th>filter_interaction</th>\n",
       "      <th>example_no</th>\n",
       "      <th>motif1</th>\n",
       "      <th>motif1_qval</th>\n",
       "      <th>motif2</th>\n",
       "      <th>motif2_qval</th>\n",
       "      <th>mean_distance</th>\n",
       "      <th>mean_distance_bg</th>\n",
       "      <th>num_obs</th>\n",
       "      <th>num_obs_bg</th>\n",
       "      <th>pval</th>\n",
       "      <th>adjusted_pval</th>\n",
       "      <th>TF1</th>\n",
       "      <th>TF2</th>\n",
       "      <th>TF_Interaction</th>\n",
       "      <th>TF1_Family</th>\n",
       "      <th>TF2_Family</th>\n",
       "      <th>Family_Interaction</th>\n",
       "    </tr>\n",
       "  </thead>\n",
       "  <tbody>\n",
       "    <tr>\n",
       "      <td>0</td>\n",
       "      <td>filter0&lt;--&gt;filter14</td>\n",
       "      <td>13</td>\n",
       "      <td>M1592_1.02</td>\n",
       "      <td>0.000295</td>\n",
       "      <td>M0891_1.02</td>\n",
       "      <td>0.023475</td>\n",
       "      <td>121.0</td>\n",
       "      <td>127.0</td>\n",
       "      <td>101.0</td>\n",
       "      <td>241.0</td>\n",
       "      <td>1.080274e-05</td>\n",
       "      <td>3.087428e-05</td>\n",
       "      <td>SOX3</td>\n",
       "      <td>TLX2</td>\n",
       "      <td>SOX3$\\longleftrightarrow$TLX2</td>\n",
       "      <td>Sox</td>\n",
       "      <td>Homeodomain</td>\n",
       "      <td>Sox$\\longleftrightarrow$Homeodomain</td>\n",
       "    </tr>\n",
       "    <tr>\n",
       "      <td>1</td>\n",
       "      <td>filter0&lt;--&gt;filter21</td>\n",
       "      <td>20</td>\n",
       "      <td>M1592_1.02</td>\n",
       "      <td>0.000295</td>\n",
       "      <td>M0891_1.02</td>\n",
       "      <td>0.003707</td>\n",
       "      <td>314.0</td>\n",
       "      <td>575.0</td>\n",
       "      <td>113.0</td>\n",
       "      <td>186.0</td>\n",
       "      <td>6.423997e-10</td>\n",
       "      <td>6.368386e-09</td>\n",
       "      <td>SOX3</td>\n",
       "      <td>TLX2</td>\n",
       "      <td>SOX3$\\longleftrightarrow$TLX2</td>\n",
       "      <td>Sox</td>\n",
       "      <td>Homeodomain</td>\n",
       "      <td>Sox$\\longleftrightarrow$Homeodomain</td>\n",
       "    </tr>\n",
       "    <tr>\n",
       "      <td>2</td>\n",
       "      <td>filter0&lt;--&gt;filter23</td>\n",
       "      <td>22</td>\n",
       "      <td>M1592_1.02</td>\n",
       "      <td>0.000295</td>\n",
       "      <td>M0891_1.02</td>\n",
       "      <td>0.009776</td>\n",
       "      <td>25.0</td>\n",
       "      <td>107.0</td>\n",
       "      <td>165.0</td>\n",
       "      <td>219.0</td>\n",
       "      <td>4.590785e-07</td>\n",
       "      <td>1.889219e-06</td>\n",
       "      <td>SOX3</td>\n",
       "      <td>TLX2</td>\n",
       "      <td>SOX3$\\longleftrightarrow$TLX2</td>\n",
       "      <td>Sox</td>\n",
       "      <td>Homeodomain</td>\n",
       "      <td>Sox$\\longleftrightarrow$Homeodomain</td>\n",
       "    </tr>\n",
       "    <tr>\n",
       "      <td>3</td>\n",
       "      <td>filter0&lt;--&gt;filter28</td>\n",
       "      <td>27</td>\n",
       "      <td>M1592_1.02</td>\n",
       "      <td>0.000295</td>\n",
       "      <td>M0609_1.02</td>\n",
       "      <td>0.001205</td>\n",
       "      <td>175.0</td>\n",
       "      <td>122.0</td>\n",
       "      <td>152.0</td>\n",
       "      <td>129.0</td>\n",
       "      <td>1.799542e-07</td>\n",
       "      <td>8.453012e-07</td>\n",
       "      <td>SOX3</td>\n",
       "      <td>DNMT1</td>\n",
       "      <td>SOX3$\\longleftrightarrow$DNMT1</td>\n",
       "      <td>Sox</td>\n",
       "      <td>CxxC</td>\n",
       "      <td>Sox$\\longleftrightarrow$CxxC</td>\n",
       "    </tr>\n",
       "    <tr>\n",
       "      <td>4</td>\n",
       "      <td>filter0&lt;--&gt;filter32</td>\n",
       "      <td>31</td>\n",
       "      <td>M1592_1.02</td>\n",
       "      <td>0.000295</td>\n",
       "      <td>M1605_1.02</td>\n",
       "      <td>0.009166</td>\n",
       "      <td>151.0</td>\n",
       "      <td>324.0</td>\n",
       "      <td>140.0</td>\n",
       "      <td>308.0</td>\n",
       "      <td>5.751553e-05</td>\n",
       "      <td>1.322778e-04</td>\n",
       "      <td>SOX3</td>\n",
       "      <td>SOX1</td>\n",
       "      <td>SOX3$\\longleftrightarrow$SOX1</td>\n",
       "      <td>Sox</td>\n",
       "      <td>Sox</td>\n",
       "      <td>Sox$\\longleftrightarrow$Sox</td>\n",
       "    </tr>\n",
       "  </tbody>\n",
       "</table>\n",
       "</div>"
      ],
      "text/plain": [
       "    filter_interaction  example_no      motif1  motif1_qval      motif2  \\\n",
       "0  filter0<-->filter14          13  M1592_1.02     0.000295  M0891_1.02   \n",
       "1  filter0<-->filter21          20  M1592_1.02     0.000295  M0891_1.02   \n",
       "2  filter0<-->filter23          22  M1592_1.02     0.000295  M0891_1.02   \n",
       "3  filter0<-->filter28          27  M1592_1.02     0.000295  M0609_1.02   \n",
       "4  filter0<-->filter32          31  M1592_1.02     0.000295  M1605_1.02   \n",
       "\n",
       "   motif2_qval  mean_distance  mean_distance_bg  num_obs  num_obs_bg  \\\n",
       "0     0.023475          121.0             127.0    101.0       241.0   \n",
       "1     0.003707          314.0             575.0    113.0       186.0   \n",
       "2     0.009776           25.0             107.0    165.0       219.0   \n",
       "3     0.001205          175.0             122.0    152.0       129.0   \n",
       "4     0.009166          151.0             324.0    140.0       308.0   \n",
       "\n",
       "           pval  adjusted_pval   TF1    TF2                  TF_Interaction  \\\n",
       "0  1.080274e-05   3.087428e-05  SOX3   TLX2   SOX3$\\longleftrightarrow$TLX2   \n",
       "1  6.423997e-10   6.368386e-09  SOX3   TLX2   SOX3$\\longleftrightarrow$TLX2   \n",
       "2  4.590785e-07   1.889219e-06  SOX3   TLX2   SOX3$\\longleftrightarrow$TLX2   \n",
       "3  1.799542e-07   8.453012e-07  SOX3  DNMT1  SOX3$\\longleftrightarrow$DNMT1   \n",
       "4  5.751553e-05   1.322778e-04  SOX3   SOX1   SOX3$\\longleftrightarrow$SOX1   \n",
       "\n",
       "  TF1_Family   TF2_Family                   Family_Interaction  \n",
       "0        Sox  Homeodomain  Sox$\\longleftrightarrow$Homeodomain  \n",
       "1        Sox  Homeodomain  Sox$\\longleftrightarrow$Homeodomain  \n",
       "2        Sox  Homeodomain  Sox$\\longleftrightarrow$Homeodomain  \n",
       "3        Sox         CxxC         Sox$\\longleftrightarrow$CxxC  \n",
       "4        Sox          Sox          Sox$\\longleftrightarrow$Sox  "
      ]
     },
     "execution_count": 155,
     "metadata": {},
     "output_type": "execute_result"
    }
   ],
   "source": [
    "df.head()"
   ]
  },
  {
   "cell_type": "markdown",
   "metadata": {},
   "source": [
    "### Distribution of individual TF or TF family interactions"
   ]
  },
  {
   "cell_type": "code",
   "execution_count": 156,
   "metadata": {
    "scrolled": false
   },
   "outputs": [
    {
     "data": {
      "image/png": "[encoded data removed]",
      "text/plain": [
       "<Figure size 1296x432 with 1 Axes>"
      ]
     },
     "metadata": {
      "needs_background": "light"
     },
     "output_type": "display_data"
    }
   ],
   "source": [
    "plot_frequent_interactions(df, intr_level='Family_Interaction', first_n=15)"
   ]
  },
  {
   "cell_type": "markdown",
   "metadata": {},
   "source": [
    "### Plot interaction distance distribution"
   ]
  },
  {
   "cell_type": "code",
   "execution_count": 157,
   "metadata": {
    "scrolled": false
   },
   "outputs": [
    {
     "data": {
      "image/png": "[encoded data removed]",
      "text/plain": [
       "<Figure size 576x432 with 1 Axes>"
      ]
     },
     "metadata": {
      "needs_background": "light"
     },
     "output_type": "display_data"
    }
   ],
   "source": [
    "plot_interaction_distance_distribution(df, nbins=50, fig_size=(8,6))"
   ]
  },
  {
   "cell_type": "code",
   "execution_count": 158,
   "metadata": {},
   "outputs": [
    {
     "data": {
      "text/plain": [
       "(192.33817903596022, 167.0)"
      ]
     },
     "execution_count": 158,
     "metadata": {},
     "output_type": "execute_result"
    }
   ],
   "source": [
    "df['mean_distance'].mean(), df['mean_distance'].median()"
   ]
  },
  {
   "cell_type": "markdown",
   "metadata": {},
   "source": [
    "### Most frequent interactions and their respective interaction distances"
   ]
  },
  {
   "cell_type": "code",
   "execution_count": 159,
   "metadata": {},
   "outputs": [
    {
     "data": {
      "image/png": "[encoded data removed]",
      "text/plain": [
       "<Figure size 1296x360 with 2 Axes>"
      ]
     },
     "metadata": {
      "needs_background": "light"
     },
     "output_type": "display_data"
    }
   ],
   "source": [
    "plot_interactions_and_distances_boxplot(df, first_n=15, sort_distances=False, add_sub_caption=True, show_mean_dist=True)"
   ]
  },
  {
   "cell_type": "code",
   "execution_count": 160,
   "metadata": {},
   "outputs": [
    {
     "data": {
      "image/png": "[encoded data removed]",
      "text/plain": [
       "<Figure size 1296x360 with 2 Axes>"
      ]
     },
     "metadata": {
      "needs_background": "light"
     },
     "output_type": "display_data"
    }
   ],
   "source": [
    "plot_interactions_and_distances_histogram(df, first_n=15, dist_nbins=25, add_sub_caption=True, show_mean_dist=True)"
   ]
  },
  {
   "cell_type": "markdown",
   "metadata": {},
   "source": [
    "### Annotate Interactions using TRRUSTv2 (and other sources)"
   ]
  },
  {
   "cell_type": "markdown",
   "metadata": {},
   "source": [
    "#### Read TRRUSTv2 interactions"
   ]
  },
  {
   "cell_type": "code",
   "execution_count": 161,
   "metadata": {},
   "outputs": [],
   "source": [
    "#dictionaries with genes/TFs as keys and [target_gene/TF, role, PUBMID ID] as value\n",
    "with open('/s/jawar/h/nobackup/fahad/Human_Chromatin/TRUSTv2/human_co-regulate_dict.pckl','rb') as f:\n",
    "    human_dict = pickle.load(f)"
   ]
  },
  {
   "cell_type": "code",
   "execution_count": 162,
   "metadata": {},
   "outputs": [],
   "source": [
    "df['Interaction_in_TRUSTv2'] = df['TF_Interaction'].apply(db_annotate_interaction, intr_dict = human_dict)"
   ]
  },
  {
   "cell_type": "code",
   "execution_count": 163,
   "metadata": {},
   "outputs": [],
   "source": [
    "df_resTRUSTv2 = df[df['Interaction_in_TRUSTv2']==1]"
   ]
  },
  {
   "cell_type": "code",
   "execution_count": 164,
   "metadata": {},
   "outputs": [
    {
     "data": {
      "text/html": [
       "<div>\n",
       "<style scoped>\n",
       "    .dataframe tbody tr th:only-of-type {\n",
       "        vertical-align: middle;\n",
       "    }\n",
       "\n",
       "    .dataframe tbody tr th {\n",
       "        vertical-align: top;\n",
       "    }\n",
       "\n",
       "    .dataframe thead th {\n",
       "        text-align: right;\n",
       "    }\n",
       "</style>\n",
       "<table border=\"1\" class=\"dataframe\">\n",
       "  <thead>\n",
       "    <tr style=\"text-align: right;\">\n",
       "      <th></th>\n",
       "      <th>TF_Interaction</th>\n",
       "      <th>TF1_Family</th>\n",
       "      <th>TF2_Family</th>\n",
       "      <th>adjusted_pval</th>\n",
       "    </tr>\n",
       "  </thead>\n",
       "  <tbody>\n",
       "    <tr>\n",
       "      <td>269</td>\n",
       "      <td>DNMT1$\\longleftrightarrow$EGR1</td>\n",
       "      <td>CxxC</td>\n",
       "      <td>C2H2 ZF</td>\n",
       "      <td>1.486399e-14</td>\n",
       "    </tr>\n",
       "    <tr>\n",
       "      <td>1067</td>\n",
       "      <td>DNMT1$\\longleftrightarrow$LCOR</td>\n",
       "      <td>CxxC</td>\n",
       "      <td>Pipsqueak</td>\n",
       "      <td>2.036222e-06</td>\n",
       "    </tr>\n",
       "    <tr>\n",
       "      <td>616</td>\n",
       "      <td>EGR1$\\longleftrightarrow$LCOR</td>\n",
       "      <td>C2H2 ZF</td>\n",
       "      <td>Pipsqueak</td>\n",
       "      <td>6.077442e-06</td>\n",
       "    </tr>\n",
       "  </tbody>\n",
       "</table>\n",
       "</div>"
      ],
      "text/plain": [
       "                      TF_Interaction TF1_Family TF2_Family  adjusted_pval\n",
       "269   DNMT1$\\longleftrightarrow$EGR1       CxxC    C2H2 ZF   1.486399e-14\n",
       "1067  DNMT1$\\longleftrightarrow$LCOR       CxxC  Pipsqueak   2.036222e-06\n",
       "616    EGR1$\\longleftrightarrow$LCOR    C2H2 ZF  Pipsqueak   6.077442e-06"
      ]
     },
     "execution_count": 164,
     "metadata": {},
     "output_type": "execute_result"
    }
   ],
   "source": [
    "df_resTRUSTv2[['TF_Interaction','TF1_Family','TF2_Family','adjusted_pval']].sort_values(by='adjusted_pval').drop_duplicates('TF_Interaction')"
   ]
  },
  {
   "cell_type": "markdown",
   "metadata": {},
   "source": [
    "### Annotate Interactions using HIPPIE database"
   ]
  },
  {
   "cell_type": "markdown",
   "metadata": {},
   "source": [
    "#### Read hippie interactions"
   ]
  },
  {
   "cell_type": "code",
   "execution_count": 165,
   "metadata": {},
   "outputs": [],
   "source": [
    "#dictionaries with genes/TFs as keys and [target_gene/TF, role, PUBMID ID] as value\n",
    "with open('/s/jawar/h/nobackup/fahad/Human_Chromatin/Protein-interactions/hippie/interactions_dict.pckl','rb') as f:\n",
    "    human_dict = pickle.load(f)"
   ]
  },
  {
   "cell_type": "code",
   "execution_count": 166,
   "metadata": {},
   "outputs": [],
   "source": [
    "for key,value in human_dict.items():\n",
    "    human_dict[key] = np.array([[val, '', '0'] for val in value])"
   ]
  },
  {
   "cell_type": "code",
   "execution_count": 167,
   "metadata": {},
   "outputs": [],
   "source": [
    "df['Interaction_in_HIPPIE'] = df['TF_Interaction'].apply(db_annotate_interaction, intr_dict = human_dict)"
   ]
  },
  {
   "cell_type": "code",
   "execution_count": 168,
   "metadata": {},
   "outputs": [],
   "source": [
    "df_resHIPPIE = df[df['Interaction_in_HIPPIE']==1]"
   ]
  },
  {
   "cell_type": "code",
   "execution_count": 169,
   "metadata": {},
   "outputs": [
    {
     "data": {
      "text/html": [
       "<div>\n",
       "<style scoped>\n",
       "    .dataframe tbody tr th:only-of-type {\n",
       "        vertical-align: middle;\n",
       "    }\n",
       "\n",
       "    .dataframe tbody tr th {\n",
       "        vertical-align: top;\n",
       "    }\n",
       "\n",
       "    .dataframe thead th {\n",
       "        text-align: right;\n",
       "    }\n",
       "</style>\n",
       "<table border=\"1\" class=\"dataframe\">\n",
       "  <thead>\n",
       "    <tr style=\"text-align: right;\">\n",
       "      <th></th>\n",
       "      <th>TF_Interaction</th>\n",
       "      <th>TF1_Family</th>\n",
       "      <th>TF2_Family</th>\n",
       "      <th>adjusted_pval</th>\n",
       "    </tr>\n",
       "  </thead>\n",
       "  <tbody>\n",
       "    <tr>\n",
       "      <td>744</td>\n",
       "      <td>HHEX$\\longleftrightarrow$KDM2B</td>\n",
       "      <td>CxxC</td>\n",
       "      <td>Homeodomain</td>\n",
       "      <td>9.946980e-16</td>\n",
       "    </tr>\n",
       "    <tr>\n",
       "      <td>179</td>\n",
       "      <td>HHEX$\\longleftrightarrow$TLX2</td>\n",
       "      <td>Homeodomain</td>\n",
       "      <td>Homeodomain</td>\n",
       "      <td>4.676887e-15</td>\n",
       "    </tr>\n",
       "    <tr>\n",
       "      <td>240</td>\n",
       "      <td>DNMT1$\\longleftrightarrow$KDM2B</td>\n",
       "      <td>CxxC</td>\n",
       "      <td>CxxC</td>\n",
       "      <td>1.838128e-13</td>\n",
       "    </tr>\n",
       "    <tr>\n",
       "      <td>583</td>\n",
       "      <td>SOX3$\\longleftrightarrow$EGR1</td>\n",
       "      <td>Sox</td>\n",
       "      <td>C2H2 ZF</td>\n",
       "      <td>2.234371e-08</td>\n",
       "    </tr>\n",
       "    <tr>\n",
       "      <td>749</td>\n",
       "      <td>KDM2B$\\longleftrightarrow$LCOR</td>\n",
       "      <td>CxxC</td>\n",
       "      <td>Pipsqueak</td>\n",
       "      <td>1.905942e-06</td>\n",
       "    </tr>\n",
       "    <tr>\n",
       "      <td>1067</td>\n",
       "      <td>DNMT1$\\longleftrightarrow$LCOR</td>\n",
       "      <td>CxxC</td>\n",
       "      <td>Pipsqueak</td>\n",
       "      <td>2.036222e-06</td>\n",
       "    </tr>\n",
       "    <tr>\n",
       "      <td>957</td>\n",
       "      <td>HHEX$\\longleftrightarrow$ZNF32</td>\n",
       "      <td>C2H2 ZF</td>\n",
       "      <td>Homeodomain</td>\n",
       "      <td>3.755384e-05</td>\n",
       "    </tr>\n",
       "    <tr>\n",
       "      <td>696</td>\n",
       "      <td>FOXK2$\\longleftrightarrow$DNMT1</td>\n",
       "      <td>Forkhead</td>\n",
       "      <td>CxxC</td>\n",
       "      <td>1.303428e-03</td>\n",
       "    </tr>\n",
       "    <tr>\n",
       "      <td>698</td>\n",
       "      <td>KDM2B$\\longleftrightarrow$FOXK2</td>\n",
       "      <td>Forkhead</td>\n",
       "      <td>CxxC</td>\n",
       "      <td>1.743701e-02</td>\n",
       "    </tr>\n",
       "  </tbody>\n",
       "</table>\n",
       "</div>"
      ],
      "text/plain": [
       "                       TF_Interaction   TF1_Family   TF2_Family  adjusted_pval\n",
       "744    HHEX$\\longleftrightarrow$KDM2B         CxxC  Homeodomain   9.946980e-16\n",
       "179     HHEX$\\longleftrightarrow$TLX2  Homeodomain  Homeodomain   4.676887e-15\n",
       "240   DNMT1$\\longleftrightarrow$KDM2B         CxxC         CxxC   1.838128e-13\n",
       "583     SOX3$\\longleftrightarrow$EGR1          Sox      C2H2 ZF   2.234371e-08\n",
       "749    KDM2B$\\longleftrightarrow$LCOR         CxxC    Pipsqueak   1.905942e-06\n",
       "1067   DNMT1$\\longleftrightarrow$LCOR         CxxC    Pipsqueak   2.036222e-06\n",
       "957    HHEX$\\longleftrightarrow$ZNF32      C2H2 ZF  Homeodomain   3.755384e-05\n",
       "696   FOXK2$\\longleftrightarrow$DNMT1     Forkhead         CxxC   1.303428e-03\n",
       "698   KDM2B$\\longleftrightarrow$FOXK2     Forkhead         CxxC   1.743701e-02"
      ]
     },
     "execution_count": 169,
     "metadata": {},
     "output_type": "execute_result"
    }
   ],
   "source": [
    "df_resHIPPIE[['TF_Interaction','TF1_Family','TF2_Family','adjusted_pval']].sort_values(by='adjusted_pval').drop_duplicates('TF_Interaction')"
   ]
  },
  {
   "cell_type": "code",
   "execution_count": null,
   "metadata": {},
   "outputs": [],
   "source": []
  }
 ],
 "metadata": {
  "kernelspec": {
   "display_name": "Python 3",
   "language": "python",
   "name": "python3"
  },
  "language_info": {
   "codemirror_mode": {
    "name": "ipython",
    "version": 3
   },
   "file_extension": ".py",
   "mimetype": "text/x-python",
   "name": "python",
   "nbconvert_exporter": "python",
   "pygments_lexer": "ipython3",
   "version": "3.7.3"
  }
 },
 "nbformat": 4,
 "nbformat_minor": 2
}
