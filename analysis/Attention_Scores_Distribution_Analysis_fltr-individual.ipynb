{
 "cells": [
  {
   "cell_type": "code",
   "execution_count": 1,
   "metadata": {},
   "outputs": [],
   "source": [
    "import pickle\n",
    "from matplotlib.pyplot import figure\n",
    "import matplotlib.pyplot as plt\n",
    "import pandas as pd\n",
    "import numpy as np\n",
    "import seaborn as sns\n",
    "from numpy.polynomial.polynomial import polyfit\n",
    "from scipy import stats"
   ]
  },
  {
   "cell_type": "code",
   "execution_count": 2,
   "metadata": {},
   "outputs": [],
   "source": [
    "experiment,lmt = ['Arabidopsis_GenomeWide_Analysis_euclidean_v8_fixed',0.2]\n",
    "#experiment,lmt = ['Human_Promoter_Analysis_euclidean_v8',0.08]\n",
    "#experiment,lmt = ['TAL-GATA_binaryFeat_Analysis_allTFs_euclidean_v8_from_customTFs',0.08]\n",
    "#experiment,lmt = ['Simulated_Data_Analysis_Test',0.12]\n",
    "num_filters = 200"
   ]
  },
  {
   "cell_type": "code",
   "execution_count": 3,
   "metadata": {},
   "outputs": [],
   "source": [
    "with open(f'../results/{experiment}/Interactions_SATORI/main_results_raw.pckl','rb') as f:\n",
    "    attentions, positions, seqposes = pickle.load(f)\n",
    "with open(f'../results/{experiment}/Interactions_SATORI/interaction_keys_dict.pckl', 'rb') as f:\n",
    "    intr_keys = pickle.load(f)\n",
    "df_intr = pd.read_csv(f'../results/{experiment}/Interactions_SATORI/interactions_summary_attnLimit-{lmt}.txt',sep='\\t')\n",
    "filter_ICs = pd.read_csv(f'../results/{experiment}/Motif_Analysis/table.txt')"
   ]
  },
  {
   "cell_type": "code",
   "execution_count": 4,
   "metadata": {},
   "outputs": [],
   "source": [
    "df_intr = df_intr[df_intr['adjusted_pval']<0.05].reset_index(drop=True)"
   ]
  },
  {
   "cell_type": "code",
   "execution_count": 5,
   "metadata": {},
   "outputs": [
    {
     "data": {
      "text/plain": [
       "(1681, 12)"
      ]
     },
     "execution_count": 5,
     "metadata": {},
     "output_type": "execute_result"
    }
   ],
   "source": [
    "df_intr.shape"
   ]
  },
  {
   "cell_type": "code",
   "execution_count": 6,
   "metadata": {},
   "outputs": [],
   "source": [
    "raw_col = filter_ICs.columns[0]\n",
    "cols = ['filter#'] + raw_col.split()\n",
    "data = filter_ICs[raw_col].apply(lambda x: x.split()).tolist()\n",
    "filter_ICs = pd.DataFrame(data, columns=cols)\n",
    "filter_ICs['filter'] = filter_ICs['filter#'].apply(lambda x: f\"filter{x}\")"
   ]
  },
  {
   "cell_type": "code",
   "execution_count": 7,
   "metadata": {},
   "outputs": [
    {
     "data": {
      "text/html": [
       "<div>\n",
       "<style scoped>\n",
       "    .dataframe tbody tr th:only-of-type {\n",
       "        vertical-align: middle;\n",
       "    }\n",
       "\n",
       "    .dataframe tbody tr th {\n",
       "        vertical-align: top;\n",
       "    }\n",
       "\n",
       "    .dataframe thead th {\n",
       "        text-align: right;\n",
       "    }\n",
       "</style>\n",
       "<table border=\"1\" class=\"dataframe\">\n",
       "  <thead>\n",
       "    <tr style=\"text-align: right;\">\n",
       "      <th></th>\n",
       "      <th>filter#</th>\n",
       "      <th>consensus</th>\n",
       "      <th>annotation</th>\n",
       "      <th>ic</th>\n",
       "      <th>mean</th>\n",
       "      <th>std</th>\n",
       "      <th>filter</th>\n",
       "    </tr>\n",
       "  </thead>\n",
       "  <tbody>\n",
       "    <tr>\n",
       "      <td>0</td>\n",
       "      <td>0</td>\n",
       "      <td>TTTTACTCTGGTT</td>\n",
       "      <td>.</td>\n",
       "      <td>6.84</td>\n",
       "      <td>0.1229</td>\n",
       "      <td>0.3022</td>\n",
       "      <td>filter0</td>\n",
       "    </tr>\n",
       "    <tr>\n",
       "      <td>1</td>\n",
       "      <td>1</td>\n",
       "      <td>CGTTCTTCAAGCG</td>\n",
       "      <td>MYB51</td>\n",
       "      <td>4.48</td>\n",
       "      <td>0.1081</td>\n",
       "      <td>0.2670</td>\n",
       "      <td>filter1</td>\n",
       "    </tr>\n",
       "    <tr>\n",
       "      <td>2</td>\n",
       "      <td>2</td>\n",
       "      <td>TGGCCAATGGGCC</td>\n",
       "      <td>TCP1</td>\n",
       "      <td>2.77</td>\n",
       "      <td>0.1290</td>\n",
       "      <td>0.3121</td>\n",
       "      <td>filter2</td>\n",
       "    </tr>\n",
       "    <tr>\n",
       "      <td>3</td>\n",
       "      <td>3</td>\n",
       "      <td>AGTATATCTGCCC</td>\n",
       "      <td>WRKY31</td>\n",
       "      <td>5.58</td>\n",
       "      <td>0.1875</td>\n",
       "      <td>0.3969</td>\n",
       "      <td>filter3</td>\n",
       "    </tr>\n",
       "    <tr>\n",
       "      <td>4</td>\n",
       "      <td>4</td>\n",
       "      <td>TGGCTGCAACTGT</td>\n",
       "      <td>At4g31060</td>\n",
       "      <td>4.14</td>\n",
       "      <td>0.1367</td>\n",
       "      <td>0.3124</td>\n",
       "      <td>filter4</td>\n",
       "    </tr>\n",
       "  </tbody>\n",
       "</table>\n",
       "</div>"
      ],
      "text/plain": [
       "  filter#      consensus annotation    ic    mean     std   filter\n",
       "0       0  TTTTACTCTGGTT          .  6.84  0.1229  0.3022  filter0\n",
       "1       1  CGTTCTTCAAGCG      MYB51  4.48  0.1081  0.2670  filter1\n",
       "2       2  TGGCCAATGGGCC       TCP1  2.77  0.1290  0.3121  filter2\n",
       "3       3  AGTATATCTGCCC     WRKY31  5.58  0.1875  0.3969  filter3\n",
       "4       4  TGGCTGCAACTGT  At4g31060  4.14  0.1367  0.3124  filter4"
      ]
     },
     "execution_count": 7,
     "metadata": {},
     "output_type": "execute_result"
    }
   ],
   "source": [
    "filter_ICs.head()"
   ]
  },
  {
   "cell_type": "code",
   "execution_count": 8,
   "metadata": {},
   "outputs": [],
   "source": [
    "def get_query_filter_attn(all_filters_dict, attn_mat, seq_inf_dict, feat_size, num_multiheads):\n",
    "    attn_mat = np.asarray([attn_mat[:,feat_size*i:feat_size*(i+1)] for i in range(0,num_multiheads)]) \n",
    "    attn_mat = np.max(attn_mat, axis=0) #out of the 8 attn matrices, get the max value at the corresponding positions\n",
    "\n",
    "    for i in range(0, attn_mat.shape[0]):\n",
    "        if i not in seq_inf_dict:\n",
    "            continue\n",
    "        for j in range(0, attn_mat.shape[1]):\n",
    "            if j not in seq_inf_dict:\n",
    "                continue\n",
    "            if i==j:\n",
    "                continue\n",
    "            max_loc = [i,j]\n",
    "            attn_val = attn_mat[i,j]\n",
    "            #pos_diff = CNNfirstpool * abs(max_loc[0]-max_loc[1])\n",
    "            KeyA = i\n",
    "            KeyB = j \n",
    "            all_filters_pos = seq_inf_dict[KeyA] #query filters\n",
    "            #all_filters_pos = seq_inf_dict[KeyB] #key filters\n",
    "            for fltr in all_filters_pos:\n",
    "                all_filters_dict[fltr].append(attn_val)\n",
    "    \n",
    "    return all_filters_dict\n",
    "            \n",
    "            #all_filters_posB = seq_inf_dict[KeyB]"
   ]
  },
  {
   "cell_type": "markdown",
   "metadata": {},
   "source": [
    "##### Pseud-code/logic\n",
    "For batch in seqposes:\n",
    "    attn_matrices_batch = read attention matrices for the given batch using arg(batch)  \n",
    "    for seq_inf_dict,attn_matrix in zip(batch,attn_matrices_batch):  \n",
    "        query_filter_attn_val_matrix = get_attn_values_function(seq_inf_dict, attn_matrix)  \n",
    "\n",
    "Once we have attn values for each query filter, use the analysis to generate a scatter plot using query filter IC values vs. the corresponding non-zero attention scores."
   ]
  },
  {
   "cell_type": "code",
   "execution_count": 9,
   "metadata": {},
   "outputs": [],
   "source": [
    "all_filters_dict = {f'filter{i}':[] for i in range(0, num_filters)}"
   ]
  },
  {
   "cell_type": "code",
   "execution_count": 10,
   "metadata": {},
   "outputs": [],
   "source": [
    "num_batches = 10 #len(seqposes) for all batches to check\n",
    "for i in range(0, len(seqposes)):\n",
    "    batch_seqposes = seqposes[i]\n",
    "    with open(f'../results/{experiment}/Stored_Values/PAttn_batch-{i}.pckl','rb') as f:\n",
    "        batch_pattn = pickle.load(f)\n",
    "    num_multiheads = int(batch_pattn.shape[2]/batch_pattn.shape[1])\n",
    "    feat_size = batch_pattn.shape[1]\n",
    "    seq_info_dicts = batch_seqposes[0]\n",
    "    seq_info_dict_indices = batch_seqposes[1]\n",
    "    info_dict_keys = list(seq_info_dicts.keys())\n",
    "    for j in range(0, len(seq_info_dict_indices)):\n",
    "        seq_info_dict = seq_info_dicts[info_dict_keys[j]]\n",
    "        attn_mat = batch_pattn[seq_info_dict_indices[j]]\n",
    "        all_filters_dict = get_query_filter_attn(all_filters_dict,\n",
    "                                                 attn_mat,\n",
    "                                                 seq_info_dict,\n",
    "                                                 feat_size,\n",
    "                                                 num_multiheads)\n",
    "    if i >= num_batches:\n",
    "        break"
   ]
  },
  {
   "cell_type": "code",
   "execution_count": 11,
   "metadata": {},
   "outputs": [],
   "source": [
    "all_filters_attn = pd.Series(all_filters_dict)"
   ]
  },
  {
   "cell_type": "code",
   "execution_count": 12,
   "metadata": {},
   "outputs": [],
   "source": [
    "all_filters_attn = all_filters_attn.apply(lambda x: np.array(x))\n",
    "all_filters_attn = all_filters_attn.apply(lambda x: np.median(x[x>0]))#[x>=0]))"
   ]
  },
  {
   "cell_type": "code",
   "execution_count": 13,
   "metadata": {},
   "outputs": [],
   "source": [
    "x = filter_ICs['ic'].values.astype(float)\n",
    "y = all_filters_attn[filter_ICs['filter']].values"
   ]
  },
  {
   "cell_type": "code",
   "execution_count": 14,
   "metadata": {},
   "outputs": [
    {
     "data": {
      "image/png": "[encoded data removed]",
      "text/plain": [
       "<Figure size 432x432 with 3 Axes>"
      ]
     },
     "metadata": {
      "needs_background": "light"
     },
     "output_type": "display_data"
    }
   ],
   "source": [
    "def r2(x, y):\n",
    "    return stats.pearsonr(x, y)[0] ** 2\n",
    "\n",
    "res = pd.DataFrame([x,y]).T\n",
    "res.columns = ['Information content', 'Median attention score']\n",
    "sns.jointplot(res['Information content'], res['Median attention score'], kind=\"reg\")\n",
    "r2val = r2(res['Information content'], res['Median attention score'])\n",
    "plt.text(min(x),max(y),r'$R^2=$'+str(round(r2val,2)))\n",
    "plt.xlabel('Information content)')\n",
    "plt.tight_layout()\n",
    "plt.savefig('output/'+experiment+'.png')\n",
    "plt.show()"
   ]
  },
  {
   "cell_type": "code",
   "execution_count": null,
   "metadata": {},
   "outputs": [],
   "source": []
  }
 ],
 "metadata": {
  "kernelspec": {
   "display_name": "Python 3",
   "language": "python",
   "name": "python3"
  },
  "language_info": {
   "codemirror_mode": {
    "name": "ipython",
    "version": 3
   },
   "file_extension": ".py",
   "mimetype": "text/x-python",
   "name": "python",
   "nbconvert_exporter": "python",
   "pygments_lexer": "ipython3",
   "version": "3.7.3"
  }
 },
 "nbformat": 4,
 "nbformat_minor": 2
}
