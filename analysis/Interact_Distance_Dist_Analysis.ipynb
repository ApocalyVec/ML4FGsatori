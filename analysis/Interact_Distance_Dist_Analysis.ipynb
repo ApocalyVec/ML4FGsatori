{
 "cells": [
  {
   "cell_type": "code",
   "execution_count": 1,
   "metadata": {},
   "outputs": [],
   "source": [
    "import matplotlib.pyplot as plt\n",
    "import numpy as np\n",
    "import pandas as pd\n",
    "import pickle\n",
    "import random\n",
    "import sys\n",
    "from scipy.stats import mannwhitneyu\n",
    "from scipy.stats import ttest_ind\n",
    "\n",
    "sys.path.insert(0,'../src')\n",
    "from postprocess import *"
   ]
  },
  {
   "cell_type": "code",
   "execution_count": 2,
   "metadata": {},
   "outputs": [],
   "source": [
    "experiment,lmt = ['Arabidopsis_GenomeWide_Analysis_euclidean_v8_fixed',0.2]\n",
    "#experiment,lmt = ['Human_Promoter_Analysis_euclidean_v8',0.08]\n",
    "#experiment,lmt = ['TAL-GATA_binaryFeat_Analysis_allTFs_euclidean_v8_from_customTFs',0.08]"
   ]
  },
  {
   "cell_type": "markdown",
   "metadata": {},
   "source": [
    "### Processed interactions data"
   ]
  },
  {
   "cell_type": "code",
   "execution_count": 3,
   "metadata": {},
   "outputs": [],
   "source": [
    "df = pd.read_csv(f'../results/{experiment}/Interactions_SATORI/interactions_summary_attnLimit-{lmt}.txt',sep='\\t')"
   ]
  },
  {
   "cell_type": "code",
   "execution_count": 4,
   "metadata": {},
   "outputs": [],
   "source": [
    "df = filter_data_on_thresholds(df, motifA_pval_cutoff=0.05, motifB_pval_cutoff=0.05)"
   ]
  },
  {
   "cell_type": "code",
   "execution_count": 5,
   "metadata": {},
   "outputs": [
    {
     "data": {
      "text/plain": [
       "(1681, 12)"
      ]
     },
     "execution_count": 5,
     "metadata": {},
     "output_type": "execute_result"
    }
   ],
   "source": [
    "df.shape"
   ]
  },
  {
   "cell_type": "code",
   "execution_count": 6,
   "metadata": {},
   "outputs": [],
   "source": [
    "#df[df['filter_interaction'].isin(filter_pairs_dict.keys())].shape"
   ]
  },
  {
   "cell_type": "code",
   "execution_count": 7,
   "metadata": {},
   "outputs": [
    {
     "data": {
      "image/png": "[encoded data removed]",
      "text/plain": [
       "<Figure size 432x288 with 1 Axes>"
      ]
     },
     "metadata": {
      "needs_background": "light"
     },
     "output_type": "display_data"
    }
   ],
   "source": [
    "plt.hist(df['mean_distance'], bins=40)\n",
    "plt.show()"
   ]
  },
  {
   "cell_type": "markdown",
   "metadata": {},
   "source": [
    "### Random pairs distance distribution"
   ]
  },
  {
   "cell_type": "code",
   "execution_count": 16,
   "metadata": {},
   "outputs": [],
   "source": [
    "with open(f'../results/{experiment}/Interactions_SATORI/main_results_raw.pckl','rb') as f:\n",
    "    attentions, positions, intr_dict = pickle.load(f)\n",
    "with open(f'../results/{experiment}/Interactions_SATORI/interaction_keys_dict.pckl', 'rb') as f:\n",
    "    filter_intr_keys = pickle.load(f)"
   ]
  },
  {
   "cell_type": "code",
   "execution_count": 17,
   "metadata": {},
   "outputs": [],
   "source": [
    "dfm = pd.read_csv(f'../results/{experiment}/Motif_Analysis/tomtom/tomtom.tsv',sep='\\t')\n",
    "dfm = dfm[dfm['q-value']<0.05]\n",
    "matched_motifs = dfm['Query_ID'].unique().tolist()"
   ]
  },
  {
   "cell_type": "code",
   "execution_count": 18,
   "metadata": {},
   "outputs": [],
   "source": [
    "intr_dict_all = {}\n",
    "for item in intr_dict:\n",
    "    intr_dict_all = {**intr_dict_all, **item[0]}"
   ]
  },
  {
   "cell_type": "code",
   "execution_count": 19,
   "metadata": {},
   "outputs": [],
   "source": [
    "#len(intr_dict_all)"
   ]
  },
  {
   "cell_type": "code",
   "execution_count": 20,
   "metadata": {},
   "outputs": [],
   "source": [
    "filter_pairs = random.sample(filter_intr_keys.keys(), df.shape[0])\n",
    "filter_pairs_dict = {}"
   ]
  },
  {
   "cell_type": "code",
   "execution_count": null,
   "metadata": {},
   "outputs": [],
   "source": [
    "for fpair in filter_pairs:\n",
    "    f1,f2 = fpair.split('<-->')\n",
    "    if f1 not in matched_motifs or f2 not in matched_motifs: #should be in one of the matched filters\n",
    "        continue\n",
    "    diff_list=[]\n",
    "    for key,val in intr_dict_all.items():\n",
    "        f1_list = []\n",
    "        f2_list = []\n",
    "        for subkey,subval in val.items():\n",
    "            if f1 in subval and f2 in subval:\n",
    "                continue\n",
    "            if f1 in subval:\n",
    "                f1_list.append(subkey)\n",
    "            elif f2 in subval:\n",
    "                f2_list.append(subkey)\n",
    "        for v1 in f1_list:\n",
    "            for v2 in f2_list:\n",
    "                if v1 != v2:\n",
    "                    diff_list.append(abs(v1-v2)*6)\n",
    "    filter_pairs_dict[fpair] = np.mean(diff_list)"
   ]
  },
  {
   "cell_type": "code",
   "execution_count": null,
   "metadata": {},
   "outputs": [],
   "source": [
    "len(filter_pairs_dict)"
   ]
  },
  {
   "cell_type": "code",
   "execution_count": null,
   "metadata": {},
   "outputs": [],
   "source": [
    "np.mean(list(filter_pairs_dict.values())), np.median(list(filter_pairs_dict.values()))"
   ]
  },
  {
   "cell_type": "code",
   "execution_count": null,
   "metadata": {},
   "outputs": [],
   "source": [
    "plt.hist(list(filter_pairs_dict.values()), bins=40)\n",
    "plt.show()"
   ]
  },
  {
   "cell_type": "markdown",
   "metadata": {},
   "source": [
    "### Statistical test"
   ]
  },
  {
   "cell_type": "code",
   "execution_count": null,
   "metadata": {},
   "outputs": [],
   "source": [
    "#np.std(list(filter_pairs_dict.values())), np.std(df['mean_distance'])\n",
    "#ttest_ind(list(filter_pairs_dict.values()), df['mean_distance'], equal_var=False)"
   ]
  },
  {
   "cell_type": "code",
   "execution_count": null,
   "metadata": {},
   "outputs": [],
   "source": [
    "mannwhitneyu(list(filter_pairs_dict.values()), df['mean_distance'])"
   ]
  },
  {
   "cell_type": "code",
   "execution_count": null,
   "metadata": {},
   "outputs": [],
   "source": []
  }
 ],
 "metadata": {
  "kernelspec": {
   "display_name": "Python 3",
   "language": "python",
   "name": "python3"
  },
  "language_info": {
   "codemirror_mode": {
    "name": "ipython",
    "version": 3
   },
   "file_extension": ".py",
   "mimetype": "text/x-python",
   "name": "python",
   "nbconvert_exporter": "python",
   "pygments_lexer": "ipython3",
   "version": "3.7.3"
  }
 },
 "nbformat": 4,
 "nbformat_minor": 2
}
