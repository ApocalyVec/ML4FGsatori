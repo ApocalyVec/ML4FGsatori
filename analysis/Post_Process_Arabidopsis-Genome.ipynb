{
 "cells": [
  {
   "cell_type": "markdown",
   "metadata": {},
   "source": [
    "## Imports"
   ]
  },
  {
   "cell_type": "code",
   "execution_count": 1,
   "metadata": {},
   "outputs": [],
   "source": [
    "import pandas as pd\n",
    "import sys\n",
    "\n",
    "sys.path.insert(0,'../src')\n",
    "\n",
    "from postprocess import *"
   ]
  },
  {
   "cell_type": "markdown",
   "metadata": {},
   "source": [
    "## Interaction data processing"
   ]
  },
  {
   "cell_type": "code",
   "execution_count": 2,
   "metadata": {},
   "outputs": [],
   "source": [
    "# For SATORI based interactions\n",
    "#df = pd.read_csv('../results/Arabidopsis_GenomeWide_Analysis_euclidean_v8_fixed/Interactions_SATORI/interactions_summary_attnLimit-0.12.txt', sep='\\t')\n",
    "##df = pd.read_csv('../../Arabidopsis_GenomeWide_Analysis_euclidean_v8/Interactions_Results_v9_run2_5000/interactions_summary_attnLimit-0.12.txt', sep='\\t')\n",
    "\n",
    "# For FIS based interactions\n",
    "df = pd.read_csv('../results/Arabidopsis_GenomeWide_Analysis_euclidean_v8_fixed/Interactions_FIS/interactions_summary_attnLimit-10.0.txt', sep='\\t')\n",
    "##df = pd.read_csv('../../DFIM_Arabidopsis_experiment_v10/Interactions/interactions_summary_attnLimit-0.txt', sep='\\t')"
   ]
  },
  {
   "cell_type": "markdown",
   "metadata": {},
   "source": [
    "### Filter based on interaction and motif hit p-values, and keep the most significant interactions"
   ]
  },
  {
   "cell_type": "code",
   "execution_count": 3,
   "metadata": {},
   "outputs": [],
   "source": [
    "df = filter_data_on_thresholds(df, motifA_pval_cutoff=0.01, motifB_pval_cutoff=0.01)"
   ]
  },
  {
   "cell_type": "code",
   "execution_count": 4,
   "metadata": {},
   "outputs": [
    {
     "data": {
      "text/plain": [
       "(517, 12)"
      ]
     },
     "execution_count": 4,
     "metadata": {},
     "output_type": "execute_result"
    }
   ],
   "source": [
    "df.shape"
   ]
  },
  {
   "cell_type": "code",
   "execution_count": 5,
   "metadata": {},
   "outputs": [
    {
     "data": {
      "text/html": [
       "<div>\n",
       "<style scoped>\n",
       "    .dataframe tbody tr th:only-of-type {\n",
       "        vertical-align: middle;\n",
       "    }\n",
       "\n",
       "    .dataframe tbody tr th {\n",
       "        vertical-align: top;\n",
       "    }\n",
       "\n",
       "    .dataframe thead th {\n",
       "        text-align: right;\n",
       "    }\n",
       "</style>\n",
       "<table border=\"1\" class=\"dataframe\">\n",
       "  <thead>\n",
       "    <tr style=\"text-align: right;\">\n",
       "      <th></th>\n",
       "      <th>filter_interaction</th>\n",
       "      <th>example_no</th>\n",
       "      <th>motif1</th>\n",
       "      <th>motif1_qval</th>\n",
       "      <th>motif2</th>\n",
       "      <th>motif2_qval</th>\n",
       "      <th>mean_distance</th>\n",
       "      <th>mean_distance_bg</th>\n",
       "      <th>num_obs</th>\n",
       "      <th>num_obs_bg</th>\n",
       "      <th>pval</th>\n",
       "      <th>adjusted_pval</th>\n",
       "    </tr>\n",
       "  </thead>\n",
       "  <tbody>\n",
       "    <tr>\n",
       "      <td>4</td>\n",
       "      <td>filter1&lt;--&gt;filter6</td>\n",
       "      <td>203</td>\n",
       "      <td>MYB_tnt.MYB51_col_a_m1</td>\n",
       "      <td>0.003637</td>\n",
       "      <td>ZFHD_tnt.ATHB23_col_b_m1</td>\n",
       "      <td>0.003895</td>\n",
       "      <td>29.0</td>\n",
       "      <td>184.0</td>\n",
       "      <td>1133.0</td>\n",
       "      <td>1413.0</td>\n",
       "      <td>2.432322e-07</td>\n",
       "      <td>0.000004</td>\n",
       "    </tr>\n",
       "    <tr>\n",
       "      <td>6</td>\n",
       "      <td>filter1&lt;--&gt;filter11</td>\n",
       "      <td>208</td>\n",
       "      <td>MYB_tnt.MYB51_col_a_m1</td>\n",
       "      <td>0.003637</td>\n",
       "      <td>MYB_tnt.MYB51_col_a_m1</td>\n",
       "      <td>0.007254</td>\n",
       "      <td>51.0</td>\n",
       "      <td>20.0</td>\n",
       "      <td>959.0</td>\n",
       "      <td>1466.0</td>\n",
       "      <td>8.225513e-03</td>\n",
       "      <td>0.027573</td>\n",
       "    </tr>\n",
       "    <tr>\n",
       "      <td>7</td>\n",
       "      <td>filter1&lt;--&gt;filter12</td>\n",
       "      <td>209</td>\n",
       "      <td>MYB_tnt.MYB51_col_a_m1</td>\n",
       "      <td>0.003637</td>\n",
       "      <td>G2like_tnt.AT2G40260_colamp_a_m1</td>\n",
       "      <td>0.000189</td>\n",
       "      <td>202.0</td>\n",
       "      <td>155.0</td>\n",
       "      <td>1592.0</td>\n",
       "      <td>1793.0</td>\n",
       "      <td>1.742161e-03</td>\n",
       "      <td>0.007440</td>\n",
       "    </tr>\n",
       "    <tr>\n",
       "      <td>8</td>\n",
       "      <td>filter1&lt;--&gt;filter13</td>\n",
       "      <td>210</td>\n",
       "      <td>MYB_tnt.MYB51_col_a_m1</td>\n",
       "      <td>0.003637</td>\n",
       "      <td>TCP_tnt.TCP20_col_a_m1</td>\n",
       "      <td>0.004183</td>\n",
       "      <td>299.0</td>\n",
       "      <td>246.0</td>\n",
       "      <td>1945.0</td>\n",
       "      <td>3183.0</td>\n",
       "      <td>2.957618e-05</td>\n",
       "      <td>0.000235</td>\n",
       "    </tr>\n",
       "    <tr>\n",
       "      <td>9</td>\n",
       "      <td>filter1&lt;--&gt;filter14</td>\n",
       "      <td>211</td>\n",
       "      <td>MYB_tnt.MYB51_col_a_m1</td>\n",
       "      <td>0.003637</td>\n",
       "      <td>WRKY_tnt.WRKY31_col_a_m1</td>\n",
       "      <td>0.009697</td>\n",
       "      <td>48.0</td>\n",
       "      <td>213.0</td>\n",
       "      <td>732.0</td>\n",
       "      <td>771.0</td>\n",
       "      <td>1.509500e-03</td>\n",
       "      <td>0.006605</td>\n",
       "    </tr>\n",
       "  </tbody>\n",
       "</table>\n",
       "</div>"
      ],
      "text/plain": [
       "    filter_interaction  example_no                  motif1  motif1_qval  \\\n",
       "4   filter1<-->filter6         203  MYB_tnt.MYB51_col_a_m1     0.003637   \n",
       "6  filter1<-->filter11         208  MYB_tnt.MYB51_col_a_m1     0.003637   \n",
       "7  filter1<-->filter12         209  MYB_tnt.MYB51_col_a_m1     0.003637   \n",
       "8  filter1<-->filter13         210  MYB_tnt.MYB51_col_a_m1     0.003637   \n",
       "9  filter1<-->filter14         211  MYB_tnt.MYB51_col_a_m1     0.003637   \n",
       "\n",
       "                             motif2  motif2_qval  mean_distance  \\\n",
       "4          ZFHD_tnt.ATHB23_col_b_m1     0.003895           29.0   \n",
       "6            MYB_tnt.MYB51_col_a_m1     0.007254           51.0   \n",
       "7  G2like_tnt.AT2G40260_colamp_a_m1     0.000189          202.0   \n",
       "8            TCP_tnt.TCP20_col_a_m1     0.004183          299.0   \n",
       "9          WRKY_tnt.WRKY31_col_a_m1     0.009697           48.0   \n",
       "\n",
       "   mean_distance_bg  num_obs  num_obs_bg          pval  adjusted_pval  \n",
       "4             184.0   1133.0      1413.0  2.432322e-07       0.000004  \n",
       "6              20.0    959.0      1466.0  8.225513e-03       0.027573  \n",
       "7             155.0   1592.0      1793.0  1.742161e-03       0.007440  \n",
       "8             246.0   1945.0      3183.0  2.957618e-05       0.000235  \n",
       "9             213.0    732.0       771.0  1.509500e-03       0.006605  "
      ]
     },
     "execution_count": 5,
     "metadata": {},
     "output_type": "execute_result"
    }
   ],
   "source": [
    "df.head()"
   ]
  },
  {
   "cell_type": "markdown",
   "metadata": {},
   "source": [
    "### Annotate the interacting motifs"
   ]
  },
  {
   "cell_type": "code",
   "execution_count": 6,
   "metadata": {},
   "outputs": [],
   "source": [
    "df['TF1'] = df['motif1'].apply(lambda x: x.split('_')[1].strip('.tnt'))\n",
    "df['TF2'] = df['motif2'].apply(lambda x: x.split('_')[1].strip('.tnt'))"
   ]
  },
  {
   "cell_type": "code",
   "execution_count": 7,
   "metadata": {
    "scrolled": true
   },
   "outputs": [
    {
     "data": {
      "text/html": [
       "<div>\n",
       "<style scoped>\n",
       "    .dataframe tbody tr th:only-of-type {\n",
       "        vertical-align: middle;\n",
       "    }\n",
       "\n",
       "    .dataframe tbody tr th {\n",
       "        vertical-align: top;\n",
       "    }\n",
       "\n",
       "    .dataframe thead th {\n",
       "        text-align: right;\n",
       "    }\n",
       "</style>\n",
       "<table border=\"1\" class=\"dataframe\">\n",
       "  <thead>\n",
       "    <tr style=\"text-align: right;\">\n",
       "      <th></th>\n",
       "      <th>filter_interaction</th>\n",
       "      <th>example_no</th>\n",
       "      <th>motif1</th>\n",
       "      <th>motif1_qval</th>\n",
       "      <th>motif2</th>\n",
       "      <th>motif2_qval</th>\n",
       "      <th>mean_distance</th>\n",
       "      <th>mean_distance_bg</th>\n",
       "      <th>num_obs</th>\n",
       "      <th>num_obs_bg</th>\n",
       "      <th>pval</th>\n",
       "      <th>adjusted_pval</th>\n",
       "      <th>TF1</th>\n",
       "      <th>TF2</th>\n",
       "    </tr>\n",
       "  </thead>\n",
       "  <tbody>\n",
       "    <tr>\n",
       "      <td>4</td>\n",
       "      <td>filter1&lt;--&gt;filter6</td>\n",
       "      <td>203</td>\n",
       "      <td>MYB_tnt.MYB51_col_a_m1</td>\n",
       "      <td>0.003637</td>\n",
       "      <td>ZFHD_tnt.ATHB23_col_b_m1</td>\n",
       "      <td>0.003895</td>\n",
       "      <td>29.0</td>\n",
       "      <td>184.0</td>\n",
       "      <td>1133.0</td>\n",
       "      <td>1413.0</td>\n",
       "      <td>2.432322e-07</td>\n",
       "      <td>0.000004</td>\n",
       "      <td>MYB51</td>\n",
       "      <td>ATHB23</td>\n",
       "    </tr>\n",
       "    <tr>\n",
       "      <td>6</td>\n",
       "      <td>filter1&lt;--&gt;filter11</td>\n",
       "      <td>208</td>\n",
       "      <td>MYB_tnt.MYB51_col_a_m1</td>\n",
       "      <td>0.003637</td>\n",
       "      <td>MYB_tnt.MYB51_col_a_m1</td>\n",
       "      <td>0.007254</td>\n",
       "      <td>51.0</td>\n",
       "      <td>20.0</td>\n",
       "      <td>959.0</td>\n",
       "      <td>1466.0</td>\n",
       "      <td>8.225513e-03</td>\n",
       "      <td>0.027573</td>\n",
       "      <td>MYB51</td>\n",
       "      <td>MYB51</td>\n",
       "    </tr>\n",
       "    <tr>\n",
       "      <td>7</td>\n",
       "      <td>filter1&lt;--&gt;filter12</td>\n",
       "      <td>209</td>\n",
       "      <td>MYB_tnt.MYB51_col_a_m1</td>\n",
       "      <td>0.003637</td>\n",
       "      <td>G2like_tnt.AT2G40260_colamp_a_m1</td>\n",
       "      <td>0.000189</td>\n",
       "      <td>202.0</td>\n",
       "      <td>155.0</td>\n",
       "      <td>1592.0</td>\n",
       "      <td>1793.0</td>\n",
       "      <td>1.742161e-03</td>\n",
       "      <td>0.007440</td>\n",
       "      <td>MYB51</td>\n",
       "      <td>AT2G40260</td>\n",
       "    </tr>\n",
       "    <tr>\n",
       "      <td>8</td>\n",
       "      <td>filter1&lt;--&gt;filter13</td>\n",
       "      <td>210</td>\n",
       "      <td>MYB_tnt.MYB51_col_a_m1</td>\n",
       "      <td>0.003637</td>\n",
       "      <td>TCP_tnt.TCP20_col_a_m1</td>\n",
       "      <td>0.004183</td>\n",
       "      <td>299.0</td>\n",
       "      <td>246.0</td>\n",
       "      <td>1945.0</td>\n",
       "      <td>3183.0</td>\n",
       "      <td>2.957618e-05</td>\n",
       "      <td>0.000235</td>\n",
       "      <td>MYB51</td>\n",
       "      <td>TCP20</td>\n",
       "    </tr>\n",
       "    <tr>\n",
       "      <td>9</td>\n",
       "      <td>filter1&lt;--&gt;filter14</td>\n",
       "      <td>211</td>\n",
       "      <td>MYB_tnt.MYB51_col_a_m1</td>\n",
       "      <td>0.003637</td>\n",
       "      <td>WRKY_tnt.WRKY31_col_a_m1</td>\n",
       "      <td>0.009697</td>\n",
       "      <td>48.0</td>\n",
       "      <td>213.0</td>\n",
       "      <td>732.0</td>\n",
       "      <td>771.0</td>\n",
       "      <td>1.509500e-03</td>\n",
       "      <td>0.006605</td>\n",
       "      <td>MYB51</td>\n",
       "      <td>WRKY31</td>\n",
       "    </tr>\n",
       "  </tbody>\n",
       "</table>\n",
       "</div>"
      ],
      "text/plain": [
       "    filter_interaction  example_no                  motif1  motif1_qval  \\\n",
       "4   filter1<-->filter6         203  MYB_tnt.MYB51_col_a_m1     0.003637   \n",
       "6  filter1<-->filter11         208  MYB_tnt.MYB51_col_a_m1     0.003637   \n",
       "7  filter1<-->filter12         209  MYB_tnt.MYB51_col_a_m1     0.003637   \n",
       "8  filter1<-->filter13         210  MYB_tnt.MYB51_col_a_m1     0.003637   \n",
       "9  filter1<-->filter14         211  MYB_tnt.MYB51_col_a_m1     0.003637   \n",
       "\n",
       "                             motif2  motif2_qval  mean_distance  \\\n",
       "4          ZFHD_tnt.ATHB23_col_b_m1     0.003895           29.0   \n",
       "6            MYB_tnt.MYB51_col_a_m1     0.007254           51.0   \n",
       "7  G2like_tnt.AT2G40260_colamp_a_m1     0.000189          202.0   \n",
       "8            TCP_tnt.TCP20_col_a_m1     0.004183          299.0   \n",
       "9          WRKY_tnt.WRKY31_col_a_m1     0.009697           48.0   \n",
       "\n",
       "   mean_distance_bg  num_obs  num_obs_bg          pval  adjusted_pval    TF1  \\\n",
       "4             184.0   1133.0      1413.0  2.432322e-07       0.000004  MYB51   \n",
       "6              20.0    959.0      1466.0  8.225513e-03       0.027573  MYB51   \n",
       "7             155.0   1592.0      1793.0  1.742161e-03       0.007440  MYB51   \n",
       "8             246.0   1945.0      3183.0  2.957618e-05       0.000235  MYB51   \n",
       "9             213.0    732.0       771.0  1.509500e-03       0.006605  MYB51   \n",
       "\n",
       "         TF2  \n",
       "4     ATHB23  \n",
       "6      MYB51  \n",
       "7  AT2G40260  \n",
       "8      TCP20  \n",
       "9     WRKY31  "
      ]
     },
     "execution_count": 7,
     "metadata": {},
     "output_type": "execute_result"
    }
   ],
   "source": [
    "df.head()"
   ]
  },
  {
   "cell_type": "code",
   "execution_count": 8,
   "metadata": {},
   "outputs": [],
   "source": [
    "df['TF_Interaction'] = df.apply(lambda x: x['TF1']+r'$\\longleftrightarrow$'+x['TF2'], axis=1)"
   ]
  },
  {
   "cell_type": "markdown",
   "metadata": {},
   "source": [
    "### Drop same motif interactions"
   ]
  },
  {
   "cell_type": "code",
   "execution_count": 9,
   "metadata": {},
   "outputs": [],
   "source": [
    "df = df[df['TF1']!=df['TF2']]"
   ]
  },
  {
   "cell_type": "code",
   "execution_count": 10,
   "metadata": {},
   "outputs": [
    {
     "data": {
      "text/plain": [
       "(481, 15)"
      ]
     },
     "execution_count": 10,
     "metadata": {},
     "output_type": "execute_result"
    }
   ],
   "source": [
    "df.shape"
   ]
  },
  {
   "cell_type": "code",
   "execution_count": 11,
   "metadata": {},
   "outputs": [],
   "source": [
    "df = df.reset_index(drop=True)"
   ]
  },
  {
   "cell_type": "markdown",
   "metadata": {},
   "source": [
    "### Fix redundant interaction pairs"
   ]
  },
  {
   "cell_type": "code",
   "execution_count": 12,
   "metadata": {},
   "outputs": [],
   "source": [
    "df = process_for_redundant_interactions(df, intr_type='TF')"
   ]
  },
  {
   "cell_type": "code",
   "execution_count": 13,
   "metadata": {},
   "outputs": [
    {
     "data": {
      "text/html": [
       "<div>\n",
       "<style scoped>\n",
       "    .dataframe tbody tr th:only-of-type {\n",
       "        vertical-align: middle;\n",
       "    }\n",
       "\n",
       "    .dataframe tbody tr th {\n",
       "        vertical-align: top;\n",
       "    }\n",
       "\n",
       "    .dataframe thead th {\n",
       "        text-align: right;\n",
       "    }\n",
       "</style>\n",
       "<table border=\"1\" class=\"dataframe\">\n",
       "  <thead>\n",
       "    <tr style=\"text-align: right;\">\n",
       "      <th></th>\n",
       "      <th>filter_interaction</th>\n",
       "      <th>example_no</th>\n",
       "      <th>motif1</th>\n",
       "      <th>motif1_qval</th>\n",
       "      <th>motif2</th>\n",
       "      <th>motif2_qval</th>\n",
       "      <th>mean_distance</th>\n",
       "      <th>mean_distance_bg</th>\n",
       "      <th>num_obs</th>\n",
       "      <th>num_obs_bg</th>\n",
       "      <th>pval</th>\n",
       "      <th>adjusted_pval</th>\n",
       "      <th>TF1</th>\n",
       "      <th>TF2</th>\n",
       "      <th>TF_Interaction</th>\n",
       "    </tr>\n",
       "  </thead>\n",
       "  <tbody>\n",
       "    <tr>\n",
       "      <td>0</td>\n",
       "      <td>filter1&lt;--&gt;filter6</td>\n",
       "      <td>203</td>\n",
       "      <td>MYB_tnt.MYB51_col_a_m1</td>\n",
       "      <td>0.003637</td>\n",
       "      <td>ZFHD_tnt.ATHB23_col_b_m1</td>\n",
       "      <td>0.003895</td>\n",
       "      <td>29.0</td>\n",
       "      <td>184.0</td>\n",
       "      <td>1133.0</td>\n",
       "      <td>1413.0</td>\n",
       "      <td>2.432322e-07</td>\n",
       "      <td>0.000004</td>\n",
       "      <td>MYB51</td>\n",
       "      <td>ATHB23</td>\n",
       "      <td>MYB51$\\longleftrightarrow$ATHB23</td>\n",
       "    </tr>\n",
       "    <tr>\n",
       "      <td>1</td>\n",
       "      <td>filter1&lt;--&gt;filter12</td>\n",
       "      <td>209</td>\n",
       "      <td>MYB_tnt.MYB51_col_a_m1</td>\n",
       "      <td>0.003637</td>\n",
       "      <td>G2like_tnt.AT2G40260_colamp_a_m1</td>\n",
       "      <td>0.000189</td>\n",
       "      <td>202.0</td>\n",
       "      <td>155.0</td>\n",
       "      <td>1592.0</td>\n",
       "      <td>1793.0</td>\n",
       "      <td>1.742161e-03</td>\n",
       "      <td>0.007440</td>\n",
       "      <td>MYB51</td>\n",
       "      <td>AT2G40260</td>\n",
       "      <td>MYB51$\\longleftrightarrow$AT2G40260</td>\n",
       "    </tr>\n",
       "    <tr>\n",
       "      <td>2</td>\n",
       "      <td>filter1&lt;--&gt;filter13</td>\n",
       "      <td>210</td>\n",
       "      <td>MYB_tnt.MYB51_col_a_m1</td>\n",
       "      <td>0.003637</td>\n",
       "      <td>TCP_tnt.TCP20_col_a_m1</td>\n",
       "      <td>0.004183</td>\n",
       "      <td>299.0</td>\n",
       "      <td>246.0</td>\n",
       "      <td>1945.0</td>\n",
       "      <td>3183.0</td>\n",
       "      <td>2.957618e-05</td>\n",
       "      <td>0.000235</td>\n",
       "      <td>MYB51</td>\n",
       "      <td>TCP20</td>\n",
       "      <td>MYB51$\\longleftrightarrow$TCP20</td>\n",
       "    </tr>\n",
       "    <tr>\n",
       "      <td>3</td>\n",
       "      <td>filter1&lt;--&gt;filter14</td>\n",
       "      <td>211</td>\n",
       "      <td>MYB_tnt.MYB51_col_a_m1</td>\n",
       "      <td>0.003637</td>\n",
       "      <td>WRKY_tnt.WRKY31_col_a_m1</td>\n",
       "      <td>0.009697</td>\n",
       "      <td>48.0</td>\n",
       "      <td>213.0</td>\n",
       "      <td>732.0</td>\n",
       "      <td>771.0</td>\n",
       "      <td>1.509500e-03</td>\n",
       "      <td>0.006605</td>\n",
       "      <td>MYB51</td>\n",
       "      <td>WRKY31</td>\n",
       "      <td>MYB51$\\longleftrightarrow$WRKY31</td>\n",
       "    </tr>\n",
       "    <tr>\n",
       "      <td>4</td>\n",
       "      <td>filter1&lt;--&gt;filter19</td>\n",
       "      <td>216</td>\n",
       "      <td>MYB_tnt.MYB51_col_a_m1</td>\n",
       "      <td>0.003637</td>\n",
       "      <td>C2H2_tnt.AtIDD11_col_a_m1</td>\n",
       "      <td>0.000900</td>\n",
       "      <td>258.0</td>\n",
       "      <td>257.0</td>\n",
       "      <td>1385.0</td>\n",
       "      <td>1798.0</td>\n",
       "      <td>6.452202e-06</td>\n",
       "      <td>0.000065</td>\n",
       "      <td>MYB51</td>\n",
       "      <td>AtIDD11</td>\n",
       "      <td>MYB51$\\longleftrightarrow$AtIDD11</td>\n",
       "    </tr>\n",
       "  </tbody>\n",
       "</table>\n",
       "</div>"
      ],
      "text/plain": [
       "    filter_interaction  example_no                  motif1  motif1_qval  \\\n",
       "0   filter1<-->filter6         203  MYB_tnt.MYB51_col_a_m1     0.003637   \n",
       "1  filter1<-->filter12         209  MYB_tnt.MYB51_col_a_m1     0.003637   \n",
       "2  filter1<-->filter13         210  MYB_tnt.MYB51_col_a_m1     0.003637   \n",
       "3  filter1<-->filter14         211  MYB_tnt.MYB51_col_a_m1     0.003637   \n",
       "4  filter1<-->filter19         216  MYB_tnt.MYB51_col_a_m1     0.003637   \n",
       "\n",
       "                             motif2  motif2_qval  mean_distance  \\\n",
       "0          ZFHD_tnt.ATHB23_col_b_m1     0.003895           29.0   \n",
       "1  G2like_tnt.AT2G40260_colamp_a_m1     0.000189          202.0   \n",
       "2            TCP_tnt.TCP20_col_a_m1     0.004183          299.0   \n",
       "3          WRKY_tnt.WRKY31_col_a_m1     0.009697           48.0   \n",
       "4         C2H2_tnt.AtIDD11_col_a_m1     0.000900          258.0   \n",
       "\n",
       "   mean_distance_bg  num_obs  num_obs_bg          pval  adjusted_pval    TF1  \\\n",
       "0             184.0   1133.0      1413.0  2.432322e-07       0.000004  MYB51   \n",
       "1             155.0   1592.0      1793.0  1.742161e-03       0.007440  MYB51   \n",
       "2             246.0   1945.0      3183.0  2.957618e-05       0.000235  MYB51   \n",
       "3             213.0    732.0       771.0  1.509500e-03       0.006605  MYB51   \n",
       "4             257.0   1385.0      1798.0  6.452202e-06       0.000065  MYB51   \n",
       "\n",
       "         TF2                       TF_Interaction  \n",
       "0     ATHB23     MYB51$\\longleftrightarrow$ATHB23  \n",
       "1  AT2G40260  MYB51$\\longleftrightarrow$AT2G40260  \n",
       "2      TCP20      MYB51$\\longleftrightarrow$TCP20  \n",
       "3     WRKY31     MYB51$\\longleftrightarrow$WRKY31  \n",
       "4    AtIDD11    MYB51$\\longleftrightarrow$AtIDD11  "
      ]
     },
     "execution_count": 13,
     "metadata": {},
     "output_type": "execute_result"
    }
   ],
   "source": [
    "df.head()"
   ]
  },
  {
   "cell_type": "code",
   "execution_count": 14,
   "metadata": {},
   "outputs": [
    {
     "data": {
      "text/plain": [
       "(481, 15)"
      ]
     },
     "execution_count": 14,
     "metadata": {},
     "output_type": "execute_result"
    }
   ],
   "source": [
    "df.shape"
   ]
  },
  {
   "cell_type": "markdown",
   "metadata": {},
   "source": [
    "## Most Frequent TF Family Interactions"
   ]
  },
  {
   "cell_type": "code",
   "execution_count": 15,
   "metadata": {},
   "outputs": [],
   "source": [
    "df['TF1_Family'] = df['motif1'].apply(lambda x: x.split('_')[0])\n",
    "df['TF2_Family'] = df['motif2'].apply(lambda x: x.split('_')[0])"
   ]
  },
  {
   "cell_type": "code",
   "execution_count": 16,
   "metadata": {},
   "outputs": [],
   "source": [
    "df['Family_Interaction'] = df.apply(lambda x: x['TF1_Family']+r'$\\longleftrightarrow$'+x['TF2_Family'],axis=1)"
   ]
  },
  {
   "cell_type": "code",
   "execution_count": 17,
   "metadata": {},
   "outputs": [],
   "source": [
    "df = process_for_redundant_interactions(df, intr_type='Family')"
   ]
  },
  {
   "cell_type": "code",
   "execution_count": 18,
   "metadata": {},
   "outputs": [
    {
     "data": {
      "text/html": [
       "<div>\n",
       "<style scoped>\n",
       "    .dataframe tbody tr th:only-of-type {\n",
       "        vertical-align: middle;\n",
       "    }\n",
       "\n",
       "    .dataframe tbody tr th {\n",
       "        vertical-align: top;\n",
       "    }\n",
       "\n",
       "    .dataframe thead th {\n",
       "        text-align: right;\n",
       "    }\n",
       "</style>\n",
       "<table border=\"1\" class=\"dataframe\">\n",
       "  <thead>\n",
       "    <tr style=\"text-align: right;\">\n",
       "      <th></th>\n",
       "      <th>filter_interaction</th>\n",
       "      <th>example_no</th>\n",
       "      <th>motif1</th>\n",
       "      <th>motif1_qval</th>\n",
       "      <th>motif2</th>\n",
       "      <th>motif2_qval</th>\n",
       "      <th>mean_distance</th>\n",
       "      <th>mean_distance_bg</th>\n",
       "      <th>num_obs</th>\n",
       "      <th>num_obs_bg</th>\n",
       "      <th>pval</th>\n",
       "      <th>adjusted_pval</th>\n",
       "      <th>TF1</th>\n",
       "      <th>TF2</th>\n",
       "      <th>TF_Interaction</th>\n",
       "      <th>TF1_Family</th>\n",
       "      <th>TF2_Family</th>\n",
       "      <th>Family_Interaction</th>\n",
       "    </tr>\n",
       "  </thead>\n",
       "  <tbody>\n",
       "    <tr>\n",
       "      <td>0</td>\n",
       "      <td>filter1&lt;--&gt;filter6</td>\n",
       "      <td>203</td>\n",
       "      <td>MYB_tnt.MYB51_col_a_m1</td>\n",
       "      <td>0.003637</td>\n",
       "      <td>ZFHD_tnt.ATHB23_col_b_m1</td>\n",
       "      <td>0.003895</td>\n",
       "      <td>29.0</td>\n",
       "      <td>184.0</td>\n",
       "      <td>1133.0</td>\n",
       "      <td>1413.0</td>\n",
       "      <td>2.432322e-07</td>\n",
       "      <td>0.000004</td>\n",
       "      <td>MYB51</td>\n",
       "      <td>ATHB23</td>\n",
       "      <td>MYB51$\\longleftrightarrow$ATHB23</td>\n",
       "      <td>MYB</td>\n",
       "      <td>ZFHD</td>\n",
       "      <td>MYB$\\longleftrightarrow$ZFHD</td>\n",
       "    </tr>\n",
       "    <tr>\n",
       "      <td>1</td>\n",
       "      <td>filter1&lt;--&gt;filter12</td>\n",
       "      <td>209</td>\n",
       "      <td>MYB_tnt.MYB51_col_a_m1</td>\n",
       "      <td>0.003637</td>\n",
       "      <td>G2like_tnt.AT2G40260_colamp_a_m1</td>\n",
       "      <td>0.000189</td>\n",
       "      <td>202.0</td>\n",
       "      <td>155.0</td>\n",
       "      <td>1592.0</td>\n",
       "      <td>1793.0</td>\n",
       "      <td>1.742161e-03</td>\n",
       "      <td>0.007440</td>\n",
       "      <td>MYB51</td>\n",
       "      <td>AT2G40260</td>\n",
       "      <td>MYB51$\\longleftrightarrow$AT2G40260</td>\n",
       "      <td>MYB</td>\n",
       "      <td>G2like</td>\n",
       "      <td>MYB$\\longleftrightarrow$G2like</td>\n",
       "    </tr>\n",
       "    <tr>\n",
       "      <td>2</td>\n",
       "      <td>filter1&lt;--&gt;filter13</td>\n",
       "      <td>210</td>\n",
       "      <td>MYB_tnt.MYB51_col_a_m1</td>\n",
       "      <td>0.003637</td>\n",
       "      <td>TCP_tnt.TCP20_col_a_m1</td>\n",
       "      <td>0.004183</td>\n",
       "      <td>299.0</td>\n",
       "      <td>246.0</td>\n",
       "      <td>1945.0</td>\n",
       "      <td>3183.0</td>\n",
       "      <td>2.957618e-05</td>\n",
       "      <td>0.000235</td>\n",
       "      <td>MYB51</td>\n",
       "      <td>TCP20</td>\n",
       "      <td>MYB51$\\longleftrightarrow$TCP20</td>\n",
       "      <td>MYB</td>\n",
       "      <td>TCP</td>\n",
       "      <td>MYB$\\longleftrightarrow$TCP</td>\n",
       "    </tr>\n",
       "    <tr>\n",
       "      <td>3</td>\n",
       "      <td>filter1&lt;--&gt;filter14</td>\n",
       "      <td>211</td>\n",
       "      <td>MYB_tnt.MYB51_col_a_m1</td>\n",
       "      <td>0.003637</td>\n",
       "      <td>WRKY_tnt.WRKY31_col_a_m1</td>\n",
       "      <td>0.009697</td>\n",
       "      <td>48.0</td>\n",
       "      <td>213.0</td>\n",
       "      <td>732.0</td>\n",
       "      <td>771.0</td>\n",
       "      <td>1.509500e-03</td>\n",
       "      <td>0.006605</td>\n",
       "      <td>MYB51</td>\n",
       "      <td>WRKY31</td>\n",
       "      <td>MYB51$\\longleftrightarrow$WRKY31</td>\n",
       "      <td>MYB</td>\n",
       "      <td>WRKY</td>\n",
       "      <td>MYB$\\longleftrightarrow$WRKY</td>\n",
       "    </tr>\n",
       "    <tr>\n",
       "      <td>4</td>\n",
       "      <td>filter1&lt;--&gt;filter19</td>\n",
       "      <td>216</td>\n",
       "      <td>MYB_tnt.MYB51_col_a_m1</td>\n",
       "      <td>0.003637</td>\n",
       "      <td>C2H2_tnt.AtIDD11_col_a_m1</td>\n",
       "      <td>0.000900</td>\n",
       "      <td>258.0</td>\n",
       "      <td>257.0</td>\n",
       "      <td>1385.0</td>\n",
       "      <td>1798.0</td>\n",
       "      <td>6.452202e-06</td>\n",
       "      <td>0.000065</td>\n",
       "      <td>MYB51</td>\n",
       "      <td>AtIDD11</td>\n",
       "      <td>MYB51$\\longleftrightarrow$AtIDD11</td>\n",
       "      <td>MYB</td>\n",
       "      <td>C2H2</td>\n",
       "      <td>MYB$\\longleftrightarrow$C2H2</td>\n",
       "    </tr>\n",
       "  </tbody>\n",
       "</table>\n",
       "</div>"
      ],
      "text/plain": [
       "    filter_interaction  example_no                  motif1  motif1_qval  \\\n",
       "0   filter1<-->filter6         203  MYB_tnt.MYB51_col_a_m1     0.003637   \n",
       "1  filter1<-->filter12         209  MYB_tnt.MYB51_col_a_m1     0.003637   \n",
       "2  filter1<-->filter13         210  MYB_tnt.MYB51_col_a_m1     0.003637   \n",
       "3  filter1<-->filter14         211  MYB_tnt.MYB51_col_a_m1     0.003637   \n",
       "4  filter1<-->filter19         216  MYB_tnt.MYB51_col_a_m1     0.003637   \n",
       "\n",
       "                             motif2  motif2_qval  mean_distance  \\\n",
       "0          ZFHD_tnt.ATHB23_col_b_m1     0.003895           29.0   \n",
       "1  G2like_tnt.AT2G40260_colamp_a_m1     0.000189          202.0   \n",
       "2            TCP_tnt.TCP20_col_a_m1     0.004183          299.0   \n",
       "3          WRKY_tnt.WRKY31_col_a_m1     0.009697           48.0   \n",
       "4         C2H2_tnt.AtIDD11_col_a_m1     0.000900          258.0   \n",
       "\n",
       "   mean_distance_bg  num_obs  num_obs_bg          pval  adjusted_pval    TF1  \\\n",
       "0             184.0   1133.0      1413.0  2.432322e-07       0.000004  MYB51   \n",
       "1             155.0   1592.0      1793.0  1.742161e-03       0.007440  MYB51   \n",
       "2             246.0   1945.0      3183.0  2.957618e-05       0.000235  MYB51   \n",
       "3             213.0    732.0       771.0  1.509500e-03       0.006605  MYB51   \n",
       "4             257.0   1385.0      1798.0  6.452202e-06       0.000065  MYB51   \n",
       "\n",
       "         TF2                       TF_Interaction TF1_Family TF2_Family  \\\n",
       "0     ATHB23     MYB51$\\longleftrightarrow$ATHB23        MYB       ZFHD   \n",
       "1  AT2G40260  MYB51$\\longleftrightarrow$AT2G40260        MYB     G2like   \n",
       "2      TCP20      MYB51$\\longleftrightarrow$TCP20        MYB        TCP   \n",
       "3     WRKY31     MYB51$\\longleftrightarrow$WRKY31        MYB       WRKY   \n",
       "4    AtIDD11    MYB51$\\longleftrightarrow$AtIDD11        MYB       C2H2   \n",
       "\n",
       "               Family_Interaction  \n",
       "0    MYB$\\longleftrightarrow$ZFHD  \n",
       "1  MYB$\\longleftrightarrow$G2like  \n",
       "2     MYB$\\longleftrightarrow$TCP  \n",
       "3    MYB$\\longleftrightarrow$WRKY  \n",
       "4    MYB$\\longleftrightarrow$C2H2  "
      ]
     },
     "execution_count": 18,
     "metadata": {},
     "output_type": "execute_result"
    }
   ],
   "source": [
    "df.head()"
   ]
  },
  {
   "cell_type": "code",
   "execution_count": 19,
   "metadata": {},
   "outputs": [],
   "source": [
    "df['filter_interaction'] = df['filter_interaction'].apply(lambda x: x.replace('<-->',r'$\\longleftrightarrow$'))"
   ]
  },
  {
   "cell_type": "code",
   "execution_count": 20,
   "metadata": {},
   "outputs": [
    {
     "data": {
      "text/html": [
       "<div>\n",
       "<style scoped>\n",
       "    .dataframe tbody tr th:only-of-type {\n",
       "        vertical-align: middle;\n",
       "    }\n",
       "\n",
       "    .dataframe tbody tr th {\n",
       "        vertical-align: top;\n",
       "    }\n",
       "\n",
       "    .dataframe thead th {\n",
       "        text-align: right;\n",
       "    }\n",
       "</style>\n",
       "<table border=\"1\" class=\"dataframe\">\n",
       "  <thead>\n",
       "    <tr style=\"text-align: right;\">\n",
       "      <th></th>\n",
       "      <th>filter_interaction</th>\n",
       "      <th>example_no</th>\n",
       "      <th>motif1</th>\n",
       "      <th>motif1_qval</th>\n",
       "      <th>motif2</th>\n",
       "      <th>motif2_qval</th>\n",
       "      <th>mean_distance</th>\n",
       "      <th>mean_distance_bg</th>\n",
       "      <th>num_obs</th>\n",
       "      <th>num_obs_bg</th>\n",
       "      <th>pval</th>\n",
       "      <th>adjusted_pval</th>\n",
       "      <th>TF1</th>\n",
       "      <th>TF2</th>\n",
       "      <th>TF_Interaction</th>\n",
       "      <th>TF1_Family</th>\n",
       "      <th>TF2_Family</th>\n",
       "      <th>Family_Interaction</th>\n",
       "    </tr>\n",
       "  </thead>\n",
       "  <tbody>\n",
       "    <tr>\n",
       "      <td>0</td>\n",
       "      <td>filter1$\\longleftrightarrow$filter6</td>\n",
       "      <td>203</td>\n",
       "      <td>MYB_tnt.MYB51_col_a_m1</td>\n",
       "      <td>0.003637</td>\n",
       "      <td>ZFHD_tnt.ATHB23_col_b_m1</td>\n",
       "      <td>0.003895</td>\n",
       "      <td>29.0</td>\n",
       "      <td>184.0</td>\n",
       "      <td>1133.0</td>\n",
       "      <td>1413.0</td>\n",
       "      <td>2.432322e-07</td>\n",
       "      <td>0.000004</td>\n",
       "      <td>MYB51</td>\n",
       "      <td>ATHB23</td>\n",
       "      <td>MYB51$\\longleftrightarrow$ATHB23</td>\n",
       "      <td>MYB</td>\n",
       "      <td>ZFHD</td>\n",
       "      <td>MYB$\\longleftrightarrow$ZFHD</td>\n",
       "    </tr>\n",
       "    <tr>\n",
       "      <td>1</td>\n",
       "      <td>filter1$\\longleftrightarrow$filter12</td>\n",
       "      <td>209</td>\n",
       "      <td>MYB_tnt.MYB51_col_a_m1</td>\n",
       "      <td>0.003637</td>\n",
       "      <td>G2like_tnt.AT2G40260_colamp_a_m1</td>\n",
       "      <td>0.000189</td>\n",
       "      <td>202.0</td>\n",
       "      <td>155.0</td>\n",
       "      <td>1592.0</td>\n",
       "      <td>1793.0</td>\n",
       "      <td>1.742161e-03</td>\n",
       "      <td>0.007440</td>\n",
       "      <td>MYB51</td>\n",
       "      <td>AT2G40260</td>\n",
       "      <td>MYB51$\\longleftrightarrow$AT2G40260</td>\n",
       "      <td>MYB</td>\n",
       "      <td>G2like</td>\n",
       "      <td>MYB$\\longleftrightarrow$G2like</td>\n",
       "    </tr>\n",
       "    <tr>\n",
       "      <td>2</td>\n",
       "      <td>filter1$\\longleftrightarrow$filter13</td>\n",
       "      <td>210</td>\n",
       "      <td>MYB_tnt.MYB51_col_a_m1</td>\n",
       "      <td>0.003637</td>\n",
       "      <td>TCP_tnt.TCP20_col_a_m1</td>\n",
       "      <td>0.004183</td>\n",
       "      <td>299.0</td>\n",
       "      <td>246.0</td>\n",
       "      <td>1945.0</td>\n",
       "      <td>3183.0</td>\n",
       "      <td>2.957618e-05</td>\n",
       "      <td>0.000235</td>\n",
       "      <td>MYB51</td>\n",
       "      <td>TCP20</td>\n",
       "      <td>MYB51$\\longleftrightarrow$TCP20</td>\n",
       "      <td>MYB</td>\n",
       "      <td>TCP</td>\n",
       "      <td>MYB$\\longleftrightarrow$TCP</td>\n",
       "    </tr>\n",
       "    <tr>\n",
       "      <td>3</td>\n",
       "      <td>filter1$\\longleftrightarrow$filter14</td>\n",
       "      <td>211</td>\n",
       "      <td>MYB_tnt.MYB51_col_a_m1</td>\n",
       "      <td>0.003637</td>\n",
       "      <td>WRKY_tnt.WRKY31_col_a_m1</td>\n",
       "      <td>0.009697</td>\n",
       "      <td>48.0</td>\n",
       "      <td>213.0</td>\n",
       "      <td>732.0</td>\n",
       "      <td>771.0</td>\n",
       "      <td>1.509500e-03</td>\n",
       "      <td>0.006605</td>\n",
       "      <td>MYB51</td>\n",
       "      <td>WRKY31</td>\n",
       "      <td>MYB51$\\longleftrightarrow$WRKY31</td>\n",
       "      <td>MYB</td>\n",
       "      <td>WRKY</td>\n",
       "      <td>MYB$\\longleftrightarrow$WRKY</td>\n",
       "    </tr>\n",
       "    <tr>\n",
       "      <td>4</td>\n",
       "      <td>filter1$\\longleftrightarrow$filter19</td>\n",
       "      <td>216</td>\n",
       "      <td>MYB_tnt.MYB51_col_a_m1</td>\n",
       "      <td>0.003637</td>\n",
       "      <td>C2H2_tnt.AtIDD11_col_a_m1</td>\n",
       "      <td>0.000900</td>\n",
       "      <td>258.0</td>\n",
       "      <td>257.0</td>\n",
       "      <td>1385.0</td>\n",
       "      <td>1798.0</td>\n",
       "      <td>6.452202e-06</td>\n",
       "      <td>0.000065</td>\n",
       "      <td>MYB51</td>\n",
       "      <td>AtIDD11</td>\n",
       "      <td>MYB51$\\longleftrightarrow$AtIDD11</td>\n",
       "      <td>MYB</td>\n",
       "      <td>C2H2</td>\n",
       "      <td>MYB$\\longleftrightarrow$C2H2</td>\n",
       "    </tr>\n",
       "  </tbody>\n",
       "</table>\n",
       "</div>"
      ],
      "text/plain": [
       "                     filter_interaction  example_no                  motif1  \\\n",
       "0   filter1$\\longleftrightarrow$filter6         203  MYB_tnt.MYB51_col_a_m1   \n",
       "1  filter1$\\longleftrightarrow$filter12         209  MYB_tnt.MYB51_col_a_m1   \n",
       "2  filter1$\\longleftrightarrow$filter13         210  MYB_tnt.MYB51_col_a_m1   \n",
       "3  filter1$\\longleftrightarrow$filter14         211  MYB_tnt.MYB51_col_a_m1   \n",
       "4  filter1$\\longleftrightarrow$filter19         216  MYB_tnt.MYB51_col_a_m1   \n",
       "\n",
       "   motif1_qval                            motif2  motif2_qval  mean_distance  \\\n",
       "0     0.003637          ZFHD_tnt.ATHB23_col_b_m1     0.003895           29.0   \n",
       "1     0.003637  G2like_tnt.AT2G40260_colamp_a_m1     0.000189          202.0   \n",
       "2     0.003637            TCP_tnt.TCP20_col_a_m1     0.004183          299.0   \n",
       "3     0.003637          WRKY_tnt.WRKY31_col_a_m1     0.009697           48.0   \n",
       "4     0.003637         C2H2_tnt.AtIDD11_col_a_m1     0.000900          258.0   \n",
       "\n",
       "   mean_distance_bg  num_obs  num_obs_bg          pval  adjusted_pval    TF1  \\\n",
       "0             184.0   1133.0      1413.0  2.432322e-07       0.000004  MYB51   \n",
       "1             155.0   1592.0      1793.0  1.742161e-03       0.007440  MYB51   \n",
       "2             246.0   1945.0      3183.0  2.957618e-05       0.000235  MYB51   \n",
       "3             213.0    732.0       771.0  1.509500e-03       0.006605  MYB51   \n",
       "4             257.0   1385.0      1798.0  6.452202e-06       0.000065  MYB51   \n",
       "\n",
       "         TF2                       TF_Interaction TF1_Family TF2_Family  \\\n",
       "0     ATHB23     MYB51$\\longleftrightarrow$ATHB23        MYB       ZFHD   \n",
       "1  AT2G40260  MYB51$\\longleftrightarrow$AT2G40260        MYB     G2like   \n",
       "2      TCP20      MYB51$\\longleftrightarrow$TCP20        MYB        TCP   \n",
       "3     WRKY31     MYB51$\\longleftrightarrow$WRKY31        MYB       WRKY   \n",
       "4    AtIDD11    MYB51$\\longleftrightarrow$AtIDD11        MYB       C2H2   \n",
       "\n",
       "               Family_Interaction  \n",
       "0    MYB$\\longleftrightarrow$ZFHD  \n",
       "1  MYB$\\longleftrightarrow$G2like  \n",
       "2     MYB$\\longleftrightarrow$TCP  \n",
       "3    MYB$\\longleftrightarrow$WRKY  \n",
       "4    MYB$\\longleftrightarrow$C2H2  "
      ]
     },
     "execution_count": 20,
     "metadata": {},
     "output_type": "execute_result"
    }
   ],
   "source": [
    "df.head()"
   ]
  },
  {
   "cell_type": "code",
   "execution_count": 21,
   "metadata": {},
   "outputs": [],
   "source": [
    "df.to_csv('output/Arabidopsis_interactions.csv')"
   ]
  },
  {
   "cell_type": "markdown",
   "metadata": {},
   "source": [
    "### Distribution of individual TF or TF family interactions"
   ]
  },
  {
   "cell_type": "code",
   "execution_count": 22,
   "metadata": {
    "scrolled": false
   },
   "outputs": [
    {
     "data": {
      "image/png": "[encoded data removed]",
      "text/plain": [
       "<Figure size 1296x432 with 1 Axes>"
      ]
     },
     "metadata": {
      "needs_background": "light"
     },
     "output_type": "display_data"
    }
   ],
   "source": [
    "plot_frequent_interactions(df, intr_level='Family_Interaction', first_n=15)"
   ]
  },
  {
   "cell_type": "markdown",
   "metadata": {},
   "source": [
    "### Plot interaction distance distribution"
   ]
  },
  {
   "cell_type": "code",
   "execution_count": 23,
   "metadata": {
    "scrolled": false
   },
   "outputs": [
    {
     "data": {
      "image/png": "[encoded data removed]",
      "text/plain": [
       "<Figure size 576x432 with 1 Axes>"
      ]
     },
     "metadata": {
      "needs_background": "light"
     },
     "output_type": "display_data"
    }
   ],
   "source": [
    "plot_interaction_distance_distribution(df, nbins=50, fig_size=(8,6))"
   ]
  },
  {
   "cell_type": "code",
   "execution_count": 24,
   "metadata": {},
   "outputs": [
    {
     "data": {
      "text/plain": [
       "(189.41995841995842, 172.0)"
      ]
     },
     "execution_count": 24,
     "metadata": {},
     "output_type": "execute_result"
    }
   ],
   "source": [
    "df['mean_distance'].mean(), df['mean_distance'].median()"
   ]
  },
  {
   "cell_type": "markdown",
   "metadata": {},
   "source": [
    "### Most frequent interactions and their respective interaction distances"
   ]
  },
  {
   "cell_type": "code",
   "execution_count": 25,
   "metadata": {},
   "outputs": [
    {
     "data": {
      "image/png": "[encoded data removed]",
      "text/plain": [
       "<Figure size 1296x360 with 2 Axes>"
      ]
     },
     "metadata": {
      "needs_background": "light"
     },
     "output_type": "display_data"
    }
   ],
   "source": [
    "plot_interactions_and_distances_boxplot(df, first_n=15, sort_distances=False, add_sub_caption=True, show_mean_dist=True, dist_color='slateblue', cap_pos=[0.5, -0.89], store_pdf_path='output/arabidopsis_main_distance_boxplot.pdf')"
   ]
  },
  {
   "cell_type": "code",
   "execution_count": 26,
   "metadata": {},
   "outputs": [
    {
     "data": {
      "image/png": "[encoded data removed]",
      "text/plain": [
       "<Figure size 1296x360 with 2 Axes>"
      ]
     },
     "metadata": {
      "needs_background": "light"
     },
     "output_type": "display_data"
    }
   ],
   "source": [
    "plot_interactions_and_distances_histogram(df, first_n=15, dist_nbins=25, add_sub_caption=True, show_mean_dist=True, dist_colors=['slateblue', 'darkkhaki'], cap_pos=[0.5, -0.89], store_pdf_path='output/arabidopsis_main_distance_histogram.pdf')"
   ]
  },
  {
   "cell_type": "code",
   "execution_count": null,
   "metadata": {},
   "outputs": [],
   "source": []
  }
 ],
 "metadata": {
  "kernelspec": {
   "display_name": "Python 3",
   "language": "python",
   "name": "python3"
  },
  "language_info": {
   "codemirror_mode": {
    "name": "ipython",
    "version": 3
   },
   "file_extension": ".py",
   "mimetype": "text/x-python",
   "name": "python",
   "nbconvert_exporter": "python",
   "pygments_lexer": "ipython3",
   "version": "3.7.3"
  }
 },
 "nbformat": 4,
 "nbformat_minor": 2
}
