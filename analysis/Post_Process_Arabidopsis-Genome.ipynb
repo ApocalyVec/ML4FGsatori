{
 "cells": [
  {
   "cell_type": "markdown",
   "metadata": {},
   "source": [
    "## Imports"
   ]
  },
  {
   "cell_type": "code",
   "execution_count": 1,
   "metadata": {},
   "outputs": [],
   "source": [
    "import pandas as pd\n",
    "import sys\n",
    "\n",
    "sys.path.insert(0,'../src')\n",
    "\n",
    "from postprocess import *"
   ]
  },
  {
   "cell_type": "markdown",
   "metadata": {},
   "source": [
    "## Interaction data processing"
   ]
  },
  {
   "cell_type": "code",
   "execution_count": 2,
   "metadata": {},
   "outputs": [],
   "source": [
    "# For SATORI based interactions\n",
    "df = pd.read_csv('../results/Arabidopsis_GenomeWide_Analysis_euclidean_v8_fixed/Interactions_SATORI/interactions_summary_attnLimit-0.12.txt', sep='\\t')\n",
    "##df = pd.read_csv('../../Arabidopsis_GenomeWide_Analysis_euclidean_v8/Interactions_Results_v9_run2_5000/interactions_summary_attnLimit-0.12.txt', sep='\\t')\n",
    "\n",
    "# For FIS based interactions\n",
    "#df = pd.read_csv('../results/Arabidopsis_GenomeWide_Analysis_euclidean_v8_fixed/Interactions_FIS/interactions_summary_attnLimit-10.0.txt', sep='\\t')\n",
    "##df = pd.read_csv('../../DFIM_Arabidopsis_experiment_v10/Interactions/interactions_summary_attnLimit-0.txt', sep='\\t')"
   ]
  },
  {
   "cell_type": "markdown",
   "metadata": {},
   "source": [
    "### Filter based on interaction and motif hit p-values, and keep the most significant interactions"
   ]
  },
  {
   "cell_type": "code",
   "execution_count": 3,
   "metadata": {},
   "outputs": [],
   "source": [
    "df = filter_data_on_thresholds(df, motifA_pval_cutoff=0.05, motifB_pval_cutoff=0.05)"
   ]
  },
  {
   "cell_type": "code",
   "execution_count": 4,
   "metadata": {},
   "outputs": [
    {
     "data": {
      "text/plain": [
       "(3909, 12)"
      ]
     },
     "execution_count": 4,
     "metadata": {},
     "output_type": "execute_result"
    }
   ],
   "source": [
    "df.shape"
   ]
  },
  {
   "cell_type": "code",
   "execution_count": 5,
   "metadata": {},
   "outputs": [
    {
     "data": {
      "text/html": [
       "<div>\n",
       "<style scoped>\n",
       "    .dataframe tbody tr th:only-of-type {\n",
       "        vertical-align: middle;\n",
       "    }\n",
       "\n",
       "    .dataframe tbody tr th {\n",
       "        vertical-align: top;\n",
       "    }\n",
       "\n",
       "    .dataframe thead th {\n",
       "        text-align: right;\n",
       "    }\n",
       "</style>\n",
       "<table border=\"1\" class=\"dataframe\">\n",
       "  <thead>\n",
       "    <tr style=\"text-align: right;\">\n",
       "      <th></th>\n",
       "      <th>filter_interaction</th>\n",
       "      <th>example_no</th>\n",
       "      <th>motif1</th>\n",
       "      <th>motif1_qval</th>\n",
       "      <th>motif2</th>\n",
       "      <th>motif2_qval</th>\n",
       "      <th>mean_distance</th>\n",
       "      <th>mean_distance_bg</th>\n",
       "      <th>num_obs</th>\n",
       "      <th>num_obs_bg</th>\n",
       "      <th>pval</th>\n",
       "      <th>adjusted_pval</th>\n",
       "    </tr>\n",
       "  </thead>\n",
       "  <tbody>\n",
       "    <tr>\n",
       "      <td>0</td>\n",
       "      <td>filter1&lt;--&gt;filter3</td>\n",
       "      <td>200</td>\n",
       "      <td>MYB_tnt.MYB51_col_a_m1</td>\n",
       "      <td>0.003637</td>\n",
       "      <td>WRKY_tnt.WRKY31_col_a_m1</td>\n",
       "      <td>0.031988</td>\n",
       "      <td>36.0</td>\n",
       "      <td>42.0</td>\n",
       "      <td>2210.0</td>\n",
       "      <td>2391.0</td>\n",
       "      <td>4.775539e-112</td>\n",
       "      <td>4.610205e-111</td>\n",
       "    </tr>\n",
       "    <tr>\n",
       "      <td>1</td>\n",
       "      <td>filter1&lt;--&gt;filter10</td>\n",
       "      <td>207</td>\n",
       "      <td>MYB_tnt.MYB51_col_a_m1</td>\n",
       "      <td>0.003637</td>\n",
       "      <td>C2C2dof_tnt.AT1G69570_colamp_a_m1</td>\n",
       "      <td>0.007115</td>\n",
       "      <td>90.0</td>\n",
       "      <td>36.0</td>\n",
       "      <td>3031.0</td>\n",
       "      <td>3746.0</td>\n",
       "      <td>8.689740e-66</td>\n",
       "      <td>2.099953e-65</td>\n",
       "    </tr>\n",
       "    <tr>\n",
       "      <td>2</td>\n",
       "      <td>filter1&lt;--&gt;filter11</td>\n",
       "      <td>208</td>\n",
       "      <td>MYB_tnt.MYB51_col_a_m1</td>\n",
       "      <td>0.003637</td>\n",
       "      <td>MYB_tnt.MYB51_col_a_m1</td>\n",
       "      <td>0.007254</td>\n",
       "      <td>180.0</td>\n",
       "      <td>348.0</td>\n",
       "      <td>2100.0</td>\n",
       "      <td>2536.0</td>\n",
       "      <td>2.938162e-73</td>\n",
       "      <td>8.756532e-73</td>\n",
       "    </tr>\n",
       "    <tr>\n",
       "      <td>3</td>\n",
       "      <td>filter1&lt;--&gt;filter12</td>\n",
       "      <td>209</td>\n",
       "      <td>MYB_tnt.MYB51_col_a_m1</td>\n",
       "      <td>0.003637</td>\n",
       "      <td>G2like_tnt.AT2G40260_colamp_a_m1</td>\n",
       "      <td>0.000189</td>\n",
       "      <td>102.0</td>\n",
       "      <td>300.0</td>\n",
       "      <td>2504.0</td>\n",
       "      <td>2330.0</td>\n",
       "      <td>1.226026e-153</td>\n",
       "      <td>4.591060e-152</td>\n",
       "    </tr>\n",
       "    <tr>\n",
       "      <td>4</td>\n",
       "      <td>filter1&lt;--&gt;filter13</td>\n",
       "      <td>210</td>\n",
       "      <td>MYB_tnt.MYB51_col_a_m1</td>\n",
       "      <td>0.003637</td>\n",
       "      <td>TCP_tnt.TCP20_col_a_m1</td>\n",
       "      <td>0.004183</td>\n",
       "      <td>84.0</td>\n",
       "      <td>282.0</td>\n",
       "      <td>1021.0</td>\n",
       "      <td>931.0</td>\n",
       "      <td>2.010799e-39</td>\n",
       "      <td>2.654508e-39</td>\n",
       "    </tr>\n",
       "  </tbody>\n",
       "</table>\n",
       "</div>"
      ],
      "text/plain": [
       "    filter_interaction  example_no                  motif1  motif1_qval  \\\n",
       "0   filter1<-->filter3         200  MYB_tnt.MYB51_col_a_m1     0.003637   \n",
       "1  filter1<-->filter10         207  MYB_tnt.MYB51_col_a_m1     0.003637   \n",
       "2  filter1<-->filter11         208  MYB_tnt.MYB51_col_a_m1     0.003637   \n",
       "3  filter1<-->filter12         209  MYB_tnt.MYB51_col_a_m1     0.003637   \n",
       "4  filter1<-->filter13         210  MYB_tnt.MYB51_col_a_m1     0.003637   \n",
       "\n",
       "                              motif2  motif2_qval  mean_distance  \\\n",
       "0           WRKY_tnt.WRKY31_col_a_m1     0.031988           36.0   \n",
       "1  C2C2dof_tnt.AT1G69570_colamp_a_m1     0.007115           90.0   \n",
       "2             MYB_tnt.MYB51_col_a_m1     0.007254          180.0   \n",
       "3   G2like_tnt.AT2G40260_colamp_a_m1     0.000189          102.0   \n",
       "4             TCP_tnt.TCP20_col_a_m1     0.004183           84.0   \n",
       "\n",
       "   mean_distance_bg  num_obs  num_obs_bg           pval  adjusted_pval  \n",
       "0              42.0   2210.0      2391.0  4.775539e-112  4.610205e-111  \n",
       "1              36.0   3031.0      3746.0   8.689740e-66   2.099953e-65  \n",
       "2             348.0   2100.0      2536.0   2.938162e-73   8.756532e-73  \n",
       "3             300.0   2504.0      2330.0  1.226026e-153  4.591060e-152  \n",
       "4             282.0   1021.0       931.0   2.010799e-39   2.654508e-39  "
      ]
     },
     "execution_count": 5,
     "metadata": {},
     "output_type": "execute_result"
    }
   ],
   "source": [
    "df.head()"
   ]
  },
  {
   "cell_type": "markdown",
   "metadata": {},
   "source": [
    "### Annotate the interacting motifs"
   ]
  },
  {
   "cell_type": "code",
   "execution_count": 6,
   "metadata": {},
   "outputs": [],
   "source": [
    "df['TF1'] = df['motif1'].apply(lambda x: x.split('_')[1].strip('.tnt'))\n",
    "df['TF2'] = df['motif2'].apply(lambda x: x.split('_')[1].strip('.tnt'))"
   ]
  },
  {
   "cell_type": "code",
   "execution_count": 7,
   "metadata": {
    "scrolled": true
   },
   "outputs": [
    {
     "data": {
      "text/html": [
       "<div>\n",
       "<style scoped>\n",
       "    .dataframe tbody tr th:only-of-type {\n",
       "        vertical-align: middle;\n",
       "    }\n",
       "\n",
       "    .dataframe tbody tr th {\n",
       "        vertical-align: top;\n",
       "    }\n",
       "\n",
       "    .dataframe thead th {\n",
       "        text-align: right;\n",
       "    }\n",
       "</style>\n",
       "<table border=\"1\" class=\"dataframe\">\n",
       "  <thead>\n",
       "    <tr style=\"text-align: right;\">\n",
       "      <th></th>\n",
       "      <th>filter_interaction</th>\n",
       "      <th>example_no</th>\n",
       "      <th>motif1</th>\n",
       "      <th>motif1_qval</th>\n",
       "      <th>motif2</th>\n",
       "      <th>motif2_qval</th>\n",
       "      <th>mean_distance</th>\n",
       "      <th>mean_distance_bg</th>\n",
       "      <th>num_obs</th>\n",
       "      <th>num_obs_bg</th>\n",
       "      <th>pval</th>\n",
       "      <th>adjusted_pval</th>\n",
       "      <th>TF1</th>\n",
       "      <th>TF2</th>\n",
       "    </tr>\n",
       "  </thead>\n",
       "  <tbody>\n",
       "    <tr>\n",
       "      <td>0</td>\n",
       "      <td>filter1&lt;--&gt;filter3</td>\n",
       "      <td>200</td>\n",
       "      <td>MYB_tnt.MYB51_col_a_m1</td>\n",
       "      <td>0.003637</td>\n",
       "      <td>WRKY_tnt.WRKY31_col_a_m1</td>\n",
       "      <td>0.031988</td>\n",
       "      <td>36.0</td>\n",
       "      <td>42.0</td>\n",
       "      <td>2210.0</td>\n",
       "      <td>2391.0</td>\n",
       "      <td>4.775539e-112</td>\n",
       "      <td>4.610205e-111</td>\n",
       "      <td>MYB51</td>\n",
       "      <td>WRKY31</td>\n",
       "    </tr>\n",
       "    <tr>\n",
       "      <td>1</td>\n",
       "      <td>filter1&lt;--&gt;filter10</td>\n",
       "      <td>207</td>\n",
       "      <td>MYB_tnt.MYB51_col_a_m1</td>\n",
       "      <td>0.003637</td>\n",
       "      <td>C2C2dof_tnt.AT1G69570_colamp_a_m1</td>\n",
       "      <td>0.007115</td>\n",
       "      <td>90.0</td>\n",
       "      <td>36.0</td>\n",
       "      <td>3031.0</td>\n",
       "      <td>3746.0</td>\n",
       "      <td>8.689740e-66</td>\n",
       "      <td>2.099953e-65</td>\n",
       "      <td>MYB51</td>\n",
       "      <td>AT1G69570</td>\n",
       "    </tr>\n",
       "    <tr>\n",
       "      <td>2</td>\n",
       "      <td>filter1&lt;--&gt;filter11</td>\n",
       "      <td>208</td>\n",
       "      <td>MYB_tnt.MYB51_col_a_m1</td>\n",
       "      <td>0.003637</td>\n",
       "      <td>MYB_tnt.MYB51_col_a_m1</td>\n",
       "      <td>0.007254</td>\n",
       "      <td>180.0</td>\n",
       "      <td>348.0</td>\n",
       "      <td>2100.0</td>\n",
       "      <td>2536.0</td>\n",
       "      <td>2.938162e-73</td>\n",
       "      <td>8.756532e-73</td>\n",
       "      <td>MYB51</td>\n",
       "      <td>MYB51</td>\n",
       "    </tr>\n",
       "    <tr>\n",
       "      <td>3</td>\n",
       "      <td>filter1&lt;--&gt;filter12</td>\n",
       "      <td>209</td>\n",
       "      <td>MYB_tnt.MYB51_col_a_m1</td>\n",
       "      <td>0.003637</td>\n",
       "      <td>G2like_tnt.AT2G40260_colamp_a_m1</td>\n",
       "      <td>0.000189</td>\n",
       "      <td>102.0</td>\n",
       "      <td>300.0</td>\n",
       "      <td>2504.0</td>\n",
       "      <td>2330.0</td>\n",
       "      <td>1.226026e-153</td>\n",
       "      <td>4.591060e-152</td>\n",
       "      <td>MYB51</td>\n",
       "      <td>AT2G40260</td>\n",
       "    </tr>\n",
       "    <tr>\n",
       "      <td>4</td>\n",
       "      <td>filter1&lt;--&gt;filter13</td>\n",
       "      <td>210</td>\n",
       "      <td>MYB_tnt.MYB51_col_a_m1</td>\n",
       "      <td>0.003637</td>\n",
       "      <td>TCP_tnt.TCP20_col_a_m1</td>\n",
       "      <td>0.004183</td>\n",
       "      <td>84.0</td>\n",
       "      <td>282.0</td>\n",
       "      <td>1021.0</td>\n",
       "      <td>931.0</td>\n",
       "      <td>2.010799e-39</td>\n",
       "      <td>2.654508e-39</td>\n",
       "      <td>MYB51</td>\n",
       "      <td>TCP20</td>\n",
       "    </tr>\n",
       "  </tbody>\n",
       "</table>\n",
       "</div>"
      ],
      "text/plain": [
       "    filter_interaction  example_no                  motif1  motif1_qval  \\\n",
       "0   filter1<-->filter3         200  MYB_tnt.MYB51_col_a_m1     0.003637   \n",
       "1  filter1<-->filter10         207  MYB_tnt.MYB51_col_a_m1     0.003637   \n",
       "2  filter1<-->filter11         208  MYB_tnt.MYB51_col_a_m1     0.003637   \n",
       "3  filter1<-->filter12         209  MYB_tnt.MYB51_col_a_m1     0.003637   \n",
       "4  filter1<-->filter13         210  MYB_tnt.MYB51_col_a_m1     0.003637   \n",
       "\n",
       "                              motif2  motif2_qval  mean_distance  \\\n",
       "0           WRKY_tnt.WRKY31_col_a_m1     0.031988           36.0   \n",
       "1  C2C2dof_tnt.AT1G69570_colamp_a_m1     0.007115           90.0   \n",
       "2             MYB_tnt.MYB51_col_a_m1     0.007254          180.0   \n",
       "3   G2like_tnt.AT2G40260_colamp_a_m1     0.000189          102.0   \n",
       "4             TCP_tnt.TCP20_col_a_m1     0.004183           84.0   \n",
       "\n",
       "   mean_distance_bg  num_obs  num_obs_bg           pval  adjusted_pval    TF1  \\\n",
       "0              42.0   2210.0      2391.0  4.775539e-112  4.610205e-111  MYB51   \n",
       "1              36.0   3031.0      3746.0   8.689740e-66   2.099953e-65  MYB51   \n",
       "2             348.0   2100.0      2536.0   2.938162e-73   8.756532e-73  MYB51   \n",
       "3             300.0   2504.0      2330.0  1.226026e-153  4.591060e-152  MYB51   \n",
       "4             282.0   1021.0       931.0   2.010799e-39   2.654508e-39  MYB51   \n",
       "\n",
       "         TF2  \n",
       "0     WRKY31  \n",
       "1  AT1G69570  \n",
       "2      MYB51  \n",
       "3  AT2G40260  \n",
       "4      TCP20  "
      ]
     },
     "execution_count": 7,
     "metadata": {},
     "output_type": "execute_result"
    }
   ],
   "source": [
    "df.head()"
   ]
  },
  {
   "cell_type": "code",
   "execution_count": 8,
   "metadata": {},
   "outputs": [],
   "source": [
    "df['TF_Interaction'] = df.apply(lambda x: x['TF1']+r'$\\longleftrightarrow$'+x['TF2'], axis=1)"
   ]
  },
  {
   "cell_type": "markdown",
   "metadata": {},
   "source": [
    "### Drop same motif interactions"
   ]
  },
  {
   "cell_type": "code",
   "execution_count": 9,
   "metadata": {},
   "outputs": [],
   "source": [
    "df = df[df['TF1']!=df['TF2']]"
   ]
  },
  {
   "cell_type": "code",
   "execution_count": 10,
   "metadata": {},
   "outputs": [
    {
     "data": {
      "text/plain": [
       "(3667, 15)"
      ]
     },
     "execution_count": 10,
     "metadata": {},
     "output_type": "execute_result"
    }
   ],
   "source": [
    "df.shape"
   ]
  },
  {
   "cell_type": "code",
   "execution_count": 11,
   "metadata": {},
   "outputs": [],
   "source": [
    "df = df.reset_index(drop=True)"
   ]
  },
  {
   "cell_type": "markdown",
   "metadata": {},
   "source": [
    "### Fix redundant interaction pairs"
   ]
  },
  {
   "cell_type": "code",
   "execution_count": 12,
   "metadata": {},
   "outputs": [],
   "source": [
    "df = process_for_redundant_interactions(df, intr_type='TF')"
   ]
  },
  {
   "cell_type": "code",
   "execution_count": 13,
   "metadata": {},
   "outputs": [
    {
     "data": {
      "text/html": [
       "<div>\n",
       "<style scoped>\n",
       "    .dataframe tbody tr th:only-of-type {\n",
       "        vertical-align: middle;\n",
       "    }\n",
       "\n",
       "    .dataframe tbody tr th {\n",
       "        vertical-align: top;\n",
       "    }\n",
       "\n",
       "    .dataframe thead th {\n",
       "        text-align: right;\n",
       "    }\n",
       "</style>\n",
       "<table border=\"1\" class=\"dataframe\">\n",
       "  <thead>\n",
       "    <tr style=\"text-align: right;\">\n",
       "      <th></th>\n",
       "      <th>filter_interaction</th>\n",
       "      <th>example_no</th>\n",
       "      <th>motif1</th>\n",
       "      <th>motif1_qval</th>\n",
       "      <th>motif2</th>\n",
       "      <th>motif2_qval</th>\n",
       "      <th>mean_distance</th>\n",
       "      <th>mean_distance_bg</th>\n",
       "      <th>num_obs</th>\n",
       "      <th>num_obs_bg</th>\n",
       "      <th>pval</th>\n",
       "      <th>adjusted_pval</th>\n",
       "      <th>TF1</th>\n",
       "      <th>TF2</th>\n",
       "      <th>TF_Interaction</th>\n",
       "    </tr>\n",
       "  </thead>\n",
       "  <tbody>\n",
       "    <tr>\n",
       "      <td>0</td>\n",
       "      <td>filter1&lt;--&gt;filter3</td>\n",
       "      <td>200</td>\n",
       "      <td>MYB_tnt.MYB51_col_a_m1</td>\n",
       "      <td>0.003637</td>\n",
       "      <td>WRKY_tnt.WRKY31_col_a_m1</td>\n",
       "      <td>0.031988</td>\n",
       "      <td>36.0</td>\n",
       "      <td>42.0</td>\n",
       "      <td>2210.0</td>\n",
       "      <td>2391.0</td>\n",
       "      <td>4.775539e-112</td>\n",
       "      <td>4.610205e-111</td>\n",
       "      <td>MYB51</td>\n",
       "      <td>WRKY31</td>\n",
       "      <td>MYB51$\\longleftrightarrow$WRKY31</td>\n",
       "    </tr>\n",
       "    <tr>\n",
       "      <td>1</td>\n",
       "      <td>filter1&lt;--&gt;filter10</td>\n",
       "      <td>207</td>\n",
       "      <td>MYB_tnt.MYB51_col_a_m1</td>\n",
       "      <td>0.003637</td>\n",
       "      <td>C2C2dof_tnt.AT1G69570_colamp_a_m1</td>\n",
       "      <td>0.007115</td>\n",
       "      <td>90.0</td>\n",
       "      <td>36.0</td>\n",
       "      <td>3031.0</td>\n",
       "      <td>3746.0</td>\n",
       "      <td>8.689740e-66</td>\n",
       "      <td>2.099953e-65</td>\n",
       "      <td>MYB51</td>\n",
       "      <td>AT1G69570</td>\n",
       "      <td>MYB51$\\longleftrightarrow$AT1G69570</td>\n",
       "    </tr>\n",
       "    <tr>\n",
       "      <td>2</td>\n",
       "      <td>filter1&lt;--&gt;filter12</td>\n",
       "      <td>209</td>\n",
       "      <td>MYB_tnt.MYB51_col_a_m1</td>\n",
       "      <td>0.003637</td>\n",
       "      <td>G2like_tnt.AT2G40260_colamp_a_m1</td>\n",
       "      <td>0.000189</td>\n",
       "      <td>102.0</td>\n",
       "      <td>300.0</td>\n",
       "      <td>2504.0</td>\n",
       "      <td>2330.0</td>\n",
       "      <td>1.226026e-153</td>\n",
       "      <td>4.591060e-152</td>\n",
       "      <td>MYB51</td>\n",
       "      <td>AT2G40260</td>\n",
       "      <td>MYB51$\\longleftrightarrow$AT2G40260</td>\n",
       "    </tr>\n",
       "    <tr>\n",
       "      <td>3</td>\n",
       "      <td>filter1&lt;--&gt;filter13</td>\n",
       "      <td>210</td>\n",
       "      <td>MYB_tnt.MYB51_col_a_m1</td>\n",
       "      <td>0.003637</td>\n",
       "      <td>TCP_tnt.TCP20_col_a_m1</td>\n",
       "      <td>0.004183</td>\n",
       "      <td>84.0</td>\n",
       "      <td>282.0</td>\n",
       "      <td>1021.0</td>\n",
       "      <td>931.0</td>\n",
       "      <td>2.010799e-39</td>\n",
       "      <td>2.654508e-39</td>\n",
       "      <td>MYB51</td>\n",
       "      <td>TCP20</td>\n",
       "      <td>MYB51$\\longleftrightarrow$TCP20</td>\n",
       "    </tr>\n",
       "    <tr>\n",
       "      <td>4</td>\n",
       "      <td>filter1&lt;--&gt;filter14</td>\n",
       "      <td>211</td>\n",
       "      <td>MYB_tnt.MYB51_col_a_m1</td>\n",
       "      <td>0.003637</td>\n",
       "      <td>WRKY_tnt.WRKY31_col_a_m1</td>\n",
       "      <td>0.009697</td>\n",
       "      <td>204.0</td>\n",
       "      <td>24.0</td>\n",
       "      <td>1418.0</td>\n",
       "      <td>1539.0</td>\n",
       "      <td>1.441883e-72</td>\n",
       "      <td>4.209351e-72</td>\n",
       "      <td>MYB51</td>\n",
       "      <td>WRKY31</td>\n",
       "      <td>MYB51$\\longleftrightarrow$WRKY31</td>\n",
       "    </tr>\n",
       "  </tbody>\n",
       "</table>\n",
       "</div>"
      ],
      "text/plain": [
       "    filter_interaction  example_no                  motif1  motif1_qval  \\\n",
       "0   filter1<-->filter3         200  MYB_tnt.MYB51_col_a_m1     0.003637   \n",
       "1  filter1<-->filter10         207  MYB_tnt.MYB51_col_a_m1     0.003637   \n",
       "2  filter1<-->filter12         209  MYB_tnt.MYB51_col_a_m1     0.003637   \n",
       "3  filter1<-->filter13         210  MYB_tnt.MYB51_col_a_m1     0.003637   \n",
       "4  filter1<-->filter14         211  MYB_tnt.MYB51_col_a_m1     0.003637   \n",
       "\n",
       "                              motif2  motif2_qval  mean_distance  \\\n",
       "0           WRKY_tnt.WRKY31_col_a_m1     0.031988           36.0   \n",
       "1  C2C2dof_tnt.AT1G69570_colamp_a_m1     0.007115           90.0   \n",
       "2   G2like_tnt.AT2G40260_colamp_a_m1     0.000189          102.0   \n",
       "3             TCP_tnt.TCP20_col_a_m1     0.004183           84.0   \n",
       "4           WRKY_tnt.WRKY31_col_a_m1     0.009697          204.0   \n",
       "\n",
       "   mean_distance_bg  num_obs  num_obs_bg           pval  adjusted_pval    TF1  \\\n",
       "0              42.0   2210.0      2391.0  4.775539e-112  4.610205e-111  MYB51   \n",
       "1              36.0   3031.0      3746.0   8.689740e-66   2.099953e-65  MYB51   \n",
       "2             300.0   2504.0      2330.0  1.226026e-153  4.591060e-152  MYB51   \n",
       "3             282.0   1021.0       931.0   2.010799e-39   2.654508e-39  MYB51   \n",
       "4              24.0   1418.0      1539.0   1.441883e-72   4.209351e-72  MYB51   \n",
       "\n",
       "         TF2                       TF_Interaction  \n",
       "0     WRKY31     MYB51$\\longleftrightarrow$WRKY31  \n",
       "1  AT1G69570  MYB51$\\longleftrightarrow$AT1G69570  \n",
       "2  AT2G40260  MYB51$\\longleftrightarrow$AT2G40260  \n",
       "3      TCP20      MYB51$\\longleftrightarrow$TCP20  \n",
       "4     WRKY31     MYB51$\\longleftrightarrow$WRKY31  "
      ]
     },
     "execution_count": 13,
     "metadata": {},
     "output_type": "execute_result"
    }
   ],
   "source": [
    "df.head()"
   ]
  },
  {
   "cell_type": "code",
   "execution_count": 14,
   "metadata": {},
   "outputs": [
    {
     "data": {
      "text/plain": [
       "(3667, 15)"
      ]
     },
     "execution_count": 14,
     "metadata": {},
     "output_type": "execute_result"
    }
   ],
   "source": [
    "df.shape"
   ]
  },
  {
   "cell_type": "markdown",
   "metadata": {},
   "source": [
    "## Most Frequent TF Family Interactions"
   ]
  },
  {
   "cell_type": "code",
   "execution_count": 15,
   "metadata": {},
   "outputs": [],
   "source": [
    "df['TF1_Family'] = df['motif1'].apply(lambda x: x.split('_')[0])\n",
    "df['TF2_Family'] = df['motif2'].apply(lambda x: x.split('_')[0])"
   ]
  },
  {
   "cell_type": "code",
   "execution_count": 16,
   "metadata": {},
   "outputs": [],
   "source": [
    "df['Family_Interaction'] = df.apply(lambda x: x['TF1_Family']+r'$\\longleftrightarrow$'+x['TF2_Family'],axis=1)"
   ]
  },
  {
   "cell_type": "code",
   "execution_count": 17,
   "metadata": {},
   "outputs": [],
   "source": [
    "df = process_for_redundant_interactions(df, intr_type='Family')"
   ]
  },
  {
   "cell_type": "code",
   "execution_count": 18,
   "metadata": {},
   "outputs": [
    {
     "data": {
      "text/html": [
       "<div>\n",
       "<style scoped>\n",
       "    .dataframe tbody tr th:only-of-type {\n",
       "        vertical-align: middle;\n",
       "    }\n",
       "\n",
       "    .dataframe tbody tr th {\n",
       "        vertical-align: top;\n",
       "    }\n",
       "\n",
       "    .dataframe thead th {\n",
       "        text-align: right;\n",
       "    }\n",
       "</style>\n",
       "<table border=\"1\" class=\"dataframe\">\n",
       "  <thead>\n",
       "    <tr style=\"text-align: right;\">\n",
       "      <th></th>\n",
       "      <th>filter_interaction</th>\n",
       "      <th>example_no</th>\n",
       "      <th>motif1</th>\n",
       "      <th>motif1_qval</th>\n",
       "      <th>motif2</th>\n",
       "      <th>motif2_qval</th>\n",
       "      <th>mean_distance</th>\n",
       "      <th>mean_distance_bg</th>\n",
       "      <th>num_obs</th>\n",
       "      <th>num_obs_bg</th>\n",
       "      <th>pval</th>\n",
       "      <th>adjusted_pval</th>\n",
       "      <th>TF1</th>\n",
       "      <th>TF2</th>\n",
       "      <th>TF_Interaction</th>\n",
       "      <th>TF1_Family</th>\n",
       "      <th>TF2_Family</th>\n",
       "      <th>Family_Interaction</th>\n",
       "    </tr>\n",
       "  </thead>\n",
       "  <tbody>\n",
       "    <tr>\n",
       "      <td>0</td>\n",
       "      <td>filter1&lt;--&gt;filter3</td>\n",
       "      <td>200</td>\n",
       "      <td>MYB_tnt.MYB51_col_a_m1</td>\n",
       "      <td>0.003637</td>\n",
       "      <td>WRKY_tnt.WRKY31_col_a_m1</td>\n",
       "      <td>0.031988</td>\n",
       "      <td>36.0</td>\n",
       "      <td>42.0</td>\n",
       "      <td>2210.0</td>\n",
       "      <td>2391.0</td>\n",
       "      <td>4.775539e-112</td>\n",
       "      <td>4.610205e-111</td>\n",
       "      <td>MYB51</td>\n",
       "      <td>WRKY31</td>\n",
       "      <td>MYB51$\\longleftrightarrow$WRKY31</td>\n",
       "      <td>MYB</td>\n",
       "      <td>WRKY</td>\n",
       "      <td>MYB$\\longleftrightarrow$WRKY</td>\n",
       "    </tr>\n",
       "    <tr>\n",
       "      <td>1</td>\n",
       "      <td>filter1&lt;--&gt;filter10</td>\n",
       "      <td>207</td>\n",
       "      <td>MYB_tnt.MYB51_col_a_m1</td>\n",
       "      <td>0.003637</td>\n",
       "      <td>C2C2dof_tnt.AT1G69570_colamp_a_m1</td>\n",
       "      <td>0.007115</td>\n",
       "      <td>90.0</td>\n",
       "      <td>36.0</td>\n",
       "      <td>3031.0</td>\n",
       "      <td>3746.0</td>\n",
       "      <td>8.689740e-66</td>\n",
       "      <td>2.099953e-65</td>\n",
       "      <td>MYB51</td>\n",
       "      <td>AT1G69570</td>\n",
       "      <td>MYB51$\\longleftrightarrow$AT1G69570</td>\n",
       "      <td>MYB</td>\n",
       "      <td>C2C2dof</td>\n",
       "      <td>MYB$\\longleftrightarrow$C2C2dof</td>\n",
       "    </tr>\n",
       "    <tr>\n",
       "      <td>2</td>\n",
       "      <td>filter1&lt;--&gt;filter12</td>\n",
       "      <td>209</td>\n",
       "      <td>MYB_tnt.MYB51_col_a_m1</td>\n",
       "      <td>0.003637</td>\n",
       "      <td>G2like_tnt.AT2G40260_colamp_a_m1</td>\n",
       "      <td>0.000189</td>\n",
       "      <td>102.0</td>\n",
       "      <td>300.0</td>\n",
       "      <td>2504.0</td>\n",
       "      <td>2330.0</td>\n",
       "      <td>1.226026e-153</td>\n",
       "      <td>4.591060e-152</td>\n",
       "      <td>MYB51</td>\n",
       "      <td>AT2G40260</td>\n",
       "      <td>MYB51$\\longleftrightarrow$AT2G40260</td>\n",
       "      <td>MYB</td>\n",
       "      <td>G2like</td>\n",
       "      <td>MYB$\\longleftrightarrow$G2like</td>\n",
       "    </tr>\n",
       "    <tr>\n",
       "      <td>3</td>\n",
       "      <td>filter1&lt;--&gt;filter13</td>\n",
       "      <td>210</td>\n",
       "      <td>MYB_tnt.MYB51_col_a_m1</td>\n",
       "      <td>0.003637</td>\n",
       "      <td>TCP_tnt.TCP20_col_a_m1</td>\n",
       "      <td>0.004183</td>\n",
       "      <td>84.0</td>\n",
       "      <td>282.0</td>\n",
       "      <td>1021.0</td>\n",
       "      <td>931.0</td>\n",
       "      <td>2.010799e-39</td>\n",
       "      <td>2.654508e-39</td>\n",
       "      <td>MYB51</td>\n",
       "      <td>TCP20</td>\n",
       "      <td>MYB51$\\longleftrightarrow$TCP20</td>\n",
       "      <td>MYB</td>\n",
       "      <td>TCP</td>\n",
       "      <td>MYB$\\longleftrightarrow$TCP</td>\n",
       "    </tr>\n",
       "    <tr>\n",
       "      <td>4</td>\n",
       "      <td>filter1&lt;--&gt;filter14</td>\n",
       "      <td>211</td>\n",
       "      <td>MYB_tnt.MYB51_col_a_m1</td>\n",
       "      <td>0.003637</td>\n",
       "      <td>WRKY_tnt.WRKY31_col_a_m1</td>\n",
       "      <td>0.009697</td>\n",
       "      <td>204.0</td>\n",
       "      <td>24.0</td>\n",
       "      <td>1418.0</td>\n",
       "      <td>1539.0</td>\n",
       "      <td>1.441883e-72</td>\n",
       "      <td>4.209351e-72</td>\n",
       "      <td>MYB51</td>\n",
       "      <td>WRKY31</td>\n",
       "      <td>MYB51$\\longleftrightarrow$WRKY31</td>\n",
       "      <td>MYB</td>\n",
       "      <td>WRKY</td>\n",
       "      <td>MYB$\\longleftrightarrow$WRKY</td>\n",
       "    </tr>\n",
       "  </tbody>\n",
       "</table>\n",
       "</div>"
      ],
      "text/plain": [
       "    filter_interaction  example_no                  motif1  motif1_qval  \\\n",
       "0   filter1<-->filter3         200  MYB_tnt.MYB51_col_a_m1     0.003637   \n",
       "1  filter1<-->filter10         207  MYB_tnt.MYB51_col_a_m1     0.003637   \n",
       "2  filter1<-->filter12         209  MYB_tnt.MYB51_col_a_m1     0.003637   \n",
       "3  filter1<-->filter13         210  MYB_tnt.MYB51_col_a_m1     0.003637   \n",
       "4  filter1<-->filter14         211  MYB_tnt.MYB51_col_a_m1     0.003637   \n",
       "\n",
       "                              motif2  motif2_qval  mean_distance  \\\n",
       "0           WRKY_tnt.WRKY31_col_a_m1     0.031988           36.0   \n",
       "1  C2C2dof_tnt.AT1G69570_colamp_a_m1     0.007115           90.0   \n",
       "2   G2like_tnt.AT2G40260_colamp_a_m1     0.000189          102.0   \n",
       "3             TCP_tnt.TCP20_col_a_m1     0.004183           84.0   \n",
       "4           WRKY_tnt.WRKY31_col_a_m1     0.009697          204.0   \n",
       "\n",
       "   mean_distance_bg  num_obs  num_obs_bg           pval  adjusted_pval    TF1  \\\n",
       "0              42.0   2210.0      2391.0  4.775539e-112  4.610205e-111  MYB51   \n",
       "1              36.0   3031.0      3746.0   8.689740e-66   2.099953e-65  MYB51   \n",
       "2             300.0   2504.0      2330.0  1.226026e-153  4.591060e-152  MYB51   \n",
       "3             282.0   1021.0       931.0   2.010799e-39   2.654508e-39  MYB51   \n",
       "4              24.0   1418.0      1539.0   1.441883e-72   4.209351e-72  MYB51   \n",
       "\n",
       "         TF2                       TF_Interaction TF1_Family TF2_Family  \\\n",
       "0     WRKY31     MYB51$\\longleftrightarrow$WRKY31        MYB       WRKY   \n",
       "1  AT1G69570  MYB51$\\longleftrightarrow$AT1G69570        MYB    C2C2dof   \n",
       "2  AT2G40260  MYB51$\\longleftrightarrow$AT2G40260        MYB     G2like   \n",
       "3      TCP20      MYB51$\\longleftrightarrow$TCP20        MYB        TCP   \n",
       "4     WRKY31     MYB51$\\longleftrightarrow$WRKY31        MYB       WRKY   \n",
       "\n",
       "                Family_Interaction  \n",
       "0     MYB$\\longleftrightarrow$WRKY  \n",
       "1  MYB$\\longleftrightarrow$C2C2dof  \n",
       "2   MYB$\\longleftrightarrow$G2like  \n",
       "3      MYB$\\longleftrightarrow$TCP  \n",
       "4     MYB$\\longleftrightarrow$WRKY  "
      ]
     },
     "execution_count": 18,
     "metadata": {},
     "output_type": "execute_result"
    }
   ],
   "source": [
    "df.head()"
   ]
  },
  {
   "cell_type": "markdown",
   "metadata": {},
   "source": [
    "### Distribution of individual TF or TF family interactions"
   ]
  },
  {
   "cell_type": "code",
   "execution_count": 19,
   "metadata": {
    "scrolled": false
   },
   "outputs": [
    {
     "data": {
      "image/png": "[encoded data removed]",
      "text/plain": [
       "<Figure size 1296x432 with 1 Axes>"
      ]
     },
     "metadata": {
      "needs_background": "light"
     },
     "output_type": "display_data"
    }
   ],
   "source": [
    "plot_frequent_interactions(df, intr_level='Family_Interaction', first_n=15)"
   ]
  },
  {
   "cell_type": "markdown",
   "metadata": {},
   "source": [
    "### Plot interaction distance distribution"
   ]
  },
  {
   "cell_type": "code",
   "execution_count": 20,
   "metadata": {
    "scrolled": false
   },
   "outputs": [
    {
     "data": {
      "image/png": "[encoded data removed]",
      "text/plain": [
       "<Figure size 576x432 with 1 Axes>"
      ]
     },
     "metadata": {
      "needs_background": "light"
     },
     "output_type": "display_data"
    }
   ],
   "source": [
    "plot_interaction_distance_distribution(df, nbins=50, fig_size=(8,6))"
   ]
  },
  {
   "cell_type": "code",
   "execution_count": 21,
   "metadata": {},
   "outputs": [
    {
     "data": {
      "text/plain": [
       "(145.37114807744751, 126.0)"
      ]
     },
     "execution_count": 21,
     "metadata": {},
     "output_type": "execute_result"
    }
   ],
   "source": [
    "df['mean_distance'].mean(), df['mean_distance'].median()"
   ]
  },
  {
   "cell_type": "markdown",
   "metadata": {},
   "source": [
    "### Most frequent interactions and their respective interaction distances"
   ]
  },
  {
   "cell_type": "code",
   "execution_count": 22,
   "metadata": {},
   "outputs": [
    {
     "data": {
      "image/png": "[encoded data removed]",
      "text/plain": [
       "<Figure size 1296x360 with 2 Axes>"
      ]
     },
     "metadata": {
      "needs_background": "light"
     },
     "output_type": "display_data"
    }
   ],
   "source": [
    "plot_interactions_and_distances_boxplot(df, first_n=15, sort_distances=False, add_sub_caption=True, show_mean_dist=True, dist_color='slateblue', cap_pos=[0.5, -0.89])"
   ]
  },
  {
   "cell_type": "code",
   "execution_count": 23,
   "metadata": {},
   "outputs": [
    {
     "data": {
      "image/png": "[encoded data removed]",
      "text/plain": [
       "<Figure size 1296x360 with 2 Axes>"
      ]
     },
     "metadata": {
      "needs_background": "light"
     },
     "output_type": "display_data"
    }
   ],
   "source": [
    "plot_interactions_and_distances_histogram(df, first_n=15, dist_nbins=25, add_sub_caption=True, show_mean_dist=True, dist_colors=['slateblue', 'darkkhaki'], cap_pos=[0.5, -0.89])"
   ]
  },
  {
   "cell_type": "code",
   "execution_count": null,
   "metadata": {},
   "outputs": [],
   "source": []
  }
 ],
 "metadata": {
  "kernelspec": {
   "display_name": "Python 3",
   "language": "python",
   "name": "python3"
  },
  "language_info": {
   "codemirror_mode": {
    "name": "ipython",
    "version": 3
   },
   "file_extension": ".py",
   "mimetype": "text/x-python",
   "name": "python",
   "nbconvert_exporter": "python",
   "pygments_lexer": "ipython3",
   "version": "3.7.3"
  }
 },
 "nbformat": 4,
 "nbformat_minor": 2
}
