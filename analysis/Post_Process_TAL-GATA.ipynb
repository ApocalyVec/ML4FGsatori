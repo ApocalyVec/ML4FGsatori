{
 "cells": [
  {
   "cell_type": "markdown",
   "metadata": {},
   "source": [
    "## Imports"
   ]
  },
  {
   "cell_type": "code",
   "execution_count": 1,
   "metadata": {},
   "outputs": [],
   "source": [
    "import pandas as pd\n",
    "import sys\n",
    "\n",
    "sys.path.insert(0,'../satori')\n",
    "\n",
    "from satori.postprocess import *"
   ]
  },
  {
   "cell_type": "markdown",
   "metadata": {},
   "source": [
    "## Interaction data processing"
   ]
  },
  {
   "cell_type": "code",
   "execution_count": 2,
   "metadata": {},
   "outputs": [],
   "source": [
    "# For SATORI based interactions\n",
    "df = pd.read_csv('../results/TAL-GATA_binaryFeat_Analysis_allTFs_euclidean_v8_from_customTFs/Interactions_SATORI/interactions_summary_attnLimit-0.08.txt',sep='\\t')\n",
    "\n",
    "# For FIS based interactions\n",
    "#df = pd.read_csv('../results/TAL-GATA_binaryFeat_Analysis_allTFs_euclidean_v8_from_customTFs/Interactions_FIS/interactions_summary_attnLimit-0.3.txt',sep='\\t')"
   ]
  },
  {
   "cell_type": "markdown",
   "metadata": {},
   "source": [
    "### Filter based on interaction and motif hit p-values, and keep the most significant interactions"
   ]
  },
  {
   "cell_type": "code",
   "execution_count": 3,
   "metadata": {},
   "outputs": [],
   "source": [
    "df = filter_data_on_thresholds(df, motifA_pval_cutoff=0.05, motifB_pval_cutoff=0.05)"
   ]
  },
  {
   "cell_type": "code",
   "execution_count": 4,
   "metadata": {},
   "outputs": [
    {
     "data": {
      "text/plain": [
       "(367, 12)"
      ]
     },
     "execution_count": 4,
     "metadata": {},
     "output_type": "execute_result"
    }
   ],
   "source": [
    "df.shape"
   ]
  },
  {
   "cell_type": "markdown",
   "metadata": {},
   "source": [
    "### Load the motif description file to annotate the interactions. \n",
    "Here we use CISBP (U toronto) motif description file. "
   ]
  },
  {
   "cell_type": "code",
   "execution_count": 5,
   "metadata": {},
   "outputs": [],
   "source": [
    "df_annotate = pd.read_csv('../../../Basset_Splicing_IR-iDiffIR/Analysis_For_none_network-typeB_lotus_posThresh-0.60/MEME_analysis/Homo_sapiens_2019_01_14_4_17_pm/TF_Information_all_motifs.txt',sep='\\t')"
   ]
  },
  {
   "cell_type": "code",
   "execution_count": 6,
   "metadata": {},
   "outputs": [
    {
     "data": {
      "text/html": [
       "<div>\n",
       "<style scoped>\n",
       "    .dataframe tbody tr th:only-of-type {\n",
       "        vertical-align: middle;\n",
       "    }\n",
       "\n",
       "    .dataframe tbody tr th {\n",
       "        vertical-align: top;\n",
       "    }\n",
       "\n",
       "    .dataframe thead th {\n",
       "        text-align: right;\n",
       "    }\n",
       "</style>\n",
       "<table border=\"1\" class=\"dataframe\">\n",
       "  <thead>\n",
       "    <tr style=\"text-align: right;\">\n",
       "      <th></th>\n",
       "      <th>TF_ID</th>\n",
       "      <th>Family_ID</th>\n",
       "      <th>TSource_ID</th>\n",
       "      <th>Motif_ID</th>\n",
       "      <th>MSource_ID</th>\n",
       "      <th>DBID</th>\n",
       "      <th>TF_Name</th>\n",
       "      <th>TF_Species</th>\n",
       "      <th>TF_Status</th>\n",
       "      <th>Family_Name</th>\n",
       "      <th>...</th>\n",
       "      <th>MSource_Type</th>\n",
       "      <th>MSource_Author</th>\n",
       "      <th>MSource_Year</th>\n",
       "      <th>PMID</th>\n",
       "      <th>MSource_Version</th>\n",
       "      <th>TfSource_Name</th>\n",
       "      <th>TfSource_URL</th>\n",
       "      <th>TfSource_Year</th>\n",
       "      <th>TfSource_Month</th>\n",
       "      <th>TfSource_Day</th>\n",
       "    </tr>\n",
       "  </thead>\n",
       "  <tbody>\n",
       "    <tr>\n",
       "      <td>0</td>\n",
       "      <td>T004843_1.02</td>\n",
       "      <td>F035_1.02</td>\n",
       "      <td>TS19_1.02</td>\n",
       "      <td>M2938_1.02</td>\n",
       "      <td>MS26_1.02</td>\n",
       "      <td>ENSG00000008196</td>\n",
       "      <td>TFAP2B</td>\n",
       "      <td>Homo_sapiens</td>\n",
       "      <td>D</td>\n",
       "      <td>AP-2</td>\n",
       "      <td>...</td>\n",
       "      <td>Transfac</td>\n",
       "      <td>Matys</td>\n",
       "      <td>2006</td>\n",
       "      <td>16381825</td>\n",
       "      <td>2014.2</td>\n",
       "      <td>Ensembl</td>\n",
       "      <td>http://www.ensembl.org/</td>\n",
       "      <td>2011</td>\n",
       "      <td>Oct</td>\n",
       "      <td>26</td>\n",
       "    </tr>\n",
       "    <tr>\n",
       "      <td>1</td>\n",
       "      <td>T004843_1.02</td>\n",
       "      <td>F035_1.02</td>\n",
       "      <td>TS19_1.02</td>\n",
       "      <td>M5917_1.02</td>\n",
       "      <td>MS20_1.02</td>\n",
       "      <td>ENSG00000008196</td>\n",
       "      <td>TFAP2B</td>\n",
       "      <td>Homo_sapiens</td>\n",
       "      <td>D</td>\n",
       "      <td>AP-2</td>\n",
       "      <td>...</td>\n",
       "      <td>SELEX</td>\n",
       "      <td>Jolma</td>\n",
       "      <td>2013</td>\n",
       "      <td>23332764</td>\n",
       "      <td>January 2013</td>\n",
       "      <td>Ensembl</td>\n",
       "      <td>http://www.ensembl.org/</td>\n",
       "      <td>2011</td>\n",
       "      <td>Oct</td>\n",
       "      <td>26</td>\n",
       "    </tr>\n",
       "    <tr>\n",
       "      <td>2</td>\n",
       "      <td>T004843_1.02</td>\n",
       "      <td>F035_1.02</td>\n",
       "      <td>TS19_1.02</td>\n",
       "      <td>M5918_1.02</td>\n",
       "      <td>MS20_1.02</td>\n",
       "      <td>ENSG00000008196</td>\n",
       "      <td>TFAP2B</td>\n",
       "      <td>Homo_sapiens</td>\n",
       "      <td>D</td>\n",
       "      <td>AP-2</td>\n",
       "      <td>...</td>\n",
       "      <td>SELEX</td>\n",
       "      <td>Jolma</td>\n",
       "      <td>2013</td>\n",
       "      <td>23332764</td>\n",
       "      <td>January 2013</td>\n",
       "      <td>Ensembl</td>\n",
       "      <td>http://www.ensembl.org/</td>\n",
       "      <td>2011</td>\n",
       "      <td>Oct</td>\n",
       "      <td>26</td>\n",
       "    </tr>\n",
       "    <tr>\n",
       "      <td>3</td>\n",
       "      <td>T004843_1.02</td>\n",
       "      <td>F035_1.02</td>\n",
       "      <td>TS19_1.02</td>\n",
       "      <td>M5919_1.02</td>\n",
       "      <td>MS20_1.02</td>\n",
       "      <td>ENSG00000008196</td>\n",
       "      <td>TFAP2B</td>\n",
       "      <td>Homo_sapiens</td>\n",
       "      <td>D</td>\n",
       "      <td>AP-2</td>\n",
       "      <td>...</td>\n",
       "      <td>SELEX</td>\n",
       "      <td>Jolma</td>\n",
       "      <td>2013</td>\n",
       "      <td>23332764</td>\n",
       "      <td>January 2013</td>\n",
       "      <td>Ensembl</td>\n",
       "      <td>http://www.ensembl.org/</td>\n",
       "      <td>2011</td>\n",
       "      <td>Oct</td>\n",
       "      <td>26</td>\n",
       "    </tr>\n",
       "    <tr>\n",
       "      <td>4</td>\n",
       "      <td>T004843_1.02</td>\n",
       "      <td>F035_1.02</td>\n",
       "      <td>TS19_1.02</td>\n",
       "      <td>M6144_1.02</td>\n",
       "      <td>MS18_1.02</td>\n",
       "      <td>ENSG00000008196</td>\n",
       "      <td>TFAP2B</td>\n",
       "      <td>Homo_sapiens</td>\n",
       "      <td>D</td>\n",
       "      <td>AP-2</td>\n",
       "      <td>...</td>\n",
       "      <td>HocoMoco</td>\n",
       "      <td>Kulakovskiy</td>\n",
       "      <td>2013</td>\n",
       "      <td>23175603</td>\n",
       "      <td>July 2014</td>\n",
       "      <td>Ensembl</td>\n",
       "      <td>http://www.ensembl.org/</td>\n",
       "      <td>2011</td>\n",
       "      <td>Oct</td>\n",
       "      <td>26</td>\n",
       "    </tr>\n",
       "  </tbody>\n",
       "</table>\n",
       "<p>5 rows × 26 columns</p>\n",
       "</div>"
      ],
      "text/plain": [
       "          TF_ID  Family_ID TSource_ID    Motif_ID MSource_ID             DBID  \\\n",
       "0  T004843_1.02  F035_1.02  TS19_1.02  M2938_1.02  MS26_1.02  ENSG00000008196   \n",
       "1  T004843_1.02  F035_1.02  TS19_1.02  M5917_1.02  MS20_1.02  ENSG00000008196   \n",
       "2  T004843_1.02  F035_1.02  TS19_1.02  M5918_1.02  MS20_1.02  ENSG00000008196   \n",
       "3  T004843_1.02  F035_1.02  TS19_1.02  M5919_1.02  MS20_1.02  ENSG00000008196   \n",
       "4  T004843_1.02  F035_1.02  TS19_1.02  M6144_1.02  MS18_1.02  ENSG00000008196   \n",
       "\n",
       "  TF_Name    TF_Species TF_Status Family_Name  ... MSource_Type  \\\n",
       "0  TFAP2B  Homo_sapiens         D        AP-2  ...     Transfac   \n",
       "1  TFAP2B  Homo_sapiens         D        AP-2  ...        SELEX   \n",
       "2  TFAP2B  Homo_sapiens         D        AP-2  ...        SELEX   \n",
       "3  TFAP2B  Homo_sapiens         D        AP-2  ...        SELEX   \n",
       "4  TFAP2B  Homo_sapiens         D        AP-2  ...     HocoMoco   \n",
       "\n",
       "   MSource_Author  MSource_Year      PMID MSource_Version TfSource_Name  \\\n",
       "0           Matys          2006  16381825          2014.2       Ensembl   \n",
       "1           Jolma          2013  23332764    January 2013       Ensembl   \n",
       "2           Jolma          2013  23332764    January 2013       Ensembl   \n",
       "3           Jolma          2013  23332764    January 2013       Ensembl   \n",
       "4     Kulakovskiy          2013  23175603       July 2014       Ensembl   \n",
       "\n",
       "              TfSource_URL TfSource_Year TfSource_Month TfSource_Day  \n",
       "0  http://www.ensembl.org/          2011            Oct           26  \n",
       "1  http://www.ensembl.org/          2011            Oct           26  \n",
       "2  http://www.ensembl.org/          2011            Oct           26  \n",
       "3  http://www.ensembl.org/          2011            Oct           26  \n",
       "4  http://www.ensembl.org/          2011            Oct           26  \n",
       "\n",
       "[5 rows x 26 columns]"
      ]
     },
     "execution_count": 6,
     "metadata": {},
     "output_type": "execute_result"
    }
   ],
   "source": [
    "df_annotate.head()"
   ]
  },
  {
   "cell_type": "markdown",
   "metadata": {},
   "source": [
    "### Annotate the interacting motifs"
   ]
  },
  {
   "cell_type": "code",
   "execution_count": 7,
   "metadata": {},
   "outputs": [],
   "source": [
    "df['TF1'] = df['motif1'].apply(get_annotation, annotation_data = df_annotate, single_TF=True)\n",
    "df['TF2'] = df['motif2'].apply(get_annotation, annotation_data = df_annotate, single_TF=True)"
   ]
  },
  {
   "cell_type": "code",
   "execution_count": 8,
   "metadata": {
    "scrolled": true
   },
   "outputs": [
    {
     "data": {
      "text/html": [
       "<div>\n",
       "<style scoped>\n",
       "    .dataframe tbody tr th:only-of-type {\n",
       "        vertical-align: middle;\n",
       "    }\n",
       "\n",
       "    .dataframe tbody tr th {\n",
       "        vertical-align: top;\n",
       "    }\n",
       "\n",
       "    .dataframe thead th {\n",
       "        text-align: right;\n",
       "    }\n",
       "</style>\n",
       "<table border=\"1\" class=\"dataframe\">\n",
       "  <thead>\n",
       "    <tr style=\"text-align: right;\">\n",
       "      <th></th>\n",
       "      <th>filter_interaction</th>\n",
       "      <th>example_no</th>\n",
       "      <th>motif1</th>\n",
       "      <th>motif1_qval</th>\n",
       "      <th>motif2</th>\n",
       "      <th>motif2_qval</th>\n",
       "      <th>mean_distance</th>\n",
       "      <th>mean_distance_bg</th>\n",
       "      <th>num_obs</th>\n",
       "      <th>num_obs_bg</th>\n",
       "      <th>pval</th>\n",
       "      <th>adjusted_pval</th>\n",
       "      <th>TF1</th>\n",
       "      <th>TF2</th>\n",
       "    </tr>\n",
       "  </thead>\n",
       "  <tbody>\n",
       "    <tr>\n",
       "      <td>2</td>\n",
       "      <td>filter1&lt;--&gt;filter10</td>\n",
       "      <td>207</td>\n",
       "      <td>M0942_1.02</td>\n",
       "      <td>0.00523</td>\n",
       "      <td>M0994_1.02</td>\n",
       "      <td>0.003152</td>\n",
       "      <td>354.0</td>\n",
       "      <td>234.0</td>\n",
       "      <td>447.0</td>\n",
       "      <td>851.0</td>\n",
       "      <td>1.110898e-10</td>\n",
       "      <td>2.904831e-09</td>\n",
       "      <td>IRX4</td>\n",
       "      <td>SIX4</td>\n",
       "    </tr>\n",
       "    <tr>\n",
       "      <td>7</td>\n",
       "      <td>filter1&lt;--&gt;filter27</td>\n",
       "      <td>224</td>\n",
       "      <td>M0942_1.02</td>\n",
       "      <td>0.00523</td>\n",
       "      <td>M0942_1.02</td>\n",
       "      <td>0.016819</td>\n",
       "      <td>66.0</td>\n",
       "      <td>30.0</td>\n",
       "      <td>267.0</td>\n",
       "      <td>1349.0</td>\n",
       "      <td>2.217727e-04</td>\n",
       "      <td>2.245830e-03</td>\n",
       "      <td>IRX4</td>\n",
       "      <td>IRX4</td>\n",
       "    </tr>\n",
       "    <tr>\n",
       "      <td>19</td>\n",
       "      <td>filter1&lt;--&gt;filter61</td>\n",
       "      <td>258</td>\n",
       "      <td>M0942_1.02</td>\n",
       "      <td>0.00523</td>\n",
       "      <td>M4850_1.02</td>\n",
       "      <td>0.003998</td>\n",
       "      <td>282.0</td>\n",
       "      <td>216.0</td>\n",
       "      <td>541.0</td>\n",
       "      <td>1503.0</td>\n",
       "      <td>2.020271e-03</td>\n",
       "      <td>1.621677e-02</td>\n",
       "      <td>IRX4</td>\n",
       "      <td>TCF15</td>\n",
       "    </tr>\n",
       "    <tr>\n",
       "      <td>20</td>\n",
       "      <td>filter1&lt;--&gt;filter62</td>\n",
       "      <td>259</td>\n",
       "      <td>M0942_1.02</td>\n",
       "      <td>0.00523</td>\n",
       "      <td>M0199_1.02</td>\n",
       "      <td>0.007158</td>\n",
       "      <td>594.0</td>\n",
       "      <td>504.0</td>\n",
       "      <td>959.0</td>\n",
       "      <td>1998.0</td>\n",
       "      <td>3.818656e-03</td>\n",
       "      <td>2.869578e-02</td>\n",
       "      <td>IRX4</td>\n",
       "      <td>HES2</td>\n",
       "    </tr>\n",
       "    <tr>\n",
       "      <td>25</td>\n",
       "      <td>filter1&lt;--&gt;filter78</td>\n",
       "      <td>275</td>\n",
       "      <td>M0942_1.02</td>\n",
       "      <td>0.00523</td>\n",
       "      <td>M0408_1.02</td>\n",
       "      <td>0.003965</td>\n",
       "      <td>246.0</td>\n",
       "      <td>216.0</td>\n",
       "      <td>657.0</td>\n",
       "      <td>1306.0</td>\n",
       "      <td>5.760708e-04</td>\n",
       "      <td>5.263192e-03</td>\n",
       "      <td>IRX4</td>\n",
       "      <td>ZKSCAN1</td>\n",
       "    </tr>\n",
       "  </tbody>\n",
       "</table>\n",
       "</div>"
      ],
      "text/plain": [
       "     filter_interaction  example_no      motif1  motif1_qval      motif2  \\\n",
       "2   filter1<-->filter10         207  M0942_1.02      0.00523  M0994_1.02   \n",
       "7   filter1<-->filter27         224  M0942_1.02      0.00523  M0942_1.02   \n",
       "19  filter1<-->filter61         258  M0942_1.02      0.00523  M4850_1.02   \n",
       "20  filter1<-->filter62         259  M0942_1.02      0.00523  M0199_1.02   \n",
       "25  filter1<-->filter78         275  M0942_1.02      0.00523  M0408_1.02   \n",
       "\n",
       "    motif2_qval  mean_distance  mean_distance_bg  num_obs  num_obs_bg  \\\n",
       "2      0.003152          354.0             234.0    447.0       851.0   \n",
       "7      0.016819           66.0              30.0    267.0      1349.0   \n",
       "19     0.003998          282.0             216.0    541.0      1503.0   \n",
       "20     0.007158          594.0             504.0    959.0      1998.0   \n",
       "25     0.003965          246.0             216.0    657.0      1306.0   \n",
       "\n",
       "            pval  adjusted_pval   TF1      TF2  \n",
       "2   1.110898e-10   2.904831e-09  IRX4     SIX4  \n",
       "7   2.217727e-04   2.245830e-03  IRX4     IRX4  \n",
       "19  2.020271e-03   1.621677e-02  IRX4    TCF15  \n",
       "20  3.818656e-03   2.869578e-02  IRX4     HES2  \n",
       "25  5.760708e-04   5.263192e-03  IRX4  ZKSCAN1  "
      ]
     },
     "execution_count": 8,
     "metadata": {},
     "output_type": "execute_result"
    }
   ],
   "source": [
    "df.head()"
   ]
  },
  {
   "cell_type": "code",
   "execution_count": 9,
   "metadata": {},
   "outputs": [],
   "source": [
    "df['TF_Interaction'] = df.apply(lambda x: x['TF1']+r'$\\longleftrightarrow$'+x['TF2'], axis=1)"
   ]
  },
  {
   "cell_type": "markdown",
   "metadata": {},
   "source": [
    "### Drop same motif interactions"
   ]
  },
  {
   "cell_type": "code",
   "execution_count": 10,
   "metadata": {},
   "outputs": [],
   "source": [
    "df = df[df['TF1']!=df['TF2']]"
   ]
  },
  {
   "cell_type": "code",
   "execution_count": 11,
   "metadata": {},
   "outputs": [
    {
     "data": {
      "text/plain": [
       "(359, 15)"
      ]
     },
     "execution_count": 11,
     "metadata": {},
     "output_type": "execute_result"
    }
   ],
   "source": [
    "df.shape"
   ]
  },
  {
   "cell_type": "code",
   "execution_count": 12,
   "metadata": {},
   "outputs": [],
   "source": [
    "df = df.reset_index(drop=True)"
   ]
  },
  {
   "cell_type": "markdown",
   "metadata": {},
   "source": [
    "### Fix redundant interaction pairs"
   ]
  },
  {
   "cell_type": "code",
   "execution_count": 13,
   "metadata": {},
   "outputs": [],
   "source": [
    "df = process_for_redundant_interactions(df, intr_type='TF')"
   ]
  },
  {
   "cell_type": "code",
   "execution_count": 14,
   "metadata": {},
   "outputs": [
    {
     "data": {
      "text/html": [
       "<div>\n",
       "<style scoped>\n",
       "    .dataframe tbody tr th:only-of-type {\n",
       "        vertical-align: middle;\n",
       "    }\n",
       "\n",
       "    .dataframe tbody tr th {\n",
       "        vertical-align: top;\n",
       "    }\n",
       "\n",
       "    .dataframe thead th {\n",
       "        text-align: right;\n",
       "    }\n",
       "</style>\n",
       "<table border=\"1\" class=\"dataframe\">\n",
       "  <thead>\n",
       "    <tr style=\"text-align: right;\">\n",
       "      <th></th>\n",
       "      <th>filter_interaction</th>\n",
       "      <th>example_no</th>\n",
       "      <th>motif1</th>\n",
       "      <th>motif1_qval</th>\n",
       "      <th>motif2</th>\n",
       "      <th>motif2_qval</th>\n",
       "      <th>mean_distance</th>\n",
       "      <th>mean_distance_bg</th>\n",
       "      <th>num_obs</th>\n",
       "      <th>num_obs_bg</th>\n",
       "      <th>pval</th>\n",
       "      <th>adjusted_pval</th>\n",
       "      <th>TF1</th>\n",
       "      <th>TF2</th>\n",
       "      <th>TF_Interaction</th>\n",
       "    </tr>\n",
       "  </thead>\n",
       "  <tbody>\n",
       "    <tr>\n",
       "      <td>0</td>\n",
       "      <td>filter1&lt;--&gt;filter10</td>\n",
       "      <td>207</td>\n",
       "      <td>M0942_1.02</td>\n",
       "      <td>0.00523</td>\n",
       "      <td>M0994_1.02</td>\n",
       "      <td>0.003152</td>\n",
       "      <td>354.0</td>\n",
       "      <td>234.0</td>\n",
       "      <td>447.0</td>\n",
       "      <td>851.0</td>\n",
       "      <td>1.110898e-10</td>\n",
       "      <td>2.904831e-09</td>\n",
       "      <td>IRX4</td>\n",
       "      <td>SIX4</td>\n",
       "      <td>IRX4$\\longleftrightarrow$SIX4</td>\n",
       "    </tr>\n",
       "    <tr>\n",
       "      <td>1</td>\n",
       "      <td>filter1&lt;--&gt;filter61</td>\n",
       "      <td>258</td>\n",
       "      <td>M0942_1.02</td>\n",
       "      <td>0.00523</td>\n",
       "      <td>M4850_1.02</td>\n",
       "      <td>0.003998</td>\n",
       "      <td>282.0</td>\n",
       "      <td>216.0</td>\n",
       "      <td>541.0</td>\n",
       "      <td>1503.0</td>\n",
       "      <td>2.020271e-03</td>\n",
       "      <td>1.621677e-02</td>\n",
       "      <td>IRX4</td>\n",
       "      <td>TCF15</td>\n",
       "      <td>IRX4$\\longleftrightarrow$TCF15</td>\n",
       "    </tr>\n",
       "    <tr>\n",
       "      <td>2</td>\n",
       "      <td>filter1&lt;--&gt;filter62</td>\n",
       "      <td>259</td>\n",
       "      <td>M0942_1.02</td>\n",
       "      <td>0.00523</td>\n",
       "      <td>M0199_1.02</td>\n",
       "      <td>0.007158</td>\n",
       "      <td>594.0</td>\n",
       "      <td>504.0</td>\n",
       "      <td>959.0</td>\n",
       "      <td>1998.0</td>\n",
       "      <td>3.818656e-03</td>\n",
       "      <td>2.869578e-02</td>\n",
       "      <td>IRX4</td>\n",
       "      <td>HES2</td>\n",
       "      <td>IRX4$\\longleftrightarrow$HES2</td>\n",
       "    </tr>\n",
       "    <tr>\n",
       "      <td>3</td>\n",
       "      <td>filter1&lt;--&gt;filter78</td>\n",
       "      <td>275</td>\n",
       "      <td>M0942_1.02</td>\n",
       "      <td>0.00523</td>\n",
       "      <td>M0408_1.02</td>\n",
       "      <td>0.003965</td>\n",
       "      <td>246.0</td>\n",
       "      <td>216.0</td>\n",
       "      <td>657.0</td>\n",
       "      <td>1306.0</td>\n",
       "      <td>5.760708e-04</td>\n",
       "      <td>5.263192e-03</td>\n",
       "      <td>IRX4</td>\n",
       "      <td>ZKSCAN1</td>\n",
       "      <td>IRX4$\\longleftrightarrow$ZKSCAN1</td>\n",
       "    </tr>\n",
       "    <tr>\n",
       "      <td>4</td>\n",
       "      <td>filter1&lt;--&gt;filter84</td>\n",
       "      <td>281</td>\n",
       "      <td>M0942_1.02</td>\n",
       "      <td>0.00523</td>\n",
       "      <td>M6257_1.02</td>\n",
       "      <td>0.013672</td>\n",
       "      <td>216.0</td>\n",
       "      <td>264.0</td>\n",
       "      <td>902.0</td>\n",
       "      <td>1522.0</td>\n",
       "      <td>3.029695e-17</td>\n",
       "      <td>1.325009e-15</td>\n",
       "      <td>IRX4</td>\n",
       "      <td>GATA5</td>\n",
       "      <td>IRX4$\\longleftrightarrow$GATA5</td>\n",
       "    </tr>\n",
       "  </tbody>\n",
       "</table>\n",
       "</div>"
      ],
      "text/plain": [
       "    filter_interaction  example_no      motif1  motif1_qval      motif2  \\\n",
       "0  filter1<-->filter10         207  M0942_1.02      0.00523  M0994_1.02   \n",
       "1  filter1<-->filter61         258  M0942_1.02      0.00523  M4850_1.02   \n",
       "2  filter1<-->filter62         259  M0942_1.02      0.00523  M0199_1.02   \n",
       "3  filter1<-->filter78         275  M0942_1.02      0.00523  M0408_1.02   \n",
       "4  filter1<-->filter84         281  M0942_1.02      0.00523  M6257_1.02   \n",
       "\n",
       "   motif2_qval  mean_distance  mean_distance_bg  num_obs  num_obs_bg  \\\n",
       "0     0.003152          354.0             234.0    447.0       851.0   \n",
       "1     0.003998          282.0             216.0    541.0      1503.0   \n",
       "2     0.007158          594.0             504.0    959.0      1998.0   \n",
       "3     0.003965          246.0             216.0    657.0      1306.0   \n",
       "4     0.013672          216.0             264.0    902.0      1522.0   \n",
       "\n",
       "           pval  adjusted_pval   TF1      TF2  \\\n",
       "0  1.110898e-10   2.904831e-09  IRX4     SIX4   \n",
       "1  2.020271e-03   1.621677e-02  IRX4    TCF15   \n",
       "2  3.818656e-03   2.869578e-02  IRX4     HES2   \n",
       "3  5.760708e-04   5.263192e-03  IRX4  ZKSCAN1   \n",
       "4  3.029695e-17   1.325009e-15  IRX4    GATA5   \n",
       "\n",
       "                     TF_Interaction  \n",
       "0     IRX4$\\longleftrightarrow$SIX4  \n",
       "1    IRX4$\\longleftrightarrow$TCF15  \n",
       "2     IRX4$\\longleftrightarrow$HES2  \n",
       "3  IRX4$\\longleftrightarrow$ZKSCAN1  \n",
       "4    IRX4$\\longleftrightarrow$GATA5  "
      ]
     },
     "execution_count": 14,
     "metadata": {},
     "output_type": "execute_result"
    }
   ],
   "source": [
    "df.head()"
   ]
  },
  {
   "cell_type": "code",
   "execution_count": 15,
   "metadata": {},
   "outputs": [
    {
     "data": {
      "text/plain": [
       "(359, 15)"
      ]
     },
     "execution_count": 15,
     "metadata": {},
     "output_type": "execute_result"
    }
   ],
   "source": [
    "df.shape"
   ]
  },
  {
   "cell_type": "markdown",
   "metadata": {},
   "source": [
    "## Most Frequent TF Family Interactions"
   ]
  },
  {
   "cell_type": "code",
   "execution_count": 16,
   "metadata": {},
   "outputs": [],
   "source": [
    "tf_family_dict = {}\n",
    "for TF in df_annotate['TF_Name']:\n",
    "    tf_family_dict[TF] = df_annotate[df_annotate['TF_Name']==TF]['Family_Name'].iloc[0]\n",
    "df['TF1_Family'] = df['TF1'].apply(lambda x: tf_family_dict[x] if x in tf_family_dict else 'UNKNOWN')\n",
    "df['TF2_Family'] = df['TF2'].apply(lambda x: tf_family_dict[x] if x in tf_family_dict else 'UNKNOWN')"
   ]
  },
  {
   "cell_type": "code",
   "execution_count": 17,
   "metadata": {},
   "outputs": [],
   "source": [
    "df['Family_Interaction'] = df.apply(lambda x: x['TF1_Family']+r'$\\longleftrightarrow$'+x['TF2_Family'],axis=1)"
   ]
  },
  {
   "cell_type": "code",
   "execution_count": 18,
   "metadata": {},
   "outputs": [],
   "source": [
    "df = process_for_redundant_interactions(df, intr_type='Family')"
   ]
  },
  {
   "cell_type": "code",
   "execution_count": 19,
   "metadata": {},
   "outputs": [
    {
     "data": {
      "text/html": [
       "<div>\n",
       "<style scoped>\n",
       "    .dataframe tbody tr th:only-of-type {\n",
       "        vertical-align: middle;\n",
       "    }\n",
       "\n",
       "    .dataframe tbody tr th {\n",
       "        vertical-align: top;\n",
       "    }\n",
       "\n",
       "    .dataframe thead th {\n",
       "        text-align: right;\n",
       "    }\n",
       "</style>\n",
       "<table border=\"1\" class=\"dataframe\">\n",
       "  <thead>\n",
       "    <tr style=\"text-align: right;\">\n",
       "      <th></th>\n",
       "      <th>filter_interaction</th>\n",
       "      <th>example_no</th>\n",
       "      <th>motif1</th>\n",
       "      <th>motif1_qval</th>\n",
       "      <th>motif2</th>\n",
       "      <th>motif2_qval</th>\n",
       "      <th>mean_distance</th>\n",
       "      <th>mean_distance_bg</th>\n",
       "      <th>num_obs</th>\n",
       "      <th>num_obs_bg</th>\n",
       "      <th>pval</th>\n",
       "      <th>adjusted_pval</th>\n",
       "      <th>TF1</th>\n",
       "      <th>TF2</th>\n",
       "      <th>TF_Interaction</th>\n",
       "      <th>TF1_Family</th>\n",
       "      <th>TF2_Family</th>\n",
       "      <th>Family_Interaction</th>\n",
       "    </tr>\n",
       "  </thead>\n",
       "  <tbody>\n",
       "    <tr>\n",
       "      <td>0</td>\n",
       "      <td>filter1&lt;--&gt;filter10</td>\n",
       "      <td>207</td>\n",
       "      <td>M0942_1.02</td>\n",
       "      <td>0.00523</td>\n",
       "      <td>M0994_1.02</td>\n",
       "      <td>0.003152</td>\n",
       "      <td>354.0</td>\n",
       "      <td>234.0</td>\n",
       "      <td>447.0</td>\n",
       "      <td>851.0</td>\n",
       "      <td>1.110898e-10</td>\n",
       "      <td>2.904831e-09</td>\n",
       "      <td>IRX4</td>\n",
       "      <td>SIX4</td>\n",
       "      <td>IRX4$\\longleftrightarrow$SIX4</td>\n",
       "      <td>Homeodomain</td>\n",
       "      <td>Homeodomain</td>\n",
       "      <td>Homeodomain$\\longleftrightarrow$Homeodomain</td>\n",
       "    </tr>\n",
       "    <tr>\n",
       "      <td>1</td>\n",
       "      <td>filter1&lt;--&gt;filter61</td>\n",
       "      <td>258</td>\n",
       "      <td>M0942_1.02</td>\n",
       "      <td>0.00523</td>\n",
       "      <td>M4850_1.02</td>\n",
       "      <td>0.003998</td>\n",
       "      <td>282.0</td>\n",
       "      <td>216.0</td>\n",
       "      <td>541.0</td>\n",
       "      <td>1503.0</td>\n",
       "      <td>2.020271e-03</td>\n",
       "      <td>1.621677e-02</td>\n",
       "      <td>IRX4</td>\n",
       "      <td>TCF15</td>\n",
       "      <td>IRX4$\\longleftrightarrow$TCF15</td>\n",
       "      <td>Homeodomain</td>\n",
       "      <td>bHLH</td>\n",
       "      <td>Homeodomain$\\longleftrightarrow$bHLH</td>\n",
       "    </tr>\n",
       "    <tr>\n",
       "      <td>2</td>\n",
       "      <td>filter1&lt;--&gt;filter62</td>\n",
       "      <td>259</td>\n",
       "      <td>M0942_1.02</td>\n",
       "      <td>0.00523</td>\n",
       "      <td>M0199_1.02</td>\n",
       "      <td>0.007158</td>\n",
       "      <td>594.0</td>\n",
       "      <td>504.0</td>\n",
       "      <td>959.0</td>\n",
       "      <td>1998.0</td>\n",
       "      <td>3.818656e-03</td>\n",
       "      <td>2.869578e-02</td>\n",
       "      <td>IRX4</td>\n",
       "      <td>HES2</td>\n",
       "      <td>IRX4$\\longleftrightarrow$HES2</td>\n",
       "      <td>Homeodomain</td>\n",
       "      <td>bHLH</td>\n",
       "      <td>Homeodomain$\\longleftrightarrow$bHLH</td>\n",
       "    </tr>\n",
       "    <tr>\n",
       "      <td>3</td>\n",
       "      <td>filter1&lt;--&gt;filter78</td>\n",
       "      <td>275</td>\n",
       "      <td>M0942_1.02</td>\n",
       "      <td>0.00523</td>\n",
       "      <td>M0408_1.02</td>\n",
       "      <td>0.003965</td>\n",
       "      <td>246.0</td>\n",
       "      <td>216.0</td>\n",
       "      <td>657.0</td>\n",
       "      <td>1306.0</td>\n",
       "      <td>5.760708e-04</td>\n",
       "      <td>5.263192e-03</td>\n",
       "      <td>IRX4</td>\n",
       "      <td>ZKSCAN1</td>\n",
       "      <td>IRX4$\\longleftrightarrow$ZKSCAN1</td>\n",
       "      <td>Homeodomain</td>\n",
       "      <td>C2H2 ZF</td>\n",
       "      <td>Homeodomain$\\longleftrightarrow$C2H2 ZF</td>\n",
       "    </tr>\n",
       "    <tr>\n",
       "      <td>4</td>\n",
       "      <td>filter1&lt;--&gt;filter84</td>\n",
       "      <td>281</td>\n",
       "      <td>M0942_1.02</td>\n",
       "      <td>0.00523</td>\n",
       "      <td>M6257_1.02</td>\n",
       "      <td>0.013672</td>\n",
       "      <td>216.0</td>\n",
       "      <td>264.0</td>\n",
       "      <td>902.0</td>\n",
       "      <td>1522.0</td>\n",
       "      <td>3.029695e-17</td>\n",
       "      <td>1.325009e-15</td>\n",
       "      <td>IRX4</td>\n",
       "      <td>GATA5</td>\n",
       "      <td>IRX4$\\longleftrightarrow$GATA5</td>\n",
       "      <td>Homeodomain</td>\n",
       "      <td>GATA</td>\n",
       "      <td>Homeodomain$\\longleftrightarrow$GATA</td>\n",
       "    </tr>\n",
       "  </tbody>\n",
       "</table>\n",
       "</div>"
      ],
      "text/plain": [
       "    filter_interaction  example_no      motif1  motif1_qval      motif2  \\\n",
       "0  filter1<-->filter10         207  M0942_1.02      0.00523  M0994_1.02   \n",
       "1  filter1<-->filter61         258  M0942_1.02      0.00523  M4850_1.02   \n",
       "2  filter1<-->filter62         259  M0942_1.02      0.00523  M0199_1.02   \n",
       "3  filter1<-->filter78         275  M0942_1.02      0.00523  M0408_1.02   \n",
       "4  filter1<-->filter84         281  M0942_1.02      0.00523  M6257_1.02   \n",
       "\n",
       "   motif2_qval  mean_distance  mean_distance_bg  num_obs  num_obs_bg  \\\n",
       "0     0.003152          354.0             234.0    447.0       851.0   \n",
       "1     0.003998          282.0             216.0    541.0      1503.0   \n",
       "2     0.007158          594.0             504.0    959.0      1998.0   \n",
       "3     0.003965          246.0             216.0    657.0      1306.0   \n",
       "4     0.013672          216.0             264.0    902.0      1522.0   \n",
       "\n",
       "           pval  adjusted_pval   TF1      TF2  \\\n",
       "0  1.110898e-10   2.904831e-09  IRX4     SIX4   \n",
       "1  2.020271e-03   1.621677e-02  IRX4    TCF15   \n",
       "2  3.818656e-03   2.869578e-02  IRX4     HES2   \n",
       "3  5.760708e-04   5.263192e-03  IRX4  ZKSCAN1   \n",
       "4  3.029695e-17   1.325009e-15  IRX4    GATA5   \n",
       "\n",
       "                     TF_Interaction   TF1_Family   TF2_Family  \\\n",
       "0     IRX4$\\longleftrightarrow$SIX4  Homeodomain  Homeodomain   \n",
       "1    IRX4$\\longleftrightarrow$TCF15  Homeodomain         bHLH   \n",
       "2     IRX4$\\longleftrightarrow$HES2  Homeodomain         bHLH   \n",
       "3  IRX4$\\longleftrightarrow$ZKSCAN1  Homeodomain      C2H2 ZF   \n",
       "4    IRX4$\\longleftrightarrow$GATA5  Homeodomain         GATA   \n",
       "\n",
       "                            Family_Interaction  \n",
       "0  Homeodomain$\\longleftrightarrow$Homeodomain  \n",
       "1         Homeodomain$\\longleftrightarrow$bHLH  \n",
       "2         Homeodomain$\\longleftrightarrow$bHLH  \n",
       "3      Homeodomain$\\longleftrightarrow$C2H2 ZF  \n",
       "4         Homeodomain$\\longleftrightarrow$GATA  "
      ]
     },
     "execution_count": 19,
     "metadata": {},
     "output_type": "execute_result"
    }
   ],
   "source": [
    "df.head()"
   ]
  },
  {
   "cell_type": "code",
   "execution_count": 20,
   "metadata": {},
   "outputs": [],
   "source": [
    "df['filter_interaction'] = df['filter_interaction'].apply(lambda x: x.replace('<-->',r'$\\longleftrightarrow$'))"
   ]
  },
  {
   "cell_type": "code",
   "execution_count": 21,
   "metadata": {},
   "outputs": [
    {
     "data": {
      "text/html": [
       "<div>\n",
       "<style scoped>\n",
       "    .dataframe tbody tr th:only-of-type {\n",
       "        vertical-align: middle;\n",
       "    }\n",
       "\n",
       "    .dataframe tbody tr th {\n",
       "        vertical-align: top;\n",
       "    }\n",
       "\n",
       "    .dataframe thead th {\n",
       "        text-align: right;\n",
       "    }\n",
       "</style>\n",
       "<table border=\"1\" class=\"dataframe\">\n",
       "  <thead>\n",
       "    <tr style=\"text-align: right;\">\n",
       "      <th></th>\n",
       "      <th>filter_interaction</th>\n",
       "      <th>example_no</th>\n",
       "      <th>motif1</th>\n",
       "      <th>motif1_qval</th>\n",
       "      <th>motif2</th>\n",
       "      <th>motif2_qval</th>\n",
       "      <th>mean_distance</th>\n",
       "      <th>mean_distance_bg</th>\n",
       "      <th>num_obs</th>\n",
       "      <th>num_obs_bg</th>\n",
       "      <th>pval</th>\n",
       "      <th>adjusted_pval</th>\n",
       "      <th>TF1</th>\n",
       "      <th>TF2</th>\n",
       "      <th>TF_Interaction</th>\n",
       "      <th>TF1_Family</th>\n",
       "      <th>TF2_Family</th>\n",
       "      <th>Family_Interaction</th>\n",
       "    </tr>\n",
       "  </thead>\n",
       "  <tbody>\n",
       "    <tr>\n",
       "      <td>0</td>\n",
       "      <td>filter1$\\longleftrightarrow$filter10</td>\n",
       "      <td>207</td>\n",
       "      <td>M0942_1.02</td>\n",
       "      <td>0.00523</td>\n",
       "      <td>M0994_1.02</td>\n",
       "      <td>0.003152</td>\n",
       "      <td>354.0</td>\n",
       "      <td>234.0</td>\n",
       "      <td>447.0</td>\n",
       "      <td>851.0</td>\n",
       "      <td>1.110898e-10</td>\n",
       "      <td>2.904831e-09</td>\n",
       "      <td>IRX4</td>\n",
       "      <td>SIX4</td>\n",
       "      <td>IRX4$\\longleftrightarrow$SIX4</td>\n",
       "      <td>Homeodomain</td>\n",
       "      <td>Homeodomain</td>\n",
       "      <td>Homeodomain$\\longleftrightarrow$Homeodomain</td>\n",
       "    </tr>\n",
       "    <tr>\n",
       "      <td>1</td>\n",
       "      <td>filter1$\\longleftrightarrow$filter61</td>\n",
       "      <td>258</td>\n",
       "      <td>M0942_1.02</td>\n",
       "      <td>0.00523</td>\n",
       "      <td>M4850_1.02</td>\n",
       "      <td>0.003998</td>\n",
       "      <td>282.0</td>\n",
       "      <td>216.0</td>\n",
       "      <td>541.0</td>\n",
       "      <td>1503.0</td>\n",
       "      <td>2.020271e-03</td>\n",
       "      <td>1.621677e-02</td>\n",
       "      <td>IRX4</td>\n",
       "      <td>TCF15</td>\n",
       "      <td>IRX4$\\longleftrightarrow$TCF15</td>\n",
       "      <td>Homeodomain</td>\n",
       "      <td>bHLH</td>\n",
       "      <td>Homeodomain$\\longleftrightarrow$bHLH</td>\n",
       "    </tr>\n",
       "    <tr>\n",
       "      <td>2</td>\n",
       "      <td>filter1$\\longleftrightarrow$filter62</td>\n",
       "      <td>259</td>\n",
       "      <td>M0942_1.02</td>\n",
       "      <td>0.00523</td>\n",
       "      <td>M0199_1.02</td>\n",
       "      <td>0.007158</td>\n",
       "      <td>594.0</td>\n",
       "      <td>504.0</td>\n",
       "      <td>959.0</td>\n",
       "      <td>1998.0</td>\n",
       "      <td>3.818656e-03</td>\n",
       "      <td>2.869578e-02</td>\n",
       "      <td>IRX4</td>\n",
       "      <td>HES2</td>\n",
       "      <td>IRX4$\\longleftrightarrow$HES2</td>\n",
       "      <td>Homeodomain</td>\n",
       "      <td>bHLH</td>\n",
       "      <td>Homeodomain$\\longleftrightarrow$bHLH</td>\n",
       "    </tr>\n",
       "    <tr>\n",
       "      <td>3</td>\n",
       "      <td>filter1$\\longleftrightarrow$filter78</td>\n",
       "      <td>275</td>\n",
       "      <td>M0942_1.02</td>\n",
       "      <td>0.00523</td>\n",
       "      <td>M0408_1.02</td>\n",
       "      <td>0.003965</td>\n",
       "      <td>246.0</td>\n",
       "      <td>216.0</td>\n",
       "      <td>657.0</td>\n",
       "      <td>1306.0</td>\n",
       "      <td>5.760708e-04</td>\n",
       "      <td>5.263192e-03</td>\n",
       "      <td>IRX4</td>\n",
       "      <td>ZKSCAN1</td>\n",
       "      <td>IRX4$\\longleftrightarrow$ZKSCAN1</td>\n",
       "      <td>Homeodomain</td>\n",
       "      <td>C2H2 ZF</td>\n",
       "      <td>Homeodomain$\\longleftrightarrow$C2H2 ZF</td>\n",
       "    </tr>\n",
       "    <tr>\n",
       "      <td>4</td>\n",
       "      <td>filter1$\\longleftrightarrow$filter84</td>\n",
       "      <td>281</td>\n",
       "      <td>M0942_1.02</td>\n",
       "      <td>0.00523</td>\n",
       "      <td>M6257_1.02</td>\n",
       "      <td>0.013672</td>\n",
       "      <td>216.0</td>\n",
       "      <td>264.0</td>\n",
       "      <td>902.0</td>\n",
       "      <td>1522.0</td>\n",
       "      <td>3.029695e-17</td>\n",
       "      <td>1.325009e-15</td>\n",
       "      <td>IRX4</td>\n",
       "      <td>GATA5</td>\n",
       "      <td>IRX4$\\longleftrightarrow$GATA5</td>\n",
       "      <td>Homeodomain</td>\n",
       "      <td>GATA</td>\n",
       "      <td>Homeodomain$\\longleftrightarrow$GATA</td>\n",
       "    </tr>\n",
       "  </tbody>\n",
       "</table>\n",
       "</div>"
      ],
      "text/plain": [
       "                     filter_interaction  example_no      motif1  motif1_qval  \\\n",
       "0  filter1$\\longleftrightarrow$filter10         207  M0942_1.02      0.00523   \n",
       "1  filter1$\\longleftrightarrow$filter61         258  M0942_1.02      0.00523   \n",
       "2  filter1$\\longleftrightarrow$filter62         259  M0942_1.02      0.00523   \n",
       "3  filter1$\\longleftrightarrow$filter78         275  M0942_1.02      0.00523   \n",
       "4  filter1$\\longleftrightarrow$filter84         281  M0942_1.02      0.00523   \n",
       "\n",
       "       motif2  motif2_qval  mean_distance  mean_distance_bg  num_obs  \\\n",
       "0  M0994_1.02     0.003152          354.0             234.0    447.0   \n",
       "1  M4850_1.02     0.003998          282.0             216.0    541.0   \n",
       "2  M0199_1.02     0.007158          594.0             504.0    959.0   \n",
       "3  M0408_1.02     0.003965          246.0             216.0    657.0   \n",
       "4  M6257_1.02     0.013672          216.0             264.0    902.0   \n",
       "\n",
       "   num_obs_bg          pval  adjusted_pval   TF1      TF2  \\\n",
       "0       851.0  1.110898e-10   2.904831e-09  IRX4     SIX4   \n",
       "1      1503.0  2.020271e-03   1.621677e-02  IRX4    TCF15   \n",
       "2      1998.0  3.818656e-03   2.869578e-02  IRX4     HES2   \n",
       "3      1306.0  5.760708e-04   5.263192e-03  IRX4  ZKSCAN1   \n",
       "4      1522.0  3.029695e-17   1.325009e-15  IRX4    GATA5   \n",
       "\n",
       "                     TF_Interaction   TF1_Family   TF2_Family  \\\n",
       "0     IRX4$\\longleftrightarrow$SIX4  Homeodomain  Homeodomain   \n",
       "1    IRX4$\\longleftrightarrow$TCF15  Homeodomain         bHLH   \n",
       "2     IRX4$\\longleftrightarrow$HES2  Homeodomain         bHLH   \n",
       "3  IRX4$\\longleftrightarrow$ZKSCAN1  Homeodomain      C2H2 ZF   \n",
       "4    IRX4$\\longleftrightarrow$GATA5  Homeodomain         GATA   \n",
       "\n",
       "                            Family_Interaction  \n",
       "0  Homeodomain$\\longleftrightarrow$Homeodomain  \n",
       "1         Homeodomain$\\longleftrightarrow$bHLH  \n",
       "2         Homeodomain$\\longleftrightarrow$bHLH  \n",
       "3      Homeodomain$\\longleftrightarrow$C2H2 ZF  \n",
       "4         Homeodomain$\\longleftrightarrow$GATA  "
      ]
     },
     "execution_count": 21,
     "metadata": {},
     "output_type": "execute_result"
    }
   ],
   "source": [
    "df.head()"
   ]
  },
  {
   "cell_type": "code",
   "execution_count": 22,
   "metadata": {},
   "outputs": [],
   "source": [
    "df.to_csv('output/TAL-GATA_interactions.csv')"
   ]
  },
  {
   "cell_type": "markdown",
   "metadata": {},
   "source": [
    "### Distribution of individual TF or TF family interactions"
   ]
  },
  {
   "cell_type": "code",
   "execution_count": 23,
   "metadata": {
    "scrolled": false
   },
   "outputs": [
    {
     "data": {
      "image/png": "[encoded data removed]",
      "text/plain": [
       "<Figure size 1296x432 with 1 Axes>"
      ]
     },
     "metadata": {
      "needs_background": "light"
     },
     "output_type": "display_data"
    }
   ],
   "source": [
    "plot_frequent_interactions(df, intr_level='Family_Interaction', first_n=15)"
   ]
  },
  {
   "cell_type": "markdown",
   "metadata": {},
   "source": [
    "### Plot interaction distance distribution"
   ]
  },
  {
   "cell_type": "code",
   "execution_count": 24,
   "metadata": {
    "scrolled": false
   },
   "outputs": [
    {
     "data": {
      "image/png": "[encoded data removed]",
      "text/plain": [
       "<Figure size 576x432 with 1 Axes>"
      ]
     },
     "metadata": {
      "needs_background": "light"
     },
     "output_type": "display_data"
    }
   ],
   "source": [
    "plot_interaction_distance_distribution(df, nbins=50, fig_size=(8,6))"
   ]
  },
  {
   "cell_type": "code",
   "execution_count": 25,
   "metadata": {},
   "outputs": [
    {
     "data": {
      "text/plain": [
       "(271.7883008356546, 276.0)"
      ]
     },
     "execution_count": 25,
     "metadata": {},
     "output_type": "execute_result"
    }
   ],
   "source": [
    "df['mean_distance'].mean(), df['mean_distance'].median()"
   ]
  },
  {
   "cell_type": "markdown",
   "metadata": {},
   "source": [
    "### Most frequent interactions and their respective interaction distances"
   ]
  },
  {
   "cell_type": "code",
   "execution_count": 26,
   "metadata": {},
   "outputs": [
    {
     "data": {
      "image/png": "[encoded data removed]",
      "text/plain": [
       "<Figure size 1296x360 with 2 Axes>"
      ]
     },
     "metadata": {
      "needs_background": "light"
     },
     "output_type": "display_data"
    }
   ],
   "source": [
    "plot_interactions_and_distances_boxplot(df, first_n=15, sort_distances=False, add_sub_caption=True, show_median_dist=True, store_pdf_path='output/TAL-GATA_main_distance_boxplot.pdf')"
   ]
  },
  {
   "cell_type": "code",
   "execution_count": 27,
   "metadata": {},
   "outputs": [
    {
     "data": {
      "image/png": "[encoded data removed]",
      "text/plain": [
       "<Figure size 1296x360 with 2 Axes>"
      ]
     },
     "metadata": {
      "needs_background": "light"
     },
     "output_type": "display_data"
    }
   ],
   "source": [
    "plot_interactions_and_distances_histogram(df, first_n=15, dist_nbins=25, add_sub_caption=True, show_median_dist=True, store_pdf_path='output/TAL-GATA_main_distance_histogram.pdf')"
   ]
  },
  {
   "cell_type": "markdown",
   "metadata": {},
   "source": [
    "### Annotate Interactions using TRRUSTv2 (and other sources)"
   ]
  },
  {
   "cell_type": "markdown",
   "metadata": {},
   "source": [
    "#### Read TRRUSTv2 interactions"
   ]
  },
  {
   "cell_type": "code",
   "execution_count": 28,
   "metadata": {},
   "outputs": [],
   "source": [
    "#dictionaries with genes/TFs as keys and [target_gene/TF, role, PUBMID ID] as value\n",
    "with open('/s/jawar/h/nobackup/fahad/Human_Chromatin/TRUSTv2/human_co-regulate_dict.pckl','rb') as f:\n",
    "    human_dict = pickle.load(f)"
   ]
  },
  {
   "cell_type": "code",
   "execution_count": 29,
   "metadata": {},
   "outputs": [],
   "source": [
    "df['Interaction_in_TRUSTv2'] = df['TF_Interaction'].apply(db_annotate_interaction, intr_dict = human_dict)"
   ]
  },
  {
   "cell_type": "code",
   "execution_count": 30,
   "metadata": {},
   "outputs": [],
   "source": [
    "df_resTRUSTv2 = df[df['Interaction_in_TRUSTv2']==1]"
   ]
  },
  {
   "cell_type": "code",
   "execution_count": 31,
   "metadata": {},
   "outputs": [
    {
     "data": {
      "text/html": [
       "<div>\n",
       "<style scoped>\n",
       "    .dataframe tbody tr th:only-of-type {\n",
       "        vertical-align: middle;\n",
       "    }\n",
       "\n",
       "    .dataframe tbody tr th {\n",
       "        vertical-align: top;\n",
       "    }\n",
       "\n",
       "    .dataframe thead th {\n",
       "        text-align: right;\n",
       "    }\n",
       "</style>\n",
       "<table border=\"1\" class=\"dataframe\">\n",
       "  <thead>\n",
       "    <tr style=\"text-align: right;\">\n",
       "      <th></th>\n",
       "      <th>TF_Interaction</th>\n",
       "      <th>TF1_Family</th>\n",
       "      <th>TF2_Family</th>\n",
       "      <th>adjusted_pval</th>\n",
       "    </tr>\n",
       "  </thead>\n",
       "  <tbody>\n",
       "  </tbody>\n",
       "</table>\n",
       "</div>"
      ],
      "text/plain": [
       "Empty DataFrame\n",
       "Columns: [TF_Interaction, TF1_Family, TF2_Family, adjusted_pval]\n",
       "Index: []"
      ]
     },
     "execution_count": 31,
     "metadata": {},
     "output_type": "execute_result"
    }
   ],
   "source": [
    "df_resTRUSTv2[['TF_Interaction','TF1_Family','TF2_Family','adjusted_pval']].sort_values(by='adjusted_pval').drop_duplicates('TF_Interaction')"
   ]
  },
  {
   "cell_type": "markdown",
   "metadata": {},
   "source": [
    "### Annotate Interactions using HIPPIE database"
   ]
  },
  {
   "cell_type": "markdown",
   "metadata": {},
   "source": [
    "#### Read hippie interactions"
   ]
  },
  {
   "cell_type": "code",
   "execution_count": 32,
   "metadata": {},
   "outputs": [],
   "source": [
    "#dictionaries with genes/TFs as keys and [target_gene/TF, role, PUBMID ID] as value\n",
    "with open('/s/jawar/h/nobackup/fahad/Human_Chromatin/Protein-interactions/hippie/interactions_dict.pckl','rb') as f:\n",
    "    human_dict = pickle.load(f)"
   ]
  },
  {
   "cell_type": "code",
   "execution_count": 33,
   "metadata": {},
   "outputs": [],
   "source": [
    "for key,value in human_dict.items():\n",
    "    human_dict[key] = np.array([[val, '', '0'] for val in value])"
   ]
  },
  {
   "cell_type": "code",
   "execution_count": 34,
   "metadata": {},
   "outputs": [],
   "source": [
    "df['Interaction_in_HIPPIE'] = df['TF_Interaction'].apply(db_annotate_interaction, intr_dict = human_dict)"
   ]
  },
  {
   "cell_type": "code",
   "execution_count": 35,
   "metadata": {},
   "outputs": [],
   "source": [
    "df_resHIPPIE = df[df['Interaction_in_HIPPIE']==1]"
   ]
  },
  {
   "cell_type": "code",
   "execution_count": 36,
   "metadata": {},
   "outputs": [
    {
     "data": {
      "text/html": [
       "<div>\n",
       "<style scoped>\n",
       "    .dataframe tbody tr th:only-of-type {\n",
       "        vertical-align: middle;\n",
       "    }\n",
       "\n",
       "    .dataframe tbody tr th {\n",
       "        vertical-align: top;\n",
       "    }\n",
       "\n",
       "    .dataframe thead th {\n",
       "        text-align: right;\n",
       "    }\n",
       "</style>\n",
       "<table border=\"1\" class=\"dataframe\">\n",
       "  <thead>\n",
       "    <tr style=\"text-align: right;\">\n",
       "      <th></th>\n",
       "      <th>TF_Interaction</th>\n",
       "      <th>TF1_Family</th>\n",
       "      <th>TF2_Family</th>\n",
       "      <th>adjusted_pval</th>\n",
       "    </tr>\n",
       "  </thead>\n",
       "  <tbody>\n",
       "    <tr>\n",
       "      <td>124</td>\n",
       "      <td>IRX4$\\longleftrightarrow$RXRB</td>\n",
       "      <td>Homeodomain</td>\n",
       "      <td>Nuclear receptor</td>\n",
       "      <td>0.000123</td>\n",
       "    </tr>\n",
       "    <tr>\n",
       "      <td>335</td>\n",
       "      <td>KDM2B$\\longleftrightarrow$HHEX</td>\n",
       "      <td>CxxC</td>\n",
       "      <td>Homeodomain</td>\n",
       "      <td>0.001875</td>\n",
       "    </tr>\n",
       "  </tbody>\n",
       "</table>\n",
       "</div>"
      ],
      "text/plain": [
       "                     TF_Interaction   TF1_Family        TF2_Family  \\\n",
       "124   IRX4$\\longleftrightarrow$RXRB  Homeodomain  Nuclear receptor   \n",
       "335  KDM2B$\\longleftrightarrow$HHEX         CxxC       Homeodomain   \n",
       "\n",
       "     adjusted_pval  \n",
       "124       0.000123  \n",
       "335       0.001875  "
      ]
     },
     "execution_count": 36,
     "metadata": {},
     "output_type": "execute_result"
    }
   ],
   "source": [
    "df_resHIPPIE[['TF_Interaction','TF1_Family','TF2_Family','adjusted_pval']].sort_values(by='adjusted_pval').drop_duplicates('TF_Interaction')"
   ]
  },
  {
   "cell_type": "code",
   "execution_count": null,
   "metadata": {},
   "outputs": [],
   "source": []
  },
  {
   "cell_type": "code",
   "execution_count": null,
   "metadata": {},
   "outputs": [],
   "source": []
  }
 ],
 "metadata": {
  "kernelspec": {
   "display_name": "Python 3",
   "language": "python",
   "name": "python3"
  },
  "language_info": {
   "codemirror_mode": {
    "name": "ipython",
    "version": 3
   },
   "file_extension": ".py",
   "mimetype": "text/x-python",
   "name": "python",
   "nbconvert_exporter": "python",
   "pygments_lexer": "ipython3",
   "version": "3.7.3"
  }
 },
 "nbformat": 4,
 "nbformat_minor": 2
}